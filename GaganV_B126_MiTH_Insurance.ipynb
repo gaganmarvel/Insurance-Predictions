{
 "cells": [
  {
   "cell_type": "code",
   "execution_count": 1,
   "id": "f6393415",
   "metadata": {
    "id": "f6393415"
   },
   "outputs": [],
   "source": [
    "import pandas as pd\n",
    "import numpy as np\n",
    "import matplotlib.pyplot as plt\n",
    "import seaborn as sns\n",
    "from sklearn.preprocessing import LabelEncoder\n",
    "from sklearn.model_selection import train_test_split\n",
    "from sklearn.naive_bayes import GaussianNB, MultinomialNB, BernoulliNB\n",
    "from sklearn.linear_model import LogisticRegression\n",
    "from sklearn.tree import DecisionTreeClassifier\n",
    "from sklearn.ensemble import RandomForestClassifier\n",
    "from sklearn.ensemble import AdaBoostClassifier, GradientBoostingClassifier\n",
    "from sklearn.model_selection import GridSearchCV\n",
    "from scipy.stats import randint\n",
    "from sklearn import metrics\n",
    "from sklearn.metrics import classification_report, confusion_matrix, accuracy_score, recall_score, precision_score, auc, roc_curve\n",
    "import warnings\n",
    "warnings.filterwarnings('ignore')"
   ]
  },
  {
   "cell_type": "markdown",
   "id": "06c10e7a",
   "metadata": {
    "id": "06c10e7a"
   },
   "source": [
    "## Importing and merging Train data"
   ]
  },
  {
   "cell_type": "code",
   "execution_count": 2,
   "id": "82cf4c0e",
   "metadata": {
    "colab": {
     "base_uri": "https://localhost:8080/",
     "height": 423
    },
    "id": "82cf4c0e",
    "outputId": "4039f75d-c9ea-4e49-9872-77fa97fb6470"
   },
   "outputs": [
    {
     "data": {
      "text/html": [
       "<div>\n",
       "<style scoped>\n",
       "    .dataframe tbody tr th:only-of-type {\n",
       "        vertical-align: middle;\n",
       "    }\n",
       "\n",
       "    .dataframe tbody tr th {\n",
       "        vertical-align: top;\n",
       "    }\n",
       "\n",
       "    .dataframe thead th {\n",
       "        text-align: right;\n",
       "    }\n",
       "</style>\n",
       "<table border=\"1\" class=\"dataframe\">\n",
       "  <thead>\n",
       "    <tr style=\"text-align: right;\">\n",
       "      <th></th>\n",
       "      <th>Claim Number</th>\n",
       "      <th>City Code</th>\n",
       "      <th>City</th>\n",
       "      <th>Enterprise Type</th>\n",
       "      <th>Claim Type</th>\n",
       "      <th>Claim Site</th>\n",
       "      <th>Product Insured</th>\n",
       "    </tr>\n",
       "  </thead>\n",
       "  <tbody>\n",
       "    <tr>\n",
       "      <th>0</th>\n",
       "      <td>DQW1NZO0PL</td>\n",
       "      <td>NSK</td>\n",
       "      <td>Nashik</td>\n",
       "      <td>Public Limited Company</td>\n",
       "      <td>Property Loss</td>\n",
       "      <td>In Transit</td>\n",
       "      <td>Inventory - Raw Material</td>\n",
       "    </tr>\n",
       "    <tr>\n",
       "      <th>1</th>\n",
       "      <td>JS5GAPRN5B</td>\n",
       "      <td>BOM</td>\n",
       "      <td>Mumbai</td>\n",
       "      <td>One Person Company</td>\n",
       "      <td>Property Loss</td>\n",
       "      <td>In Transit</td>\n",
       "      <td>Cameras and other Misc. Security Equipment</td>\n",
       "    </tr>\n",
       "    <tr>\n",
       "      <th>2</th>\n",
       "      <td>ZTSVAQSEAQ</td>\n",
       "      <td>LKO</td>\n",
       "      <td>Lucknow</td>\n",
       "      <td>Public Limited Company</td>\n",
       "      <td>Property Loss</td>\n",
       "      <td>In Transit</td>\n",
       "      <td>Fixtures</td>\n",
       "    </tr>\n",
       "    <tr>\n",
       "      <th>3</th>\n",
       "      <td>EW7NWHI7LI</td>\n",
       "      <td>DEL</td>\n",
       "      <td>Delhi</td>\n",
       "      <td>Sole Proprietorship</td>\n",
       "      <td>Property Loss</td>\n",
       "      <td>In Transit</td>\n",
       "      <td>Pumps and Motors</td>\n",
       "    </tr>\n",
       "    <tr>\n",
       "      <th>4</th>\n",
       "      <td>UJOFDC41EL</td>\n",
       "      <td>DEL</td>\n",
       "      <td>Delhi</td>\n",
       "      <td>One Person Company</td>\n",
       "      <td>Property Loss</td>\n",
       "      <td>In Transit</td>\n",
       "      <td>Misc. Engineering Tools</td>\n",
       "    </tr>\n",
       "    <tr>\n",
       "      <th>...</th>\n",
       "      <td>...</td>\n",
       "      <td>...</td>\n",
       "      <td>...</td>\n",
       "      <td>...</td>\n",
       "      <td>...</td>\n",
       "      <td>...</td>\n",
       "      <td>...</td>\n",
       "    </tr>\n",
       "    <tr>\n",
       "      <th>34105</th>\n",
       "      <td>5CFGWQ6IR5</td>\n",
       "      <td>AGR</td>\n",
       "      <td>Agra</td>\n",
       "      <td>Public Limited Company</td>\n",
       "      <td>Property Loss</td>\n",
       "      <td>In Transit</td>\n",
       "      <td>Misc. Engineering Tools</td>\n",
       "    </tr>\n",
       "    <tr>\n",
       "      <th>34106</th>\n",
       "      <td>QQ6EAWA4Q5</td>\n",
       "      <td>LKO</td>\n",
       "      <td>Lucknow</td>\n",
       "      <td>Partnership Firm</td>\n",
       "      <td>Property Damage</td>\n",
       "      <td>In Transit</td>\n",
       "      <td>Misc. Electronic Items</td>\n",
       "    </tr>\n",
       "    <tr>\n",
       "      <th>34107</th>\n",
       "      <td>X1J58PT1J5</td>\n",
       "      <td>HYD</td>\n",
       "      <td>Hyderabad</td>\n",
       "      <td>One Person Company</td>\n",
       "      <td>Property Damage</td>\n",
       "      <td>In Transit</td>\n",
       "      <td>Misc. Electronic Items</td>\n",
       "    </tr>\n",
       "    <tr>\n",
       "      <th>34108</th>\n",
       "      <td>AGOXXE8KII</td>\n",
       "      <td>MAA</td>\n",
       "      <td>Chennai</td>\n",
       "      <td>Sole Proprietorship</td>\n",
       "      <td>Property Damage</td>\n",
       "      <td>Warehouse</td>\n",
       "      <td>Pumps and Motors</td>\n",
       "    </tr>\n",
       "    <tr>\n",
       "      <th>34109</th>\n",
       "      <td>WT5RH23GPC</td>\n",
       "      <td>LKO</td>\n",
       "      <td>Lucknow</td>\n",
       "      <td>Private Ltd. MSME - Medium</td>\n",
       "      <td>Property Loss</td>\n",
       "      <td>In Transit</td>\n",
       "      <td>Inventory - Raw Material</td>\n",
       "    </tr>\n",
       "  </tbody>\n",
       "</table>\n",
       "<p>34110 rows × 7 columns</p>\n",
       "</div>"
      ],
      "text/plain": [
       "      Claim Number City Code       City             Enterprise Type  \\\n",
       "0       DQW1NZO0PL       NSK     Nashik      Public Limited Company   \n",
       "1       JS5GAPRN5B       BOM     Mumbai          One Person Company   \n",
       "2       ZTSVAQSEAQ       LKO    Lucknow      Public Limited Company   \n",
       "3       EW7NWHI7LI       DEL      Delhi         Sole Proprietorship   \n",
       "4       UJOFDC41EL       DEL      Delhi          One Person Company   \n",
       "...            ...       ...        ...                         ...   \n",
       "34105   5CFGWQ6IR5       AGR       Agra      Public Limited Company   \n",
       "34106   QQ6EAWA4Q5       LKO    Lucknow            Partnership Firm   \n",
       "34107   X1J58PT1J5       HYD  Hyderabad          One Person Company   \n",
       "34108   AGOXXE8KII       MAA    Chennai         Sole Proprietorship   \n",
       "34109   WT5RH23GPC       LKO    Lucknow  Private Ltd. MSME - Medium   \n",
       "\n",
       "            Claim Type  Claim Site                             Product Insured  \n",
       "0        Property Loss  In Transit                    Inventory - Raw Material  \n",
       "1        Property Loss  In Transit  Cameras and other Misc. Security Equipment  \n",
       "2        Property Loss  In Transit                                    Fixtures  \n",
       "3        Property Loss  In Transit                            Pumps and Motors  \n",
       "4        Property Loss  In Transit                     Misc. Engineering Tools  \n",
       "...                ...         ...                                         ...  \n",
       "34105    Property Loss  In Transit                     Misc. Engineering Tools  \n",
       "34106  Property Damage  In Transit                      Misc. Electronic Items  \n",
       "34107  Property Damage  In Transit                      Misc. Electronic Items  \n",
       "34108  Property Damage   Warehouse                            Pumps and Motors  \n",
       "34109    Property Loss  In Transit                    Inventory - Raw Material  \n",
       "\n",
       "[34110 rows x 7 columns]"
      ]
     },
     "execution_count": 2,
     "metadata": {},
     "output_type": "execute_result"
    }
   ],
   "source": [
    "data1 = pd.read_csv('Insurance_Claim_Info_data.csv')\n",
    "data1"
   ]
  },
  {
   "cell_type": "code",
   "execution_count": 3,
   "id": "fc175d76",
   "metadata": {
    "colab": {
     "base_uri": "https://localhost:8080/",
     "height": 423
    },
    "id": "fc175d76",
    "outputId": "660da5b0-80d7-4013-afd8-cdb9d913667e"
   },
   "outputs": [
    {
     "data": {
      "text/html": [
       "<div>\n",
       "<style scoped>\n",
       "    .dataframe tbody tr th:only-of-type {\n",
       "        vertical-align: middle;\n",
       "    }\n",
       "\n",
       "    .dataframe tbody tr th {\n",
       "        vertical-align: top;\n",
       "    }\n",
       "\n",
       "    .dataframe thead th {\n",
       "        text-align: right;\n",
       "    }\n",
       "</style>\n",
       "<table border=\"1\" class=\"dataframe\">\n",
       "  <thead>\n",
       "    <tr style=\"text-align: right;\">\n",
       "      <th></th>\n",
       "      <th>Claim Number</th>\n",
       "      <th>Incident Date</th>\n",
       "      <th>Date Received</th>\n",
       "    </tr>\n",
       "  </thead>\n",
       "  <tbody>\n",
       "    <tr>\n",
       "      <th>0</th>\n",
       "      <td>BCHKRDM32K</td>\n",
       "      <td>21-10-2007</td>\n",
       "      <td>31-10-2007</td>\n",
       "    </tr>\n",
       "    <tr>\n",
       "      <th>1</th>\n",
       "      <td>B3GPD5IZQW</td>\n",
       "      <td>26-05-2006</td>\n",
       "      <td>14-06-2006</td>\n",
       "    </tr>\n",
       "    <tr>\n",
       "      <th>2</th>\n",
       "      <td>EB757CV6XW</td>\n",
       "      <td>18-01-2004</td>\n",
       "      <td>10-02-2004</td>\n",
       "    </tr>\n",
       "    <tr>\n",
       "      <th>3</th>\n",
       "      <td>SP0Z0Q95OV</td>\n",
       "      <td>28-04-2004</td>\n",
       "      <td>06-05-2004</td>\n",
       "    </tr>\n",
       "    <tr>\n",
       "      <th>4</th>\n",
       "      <td>VKZUK7J3KK</td>\n",
       "      <td>04-11-2007</td>\n",
       "      <td>14-11-2007</td>\n",
       "    </tr>\n",
       "    <tr>\n",
       "      <th>...</th>\n",
       "      <td>...</td>\n",
       "      <td>...</td>\n",
       "      <td>...</td>\n",
       "    </tr>\n",
       "    <tr>\n",
       "      <th>34105</th>\n",
       "      <td>AF9GJPNKEX</td>\n",
       "      <td>04-11-2004</td>\n",
       "      <td>18-11-2004</td>\n",
       "    </tr>\n",
       "    <tr>\n",
       "      <th>34106</th>\n",
       "      <td>IB6C791V95</td>\n",
       "      <td>23-12-2005</td>\n",
       "      <td>23-02-2006</td>\n",
       "    </tr>\n",
       "    <tr>\n",
       "      <th>34107</th>\n",
       "      <td>PGEDMDDHC2</td>\n",
       "      <td>07-09-2007</td>\n",
       "      <td>11-09-2007</td>\n",
       "    </tr>\n",
       "    <tr>\n",
       "      <th>34108</th>\n",
       "      <td>MNSM4JN71E</td>\n",
       "      <td>05-12-2004</td>\n",
       "      <td>28-12-2004</td>\n",
       "    </tr>\n",
       "    <tr>\n",
       "      <th>34109</th>\n",
       "      <td>5YKXQ6YTNM</td>\n",
       "      <td>12-05-2007</td>\n",
       "      <td>24-09-2007</td>\n",
       "    </tr>\n",
       "  </tbody>\n",
       "</table>\n",
       "<p>34110 rows × 3 columns</p>\n",
       "</div>"
      ],
      "text/plain": [
       "      Claim Number Incident Date Date Received\n",
       "0       BCHKRDM32K    21-10-2007    31-10-2007\n",
       "1       B3GPD5IZQW    26-05-2006    14-06-2006\n",
       "2       EB757CV6XW    18-01-2004    10-02-2004\n",
       "3       SP0Z0Q95OV    28-04-2004    06-05-2004\n",
       "4       VKZUK7J3KK    04-11-2007    14-11-2007\n",
       "...            ...           ...           ...\n",
       "34105   AF9GJPNKEX    04-11-2004    18-11-2004\n",
       "34106   IB6C791V95    23-12-2005    23-02-2006\n",
       "34107   PGEDMDDHC2    07-09-2007    11-09-2007\n",
       "34108   MNSM4JN71E    05-12-2004    28-12-2004\n",
       "34109   5YKXQ6YTNM    12-05-2007    24-09-2007\n",
       "\n",
       "[34110 rows x 3 columns]"
      ]
     },
     "execution_count": 3,
     "metadata": {},
     "output_type": "execute_result"
    }
   ],
   "source": [
    "data2 = pd.read_csv('Insurance_Date_data.csv')\n",
    "data2"
   ]
  },
  {
   "cell_type": "code",
   "execution_count": 4,
   "id": "8bcc1342",
   "metadata": {
    "colab": {
     "base_uri": "https://localhost:8080/",
     "height": 423
    },
    "id": "8bcc1342",
    "outputId": "2583bea8-24c1-4a9d-fbed-a6bfc41d42c2"
   },
   "outputs": [
    {
     "data": {
      "text/html": [
       "<div>\n",
       "<style scoped>\n",
       "    .dataframe tbody tr th:only-of-type {\n",
       "        vertical-align: middle;\n",
       "    }\n",
       "\n",
       "    .dataframe tbody tr th {\n",
       "        vertical-align: top;\n",
       "    }\n",
       "\n",
       "    .dataframe thead th {\n",
       "        text-align: right;\n",
       "    }\n",
       "</style>\n",
       "<table border=\"1\" class=\"dataframe\">\n",
       "  <thead>\n",
       "    <tr style=\"text-align: right;\">\n",
       "      <th></th>\n",
       "      <th>Claim Number</th>\n",
       "      <th>Claim Amount</th>\n",
       "      <th>Close Amount</th>\n",
       "      <th>Disposition</th>\n",
       "    </tr>\n",
       "  </thead>\n",
       "  <tbody>\n",
       "    <tr>\n",
       "      <th>0</th>\n",
       "      <td>Y5VA9KOE89</td>\n",
       "      <td>100.00</td>\n",
       "      <td>0.00</td>\n",
       "      <td>Deny</td>\n",
       "    </tr>\n",
       "    <tr>\n",
       "      <th>1</th>\n",
       "      <td>P51DOJLR8W</td>\n",
       "      <td>199.99</td>\n",
       "      <td>0.00</td>\n",
       "      <td>Deny</td>\n",
       "    </tr>\n",
       "    <tr>\n",
       "      <th>2</th>\n",
       "      <td>OUUZFP7EFL</td>\n",
       "      <td>410.00</td>\n",
       "      <td>59.85</td>\n",
       "      <td>Settle</td>\n",
       "    </tr>\n",
       "    <tr>\n",
       "      <th>3</th>\n",
       "      <td>CGP3L1CCP2</td>\n",
       "      <td>240.00</td>\n",
       "      <td>0.00</td>\n",
       "      <td>Deny</td>\n",
       "    </tr>\n",
       "    <tr>\n",
       "      <th>4</th>\n",
       "      <td>JDFLPD7J9Z</td>\n",
       "      <td>11.36</td>\n",
       "      <td>11.36</td>\n",
       "      <td>Approve in Full</td>\n",
       "    </tr>\n",
       "    <tr>\n",
       "      <th>...</th>\n",
       "      <td>...</td>\n",
       "      <td>...</td>\n",
       "      <td>...</td>\n",
       "      <td>...</td>\n",
       "    </tr>\n",
       "    <tr>\n",
       "      <th>34105</th>\n",
       "      <td>OYT2XKKCG7</td>\n",
       "      <td>400.00</td>\n",
       "      <td>0.00</td>\n",
       "      <td>Deny</td>\n",
       "    </tr>\n",
       "    <tr>\n",
       "      <th>34106</th>\n",
       "      <td>0WTU4L3YXH</td>\n",
       "      <td>380.80</td>\n",
       "      <td>142.00</td>\n",
       "      <td>Settle</td>\n",
       "    </tr>\n",
       "    <tr>\n",
       "      <th>34107</th>\n",
       "      <td>X9MZQW0X3Q</td>\n",
       "      <td>28.95</td>\n",
       "      <td>28.95</td>\n",
       "      <td>Approve in Full</td>\n",
       "    </tr>\n",
       "    <tr>\n",
       "      <th>34108</th>\n",
       "      <td>ITF3RPFW6L</td>\n",
       "      <td>75.15</td>\n",
       "      <td>75.15</td>\n",
       "      <td>Approve in Full</td>\n",
       "    </tr>\n",
       "    <tr>\n",
       "      <th>34109</th>\n",
       "      <td>A9G61X0801</td>\n",
       "      <td>299.00</td>\n",
       "      <td>149.50</td>\n",
       "      <td>Settle</td>\n",
       "    </tr>\n",
       "  </tbody>\n",
       "</table>\n",
       "<p>34110 rows × 4 columns</p>\n",
       "</div>"
      ],
      "text/plain": [
       "      Claim Number  Claim Amount  Close Amount      Disposition\n",
       "0       Y5VA9KOE89        100.00          0.00             Deny\n",
       "1       P51DOJLR8W        199.99          0.00             Deny\n",
       "2       OUUZFP7EFL        410.00         59.85           Settle\n",
       "3       CGP3L1CCP2        240.00          0.00             Deny\n",
       "4       JDFLPD7J9Z         11.36         11.36  Approve in Full\n",
       "...            ...           ...           ...              ...\n",
       "34105   OYT2XKKCG7        400.00          0.00             Deny\n",
       "34106   0WTU4L3YXH        380.80        142.00           Settle\n",
       "34107   X9MZQW0X3Q         28.95         28.95  Approve in Full\n",
       "34108   ITF3RPFW6L         75.15         75.15  Approve in Full\n",
       "34109   A9G61X0801        299.00        149.50           Settle\n",
       "\n",
       "[34110 rows x 4 columns]"
      ]
     },
     "execution_count": 4,
     "metadata": {},
     "output_type": "execute_result"
    }
   ],
   "source": [
    "data3 = pd.read_csv('Insurance_Result_data.csv')\n",
    "data3"
   ]
  },
  {
   "cell_type": "code",
   "execution_count": 5,
   "id": "8eb247c6",
   "metadata": {
    "colab": {
     "base_uri": "https://localhost:8080/",
     "height": 693
    },
    "id": "8eb247c6",
    "outputId": "3b9f9c4d-e661-4a32-d49e-9663d947b1ff"
   },
   "outputs": [
    {
     "data": {
      "text/html": [
       "<div>\n",
       "<style scoped>\n",
       "    .dataframe tbody tr th:only-of-type {\n",
       "        vertical-align: middle;\n",
       "    }\n",
       "\n",
       "    .dataframe tbody tr th {\n",
       "        vertical-align: top;\n",
       "    }\n",
       "\n",
       "    .dataframe thead th {\n",
       "        text-align: right;\n",
       "    }\n",
       "</style>\n",
       "<table border=\"1\" class=\"dataframe\">\n",
       "  <thead>\n",
       "    <tr style=\"text-align: right;\">\n",
       "      <th></th>\n",
       "      <th>Claim Number</th>\n",
       "      <th>City Code</th>\n",
       "      <th>City</th>\n",
       "      <th>Enterprise Type</th>\n",
       "      <th>Claim Type</th>\n",
       "      <th>Claim Site</th>\n",
       "      <th>Product Insured</th>\n",
       "      <th>Incident Date</th>\n",
       "      <th>Date Received</th>\n",
       "      <th>Claim Amount</th>\n",
       "      <th>Close Amount</th>\n",
       "      <th>Disposition</th>\n",
       "    </tr>\n",
       "  </thead>\n",
       "  <tbody>\n",
       "    <tr>\n",
       "      <th>0</th>\n",
       "      <td>DQW1NZO0PL</td>\n",
       "      <td>NSK</td>\n",
       "      <td>Nashik</td>\n",
       "      <td>Public Limited Company</td>\n",
       "      <td>Property Loss</td>\n",
       "      <td>In Transit</td>\n",
       "      <td>Inventory - Raw Material</td>\n",
       "      <td>25-05-2007</td>\n",
       "      <td>06-07-2007</td>\n",
       "      <td>490.00</td>\n",
       "      <td>0.00</td>\n",
       "      <td>Deny</td>\n",
       "    </tr>\n",
       "    <tr>\n",
       "      <th>1</th>\n",
       "      <td>JS5GAPRN5B</td>\n",
       "      <td>BOM</td>\n",
       "      <td>Mumbai</td>\n",
       "      <td>One Person Company</td>\n",
       "      <td>Property Loss</td>\n",
       "      <td>In Transit</td>\n",
       "      <td>Cameras and other Misc. Security Equipment</td>\n",
       "      <td>17-09-2006</td>\n",
       "      <td>27-09-2006</td>\n",
       "      <td>300.00</td>\n",
       "      <td>150.00</td>\n",
       "      <td>Settle</td>\n",
       "    </tr>\n",
       "    <tr>\n",
       "      <th>2</th>\n",
       "      <td>ZTSVAQSEAQ</td>\n",
       "      <td>LKO</td>\n",
       "      <td>Lucknow</td>\n",
       "      <td>Public Limited Company</td>\n",
       "      <td>Property Loss</td>\n",
       "      <td>In Transit</td>\n",
       "      <td>Fixtures</td>\n",
       "      <td>12-06-2006</td>\n",
       "      <td>17-07-2006</td>\n",
       "      <td>83.98</td>\n",
       "      <td>83.98</td>\n",
       "      <td>Approve in Full</td>\n",
       "    </tr>\n",
       "    <tr>\n",
       "      <th>3</th>\n",
       "      <td>EW7NWHI7LI</td>\n",
       "      <td>DEL</td>\n",
       "      <td>Delhi</td>\n",
       "      <td>Sole Proprietorship</td>\n",
       "      <td>Property Loss</td>\n",
       "      <td>In Transit</td>\n",
       "      <td>Pumps and Motors</td>\n",
       "      <td>13-11-2005</td>\n",
       "      <td>05-12-2005</td>\n",
       "      <td>507.88</td>\n",
       "      <td>0.00</td>\n",
       "      <td>Deny</td>\n",
       "    </tr>\n",
       "    <tr>\n",
       "      <th>4</th>\n",
       "      <td>UJOFDC41EL</td>\n",
       "      <td>DEL</td>\n",
       "      <td>Delhi</td>\n",
       "      <td>One Person Company</td>\n",
       "      <td>Property Loss</td>\n",
       "      <td>In Transit</td>\n",
       "      <td>Misc. Engineering Tools</td>\n",
       "      <td>28-07-2008</td>\n",
       "      <td>12-08-2008</td>\n",
       "      <td>83.46</td>\n",
       "      <td>41.73</td>\n",
       "      <td>Settle</td>\n",
       "    </tr>\n",
       "    <tr>\n",
       "      <th>...</th>\n",
       "      <td>...</td>\n",
       "      <td>...</td>\n",
       "      <td>...</td>\n",
       "      <td>...</td>\n",
       "      <td>...</td>\n",
       "      <td>...</td>\n",
       "      <td>...</td>\n",
       "      <td>...</td>\n",
       "      <td>...</td>\n",
       "      <td>...</td>\n",
       "      <td>...</td>\n",
       "      <td>...</td>\n",
       "    </tr>\n",
       "    <tr>\n",
       "      <th>34105</th>\n",
       "      <td>5CFGWQ6IR5</td>\n",
       "      <td>AGR</td>\n",
       "      <td>Agra</td>\n",
       "      <td>Public Limited Company</td>\n",
       "      <td>Property Loss</td>\n",
       "      <td>In Transit</td>\n",
       "      <td>Misc. Engineering Tools</td>\n",
       "      <td>19-12-2005</td>\n",
       "      <td>21-03-2006</td>\n",
       "      <td>238.00</td>\n",
       "      <td>115.60</td>\n",
       "      <td>Settle</td>\n",
       "    </tr>\n",
       "    <tr>\n",
       "      <th>34106</th>\n",
       "      <td>QQ6EAWA4Q5</td>\n",
       "      <td>LKO</td>\n",
       "      <td>Lucknow</td>\n",
       "      <td>Partnership Firm</td>\n",
       "      <td>Property Damage</td>\n",
       "      <td>In Transit</td>\n",
       "      <td>Misc. Electronic Items</td>\n",
       "      <td>08-01-2007</td>\n",
       "      <td>16-01-2007</td>\n",
       "      <td>7.00</td>\n",
       "      <td>0.00</td>\n",
       "      <td>Deny</td>\n",
       "    </tr>\n",
       "    <tr>\n",
       "      <th>34107</th>\n",
       "      <td>X1J58PT1J5</td>\n",
       "      <td>HYD</td>\n",
       "      <td>Hyderabad</td>\n",
       "      <td>One Person Company</td>\n",
       "      <td>Property Damage</td>\n",
       "      <td>In Transit</td>\n",
       "      <td>Misc. Electronic Items</td>\n",
       "      <td>19-09-2005</td>\n",
       "      <td>18-10-2005</td>\n",
       "      <td>166.00</td>\n",
       "      <td>70.00</td>\n",
       "      <td>Settle</td>\n",
       "    </tr>\n",
       "    <tr>\n",
       "      <th>34108</th>\n",
       "      <td>AGOXXE8KII</td>\n",
       "      <td>MAA</td>\n",
       "      <td>Chennai</td>\n",
       "      <td>Sole Proprietorship</td>\n",
       "      <td>Property Damage</td>\n",
       "      <td>Warehouse</td>\n",
       "      <td>Pumps and Motors</td>\n",
       "      <td>14-04-2009</td>\n",
       "      <td>09-09-2009</td>\n",
       "      <td>450.00</td>\n",
       "      <td>280.00</td>\n",
       "      <td>Settle</td>\n",
       "    </tr>\n",
       "    <tr>\n",
       "      <th>34109</th>\n",
       "      <td>WT5RH23GPC</td>\n",
       "      <td>LKO</td>\n",
       "      <td>Lucknow</td>\n",
       "      <td>Private Ltd. MSME - Medium</td>\n",
       "      <td>Property Loss</td>\n",
       "      <td>In Transit</td>\n",
       "      <td>Inventory - Raw Material</td>\n",
       "      <td>19-03-2005</td>\n",
       "      <td>29-03-2005</td>\n",
       "      <td>70.35</td>\n",
       "      <td>70.35</td>\n",
       "      <td>Approve in Full</td>\n",
       "    </tr>\n",
       "  </tbody>\n",
       "</table>\n",
       "<p>34110 rows × 12 columns</p>\n",
       "</div>"
      ],
      "text/plain": [
       "      Claim Number City Code       City             Enterprise Type  \\\n",
       "0       DQW1NZO0PL       NSK     Nashik      Public Limited Company   \n",
       "1       JS5GAPRN5B       BOM     Mumbai          One Person Company   \n",
       "2       ZTSVAQSEAQ       LKO    Lucknow      Public Limited Company   \n",
       "3       EW7NWHI7LI       DEL      Delhi         Sole Proprietorship   \n",
       "4       UJOFDC41EL       DEL      Delhi          One Person Company   \n",
       "...            ...       ...        ...                         ...   \n",
       "34105   5CFGWQ6IR5       AGR       Agra      Public Limited Company   \n",
       "34106   QQ6EAWA4Q5       LKO    Lucknow            Partnership Firm   \n",
       "34107   X1J58PT1J5       HYD  Hyderabad          One Person Company   \n",
       "34108   AGOXXE8KII       MAA    Chennai         Sole Proprietorship   \n",
       "34109   WT5RH23GPC       LKO    Lucknow  Private Ltd. MSME - Medium   \n",
       "\n",
       "            Claim Type  Claim Site  \\\n",
       "0        Property Loss  In Transit   \n",
       "1        Property Loss  In Transit   \n",
       "2        Property Loss  In Transit   \n",
       "3        Property Loss  In Transit   \n",
       "4        Property Loss  In Transit   \n",
       "...                ...         ...   \n",
       "34105    Property Loss  In Transit   \n",
       "34106  Property Damage  In Transit   \n",
       "34107  Property Damage  In Transit   \n",
       "34108  Property Damage   Warehouse   \n",
       "34109    Property Loss  In Transit   \n",
       "\n",
       "                                  Product Insured Incident Date Date Received  \\\n",
       "0                        Inventory - Raw Material    25-05-2007    06-07-2007   \n",
       "1      Cameras and other Misc. Security Equipment    17-09-2006    27-09-2006   \n",
       "2                                        Fixtures    12-06-2006    17-07-2006   \n",
       "3                                Pumps and Motors    13-11-2005    05-12-2005   \n",
       "4                         Misc. Engineering Tools    28-07-2008    12-08-2008   \n",
       "...                                           ...           ...           ...   \n",
       "34105                     Misc. Engineering Tools    19-12-2005    21-03-2006   \n",
       "34106                      Misc. Electronic Items    08-01-2007    16-01-2007   \n",
       "34107                      Misc. Electronic Items    19-09-2005    18-10-2005   \n",
       "34108                            Pumps and Motors    14-04-2009    09-09-2009   \n",
       "34109                    Inventory - Raw Material    19-03-2005    29-03-2005   \n",
       "\n",
       "       Claim Amount  Close Amount      Disposition  \n",
       "0            490.00          0.00             Deny  \n",
       "1            300.00        150.00           Settle  \n",
       "2             83.98         83.98  Approve in Full  \n",
       "3            507.88          0.00             Deny  \n",
       "4             83.46         41.73           Settle  \n",
       "...             ...           ...              ...  \n",
       "34105        238.00        115.60           Settle  \n",
       "34106          7.00          0.00             Deny  \n",
       "34107        166.00         70.00           Settle  \n",
       "34108        450.00        280.00           Settle  \n",
       "34109         70.35         70.35  Approve in Full  \n",
       "\n",
       "[34110 rows x 12 columns]"
      ]
     },
     "execution_count": 5,
     "metadata": {},
     "output_type": "execute_result"
    }
   ],
   "source": [
    "# merging datasets\n",
    "# using common feature between datasets\n",
    "# since 'Claim Number' is the common feature/column in all 3 datasets\n",
    "\n",
    "data = pd.merge(data1,data2, on='Claim Number') \n",
    "data = pd.merge(data,data3, on='Claim Number')\n",
    "\n",
    "data"
   ]
  },
  {
   "cell_type": "markdown",
   "id": "005f2a3f",
   "metadata": {
    "id": "005f2a3f"
   },
   "source": [
    "## Importing test data"
   ]
  },
  {
   "cell_type": "code",
   "execution_count": 6,
   "id": "75914f0e",
   "metadata": {
    "colab": {
     "base_uri": "https://localhost:8080/",
     "height": 606
    },
    "id": "75914f0e",
    "outputId": "2aeec6d5-8598-4ff9-cac2-97bb18d35c4f"
   },
   "outputs": [
    {
     "data": {
      "text/html": [
       "<div>\n",
       "<style scoped>\n",
       "    .dataframe tbody tr th:only-of-type {\n",
       "        vertical-align: middle;\n",
       "    }\n",
       "\n",
       "    .dataframe tbody tr th {\n",
       "        vertical-align: top;\n",
       "    }\n",
       "\n",
       "    .dataframe thead th {\n",
       "        text-align: right;\n",
       "    }\n",
       "</style>\n",
       "<table border=\"1\" class=\"dataframe\">\n",
       "  <thead>\n",
       "    <tr style=\"text-align: right;\">\n",
       "      <th></th>\n",
       "      <th>Claim Number</th>\n",
       "      <th>Incident Date</th>\n",
       "      <th>Date Received</th>\n",
       "      <th>City Code</th>\n",
       "      <th>City</th>\n",
       "      <th>Enterprise Type</th>\n",
       "      <th>Claim Type</th>\n",
       "      <th>Claim Site</th>\n",
       "      <th>Product Insured</th>\n",
       "    </tr>\n",
       "  </thead>\n",
       "  <tbody>\n",
       "    <tr>\n",
       "      <th>0</th>\n",
       "      <td>6EYB31JGFR</td>\n",
       "      <td>21-09-2006</td>\n",
       "      <td>26-12-2006</td>\n",
       "      <td>PNQ</td>\n",
       "      <td>Pune</td>\n",
       "      <td>One Person Company</td>\n",
       "      <td>Property Loss</td>\n",
       "      <td>In Transit</td>\n",
       "      <td>Inventory - Finished Goods</td>\n",
       "    </tr>\n",
       "    <tr>\n",
       "      <th>1</th>\n",
       "      <td>HJLRXONE3R</td>\n",
       "      <td>15-01-2009</td>\n",
       "      <td>11-02-2009</td>\n",
       "      <td>PNQ</td>\n",
       "      <td>Pune</td>\n",
       "      <td>Limited Liability Parterneship (LLP)</td>\n",
       "      <td>Property Loss</td>\n",
       "      <td>In Transit</td>\n",
       "      <td>Fixtures</td>\n",
       "    </tr>\n",
       "    <tr>\n",
       "      <th>2</th>\n",
       "      <td>IUOV99JA22</td>\n",
       "      <td>17-08-2005</td>\n",
       "      <td>01-09-2005</td>\n",
       "      <td>AMD</td>\n",
       "      <td>Ahmedabad</td>\n",
       "      <td>Private Limited Company</td>\n",
       "      <td>Property Loss</td>\n",
       "      <td>Warehouse</td>\n",
       "      <td>Inventory - Raw Material</td>\n",
       "    </tr>\n",
       "    <tr>\n",
       "      <th>3</th>\n",
       "      <td>BGOUHQ2LKK</td>\n",
       "      <td>15-02-2005</td>\n",
       "      <td>01-06-2005</td>\n",
       "      <td>DEL</td>\n",
       "      <td>Delhi</td>\n",
       "      <td>One Person Company</td>\n",
       "      <td>Property Damage</td>\n",
       "      <td>In Transit</td>\n",
       "      <td>Inventory - Finished Goods</td>\n",
       "    </tr>\n",
       "    <tr>\n",
       "      <th>4</th>\n",
       "      <td>HDCG60QET1</td>\n",
       "      <td>17-03-2003</td>\n",
       "      <td>01-04-2003</td>\n",
       "      <td>PNQ</td>\n",
       "      <td>Pune</td>\n",
       "      <td>Private Limited Company</td>\n",
       "      <td>Property Damage</td>\n",
       "      <td>In Transit</td>\n",
       "      <td>Misc. Electronic Items</td>\n",
       "    </tr>\n",
       "    <tr>\n",
       "      <th>...</th>\n",
       "      <td>...</td>\n",
       "      <td>...</td>\n",
       "      <td>...</td>\n",
       "      <td>...</td>\n",
       "      <td>...</td>\n",
       "      <td>...</td>\n",
       "      <td>...</td>\n",
       "      <td>...</td>\n",
       "      <td>...</td>\n",
       "    </tr>\n",
       "    <tr>\n",
       "      <th>3786</th>\n",
       "      <td>IMQYY73AOP</td>\n",
       "      <td>30-07-2007</td>\n",
       "      <td>21-08-2007</td>\n",
       "      <td>CCU</td>\n",
       "      <td>Kolkata</td>\n",
       "      <td>Private Limited Company</td>\n",
       "      <td>Property Loss</td>\n",
       "      <td>Warehouse</td>\n",
       "      <td>Cameras and other Misc. Security Equipment</td>\n",
       "    </tr>\n",
       "    <tr>\n",
       "      <th>3787</th>\n",
       "      <td>2AR1OGIMH4</td>\n",
       "      <td>21-08-2004</td>\n",
       "      <td>09-09-2004</td>\n",
       "      <td>NGP</td>\n",
       "      <td>Nagpur</td>\n",
       "      <td>Sole Proprietorship</td>\n",
       "      <td>Property Loss</td>\n",
       "      <td>In Transit</td>\n",
       "      <td>Property, Plant, and Equipment (PPE) Parts</td>\n",
       "    </tr>\n",
       "    <tr>\n",
       "      <th>3788</th>\n",
       "      <td>SB4IET2MO5</td>\n",
       "      <td>13-05-2005</td>\n",
       "      <td>02-06-2005</td>\n",
       "      <td>LKO</td>\n",
       "      <td>Lucknow</td>\n",
       "      <td>Joint-Venture Company</td>\n",
       "      <td>Property Loss</td>\n",
       "      <td>Warehouse</td>\n",
       "      <td>Heating, ventilation, and air conditioning (HV...</td>\n",
       "    </tr>\n",
       "    <tr>\n",
       "      <th>3789</th>\n",
       "      <td>3IBWXQK04L</td>\n",
       "      <td>11-04-2004</td>\n",
       "      <td>04-05-2004</td>\n",
       "      <td>BOM</td>\n",
       "      <td>Mumbai</td>\n",
       "      <td>One Person Company</td>\n",
       "      <td>Property Damage</td>\n",
       "      <td>In Transit</td>\n",
       "      <td>Misc. Electronic Items</td>\n",
       "    </tr>\n",
       "    <tr>\n",
       "      <th>3790</th>\n",
       "      <td>FK8SJ5GWYJ</td>\n",
       "      <td>11-04-2004</td>\n",
       "      <td>23-04-2004</td>\n",
       "      <td>BLR</td>\n",
       "      <td>Bangalore</td>\n",
       "      <td>Public Limited Company</td>\n",
       "      <td>Property Loss</td>\n",
       "      <td>In Transit</td>\n",
       "      <td>Furniture</td>\n",
       "    </tr>\n",
       "  </tbody>\n",
       "</table>\n",
       "<p>3791 rows × 9 columns</p>\n",
       "</div>"
      ],
      "text/plain": [
       "     Claim Number Incident Date Date Received City Code       City  \\\n",
       "0      6EYB31JGFR    21-09-2006    26-12-2006       PNQ       Pune   \n",
       "1      HJLRXONE3R    15-01-2009    11-02-2009       PNQ       Pune   \n",
       "2      IUOV99JA22    17-08-2005    01-09-2005       AMD  Ahmedabad   \n",
       "3      BGOUHQ2LKK    15-02-2005    01-06-2005       DEL      Delhi   \n",
       "4      HDCG60QET1    17-03-2003    01-04-2003       PNQ       Pune   \n",
       "...           ...           ...           ...       ...        ...   \n",
       "3786   IMQYY73AOP    30-07-2007    21-08-2007       CCU    Kolkata   \n",
       "3787   2AR1OGIMH4    21-08-2004    09-09-2004       NGP     Nagpur   \n",
       "3788   SB4IET2MO5    13-05-2005    02-06-2005       LKO    Lucknow   \n",
       "3789   3IBWXQK04L    11-04-2004    04-05-2004       BOM     Mumbai   \n",
       "3790   FK8SJ5GWYJ    11-04-2004    23-04-2004       BLR  Bangalore   \n",
       "\n",
       "                           Enterprise Type       Claim Type  Claim Site  \\\n",
       "0                       One Person Company    Property Loss  In Transit   \n",
       "1     Limited Liability Parterneship (LLP)    Property Loss  In Transit   \n",
       "2                  Private Limited Company    Property Loss   Warehouse   \n",
       "3                       One Person Company  Property Damage  In Transit   \n",
       "4                  Private Limited Company  Property Damage  In Transit   \n",
       "...                                    ...              ...         ...   \n",
       "3786               Private Limited Company    Property Loss   Warehouse   \n",
       "3787                   Sole Proprietorship    Property Loss  In Transit   \n",
       "3788                 Joint-Venture Company    Property Loss   Warehouse   \n",
       "3789                    One Person Company  Property Damage  In Transit   \n",
       "3790                Public Limited Company    Property Loss  In Transit   \n",
       "\n",
       "                                        Product Insured  \n",
       "0                            Inventory - Finished Goods  \n",
       "1                                              Fixtures  \n",
       "2                              Inventory - Raw Material  \n",
       "3                            Inventory - Finished Goods  \n",
       "4                                Misc. Electronic Items  \n",
       "...                                                 ...  \n",
       "3786         Cameras and other Misc. Security Equipment  \n",
       "3787         Property, Plant, and Equipment (PPE) Parts  \n",
       "3788  Heating, ventilation, and air conditioning (HV...  \n",
       "3789                             Misc. Electronic Items  \n",
       "3790                                          Furniture  \n",
       "\n",
       "[3791 rows x 9 columns]"
      ]
     },
     "execution_count": 6,
     "metadata": {},
     "output_type": "execute_result"
    }
   ],
   "source": [
    "test = pd.read_csv('test_data.csv')\n",
    "test"
   ]
  },
  {
   "cell_type": "markdown",
   "id": "3827839a",
   "metadata": {
    "id": "3827839a"
   },
   "source": [
    "## EDA"
   ]
  },
  {
   "cell_type": "code",
   "execution_count": 7,
   "id": "12a82546",
   "metadata": {
    "colab": {
     "base_uri": "https://localhost:8080/"
    },
    "id": "12a82546",
    "outputId": "31869916-81ba-4640-c44e-94ffebfe133d"
   },
   "outputs": [
    {
     "data": {
      "text/plain": [
       "Claim Number        object\n",
       "City Code           object\n",
       "City                object\n",
       "Enterprise Type     object\n",
       "Claim Type          object\n",
       "Claim Site          object\n",
       "Product Insured     object\n",
       "Incident Date       object\n",
       "Date Received       object\n",
       "Claim Amount       float64\n",
       "Close Amount       float64\n",
       "Disposition         object\n",
       "dtype: object"
      ]
     },
     "execution_count": 7,
     "metadata": {},
     "output_type": "execute_result"
    }
   ],
   "source": [
    "# to check the datatype of all columns\n",
    "data.dtypes"
   ]
  },
  {
   "cell_type": "code",
   "execution_count": 8,
   "id": "ae8becba",
   "metadata": {
    "id": "ae8becba"
   },
   "outputs": [],
   "source": [
    "data['Incident Date'] = pd.to_datetime(data['Incident Date'])\n",
    "data['Date Received'] = pd.to_datetime(data['Date Received'])"
   ]
  },
  {
   "cell_type": "code",
   "execution_count": 9,
   "id": "5a282e4b",
   "metadata": {
    "colab": {
     "base_uri": "https://localhost:8080/",
     "height": 693
    },
    "id": "5a282e4b",
    "outputId": "413e39fd-d7bd-419b-d435-7367a2e824a9"
   },
   "outputs": [
    {
     "data": {
      "text/html": [
       "<div>\n",
       "<style scoped>\n",
       "    .dataframe tbody tr th:only-of-type {\n",
       "        vertical-align: middle;\n",
       "    }\n",
       "\n",
       "    .dataframe tbody tr th {\n",
       "        vertical-align: top;\n",
       "    }\n",
       "\n",
       "    .dataframe thead th {\n",
       "        text-align: right;\n",
       "    }\n",
       "</style>\n",
       "<table border=\"1\" class=\"dataframe\">\n",
       "  <thead>\n",
       "    <tr style=\"text-align: right;\">\n",
       "      <th></th>\n",
       "      <th>Claim Number</th>\n",
       "      <th>City Code</th>\n",
       "      <th>City</th>\n",
       "      <th>Enterprise Type</th>\n",
       "      <th>Claim Type</th>\n",
       "      <th>Claim Site</th>\n",
       "      <th>Product Insured</th>\n",
       "      <th>Incident Date</th>\n",
       "      <th>Date Received</th>\n",
       "      <th>Claim Amount</th>\n",
       "      <th>Close Amount</th>\n",
       "      <th>Disposition</th>\n",
       "    </tr>\n",
       "  </thead>\n",
       "  <tbody>\n",
       "    <tr>\n",
       "      <th>0</th>\n",
       "      <td>DQW1NZO0PL</td>\n",
       "      <td>NSK</td>\n",
       "      <td>Nashik</td>\n",
       "      <td>Public Limited Company</td>\n",
       "      <td>Property Loss</td>\n",
       "      <td>In Transit</td>\n",
       "      <td>Inventory - Raw Material</td>\n",
       "      <td>2007-05-25</td>\n",
       "      <td>2007-06-07</td>\n",
       "      <td>490.00</td>\n",
       "      <td>0.00</td>\n",
       "      <td>Deny</td>\n",
       "    </tr>\n",
       "    <tr>\n",
       "      <th>1</th>\n",
       "      <td>JS5GAPRN5B</td>\n",
       "      <td>BOM</td>\n",
       "      <td>Mumbai</td>\n",
       "      <td>One Person Company</td>\n",
       "      <td>Property Loss</td>\n",
       "      <td>In Transit</td>\n",
       "      <td>Cameras and other Misc. Security Equipment</td>\n",
       "      <td>2006-09-17</td>\n",
       "      <td>2006-09-27</td>\n",
       "      <td>300.00</td>\n",
       "      <td>150.00</td>\n",
       "      <td>Settle</td>\n",
       "    </tr>\n",
       "    <tr>\n",
       "      <th>2</th>\n",
       "      <td>ZTSVAQSEAQ</td>\n",
       "      <td>LKO</td>\n",
       "      <td>Lucknow</td>\n",
       "      <td>Public Limited Company</td>\n",
       "      <td>Property Loss</td>\n",
       "      <td>In Transit</td>\n",
       "      <td>Fixtures</td>\n",
       "      <td>2006-12-06</td>\n",
       "      <td>2006-07-17</td>\n",
       "      <td>83.98</td>\n",
       "      <td>83.98</td>\n",
       "      <td>Approve in Full</td>\n",
       "    </tr>\n",
       "    <tr>\n",
       "      <th>3</th>\n",
       "      <td>EW7NWHI7LI</td>\n",
       "      <td>DEL</td>\n",
       "      <td>Delhi</td>\n",
       "      <td>Sole Proprietorship</td>\n",
       "      <td>Property Loss</td>\n",
       "      <td>In Transit</td>\n",
       "      <td>Pumps and Motors</td>\n",
       "      <td>2005-11-13</td>\n",
       "      <td>2005-05-12</td>\n",
       "      <td>507.88</td>\n",
       "      <td>0.00</td>\n",
       "      <td>Deny</td>\n",
       "    </tr>\n",
       "    <tr>\n",
       "      <th>4</th>\n",
       "      <td>UJOFDC41EL</td>\n",
       "      <td>DEL</td>\n",
       "      <td>Delhi</td>\n",
       "      <td>One Person Company</td>\n",
       "      <td>Property Loss</td>\n",
       "      <td>In Transit</td>\n",
       "      <td>Misc. Engineering Tools</td>\n",
       "      <td>2008-07-28</td>\n",
       "      <td>2008-12-08</td>\n",
       "      <td>83.46</td>\n",
       "      <td>41.73</td>\n",
       "      <td>Settle</td>\n",
       "    </tr>\n",
       "    <tr>\n",
       "      <th>...</th>\n",
       "      <td>...</td>\n",
       "      <td>...</td>\n",
       "      <td>...</td>\n",
       "      <td>...</td>\n",
       "      <td>...</td>\n",
       "      <td>...</td>\n",
       "      <td>...</td>\n",
       "      <td>...</td>\n",
       "      <td>...</td>\n",
       "      <td>...</td>\n",
       "      <td>...</td>\n",
       "      <td>...</td>\n",
       "    </tr>\n",
       "    <tr>\n",
       "      <th>34105</th>\n",
       "      <td>5CFGWQ6IR5</td>\n",
       "      <td>AGR</td>\n",
       "      <td>Agra</td>\n",
       "      <td>Public Limited Company</td>\n",
       "      <td>Property Loss</td>\n",
       "      <td>In Transit</td>\n",
       "      <td>Misc. Engineering Tools</td>\n",
       "      <td>2005-12-19</td>\n",
       "      <td>2006-03-21</td>\n",
       "      <td>238.00</td>\n",
       "      <td>115.60</td>\n",
       "      <td>Settle</td>\n",
       "    </tr>\n",
       "    <tr>\n",
       "      <th>34106</th>\n",
       "      <td>QQ6EAWA4Q5</td>\n",
       "      <td>LKO</td>\n",
       "      <td>Lucknow</td>\n",
       "      <td>Partnership Firm</td>\n",
       "      <td>Property Damage</td>\n",
       "      <td>In Transit</td>\n",
       "      <td>Misc. Electronic Items</td>\n",
       "      <td>2007-08-01</td>\n",
       "      <td>2007-01-16</td>\n",
       "      <td>7.00</td>\n",
       "      <td>0.00</td>\n",
       "      <td>Deny</td>\n",
       "    </tr>\n",
       "    <tr>\n",
       "      <th>34107</th>\n",
       "      <td>X1J58PT1J5</td>\n",
       "      <td>HYD</td>\n",
       "      <td>Hyderabad</td>\n",
       "      <td>One Person Company</td>\n",
       "      <td>Property Damage</td>\n",
       "      <td>In Transit</td>\n",
       "      <td>Misc. Electronic Items</td>\n",
       "      <td>2005-09-19</td>\n",
       "      <td>2005-10-18</td>\n",
       "      <td>166.00</td>\n",
       "      <td>70.00</td>\n",
       "      <td>Settle</td>\n",
       "    </tr>\n",
       "    <tr>\n",
       "      <th>34108</th>\n",
       "      <td>AGOXXE8KII</td>\n",
       "      <td>MAA</td>\n",
       "      <td>Chennai</td>\n",
       "      <td>Sole Proprietorship</td>\n",
       "      <td>Property Damage</td>\n",
       "      <td>Warehouse</td>\n",
       "      <td>Pumps and Motors</td>\n",
       "      <td>2009-04-14</td>\n",
       "      <td>2009-09-09</td>\n",
       "      <td>450.00</td>\n",
       "      <td>280.00</td>\n",
       "      <td>Settle</td>\n",
       "    </tr>\n",
       "    <tr>\n",
       "      <th>34109</th>\n",
       "      <td>WT5RH23GPC</td>\n",
       "      <td>LKO</td>\n",
       "      <td>Lucknow</td>\n",
       "      <td>Private Ltd. MSME - Medium</td>\n",
       "      <td>Property Loss</td>\n",
       "      <td>In Transit</td>\n",
       "      <td>Inventory - Raw Material</td>\n",
       "      <td>2005-03-19</td>\n",
       "      <td>2005-03-29</td>\n",
       "      <td>70.35</td>\n",
       "      <td>70.35</td>\n",
       "      <td>Approve in Full</td>\n",
       "    </tr>\n",
       "  </tbody>\n",
       "</table>\n",
       "<p>34105 rows × 12 columns</p>\n",
       "</div>"
      ],
      "text/plain": [
       "      Claim Number City Code       City             Enterprise Type  \\\n",
       "0       DQW1NZO0PL       NSK     Nashik      Public Limited Company   \n",
       "1       JS5GAPRN5B       BOM     Mumbai          One Person Company   \n",
       "2       ZTSVAQSEAQ       LKO    Lucknow      Public Limited Company   \n",
       "3       EW7NWHI7LI       DEL      Delhi         Sole Proprietorship   \n",
       "4       UJOFDC41EL       DEL      Delhi          One Person Company   \n",
       "...            ...       ...        ...                         ...   \n",
       "34105   5CFGWQ6IR5       AGR       Agra      Public Limited Company   \n",
       "34106   QQ6EAWA4Q5       LKO    Lucknow            Partnership Firm   \n",
       "34107   X1J58PT1J5       HYD  Hyderabad          One Person Company   \n",
       "34108   AGOXXE8KII       MAA    Chennai         Sole Proprietorship   \n",
       "34109   WT5RH23GPC       LKO    Lucknow  Private Ltd. MSME - Medium   \n",
       "\n",
       "            Claim Type  Claim Site  \\\n",
       "0        Property Loss  In Transit   \n",
       "1        Property Loss  In Transit   \n",
       "2        Property Loss  In Transit   \n",
       "3        Property Loss  In Transit   \n",
       "4        Property Loss  In Transit   \n",
       "...                ...         ...   \n",
       "34105    Property Loss  In Transit   \n",
       "34106  Property Damage  In Transit   \n",
       "34107  Property Damage  In Transit   \n",
       "34108  Property Damage   Warehouse   \n",
       "34109    Property Loss  In Transit   \n",
       "\n",
       "                                  Product Insured Incident Date Date Received  \\\n",
       "0                        Inventory - Raw Material    2007-05-25    2007-06-07   \n",
       "1      Cameras and other Misc. Security Equipment    2006-09-17    2006-09-27   \n",
       "2                                        Fixtures    2006-12-06    2006-07-17   \n",
       "3                                Pumps and Motors    2005-11-13    2005-05-12   \n",
       "4                         Misc. Engineering Tools    2008-07-28    2008-12-08   \n",
       "...                                           ...           ...           ...   \n",
       "34105                     Misc. Engineering Tools    2005-12-19    2006-03-21   \n",
       "34106                      Misc. Electronic Items    2007-08-01    2007-01-16   \n",
       "34107                      Misc. Electronic Items    2005-09-19    2005-10-18   \n",
       "34108                            Pumps and Motors    2009-04-14    2009-09-09   \n",
       "34109                    Inventory - Raw Material    2005-03-19    2005-03-29   \n",
       "\n",
       "       Claim Amount  Close Amount      Disposition  \n",
       "0            490.00          0.00             Deny  \n",
       "1            300.00        150.00           Settle  \n",
       "2             83.98         83.98  Approve in Full  \n",
       "3            507.88          0.00             Deny  \n",
       "4             83.46         41.73           Settle  \n",
       "...             ...           ...              ...  \n",
       "34105        238.00        115.60           Settle  \n",
       "34106          7.00          0.00             Deny  \n",
       "34107        166.00         70.00           Settle  \n",
       "34108        450.00        280.00           Settle  \n",
       "34109         70.35         70.35  Approve in Full  \n",
       "\n",
       "[34105 rows x 12 columns]"
      ]
     },
     "execution_count": 9,
     "metadata": {},
     "output_type": "execute_result"
    }
   ],
   "source": [
    "# keeping the data with stated time period only\n",
    "data = data[(data['Incident Date'] >= '2002-01-01') & (data['Incident Date'] <= '2009-12-31')]\n",
    "data = data[(data['Date Received'] >= '2002-01-01') & (data['Date Received'] <= '2009-12-31')]\n",
    "data"
   ]
  },
  {
   "cell_type": "code",
   "execution_count": 10,
   "id": "6e6e43f2",
   "metadata": {
    "colab": {
     "base_uri": "https://localhost:8080/",
     "height": 728
    },
    "id": "6e6e43f2",
    "outputId": "fe9a62d6-290c-42cd-ffdc-672bd82a0450"
   },
   "outputs": [
    {
     "data": {
      "text/html": [
       "<div>\n",
       "<style scoped>\n",
       "    .dataframe tbody tr th:only-of-type {\n",
       "        vertical-align: middle;\n",
       "    }\n",
       "\n",
       "    .dataframe tbody tr th {\n",
       "        vertical-align: top;\n",
       "    }\n",
       "\n",
       "    .dataframe thead th {\n",
       "        text-align: right;\n",
       "    }\n",
       "</style>\n",
       "<table border=\"1\" class=\"dataframe\">\n",
       "  <thead>\n",
       "    <tr style=\"text-align: right;\">\n",
       "      <th></th>\n",
       "      <th>Claim Number</th>\n",
       "      <th>City Code</th>\n",
       "      <th>City</th>\n",
       "      <th>Enterprise Type</th>\n",
       "      <th>Claim Type</th>\n",
       "      <th>Claim Site</th>\n",
       "      <th>Product Insured</th>\n",
       "      <th>Incident Date</th>\n",
       "      <th>Date Received</th>\n",
       "      <th>Claim Amount</th>\n",
       "      <th>Close Amount</th>\n",
       "      <th>Disposition</th>\n",
       "    </tr>\n",
       "  </thead>\n",
       "  <tbody>\n",
       "    <tr>\n",
       "      <th>0</th>\n",
       "      <td>DQW1NZO0PL</td>\n",
       "      <td>NSK</td>\n",
       "      <td>Nashik</td>\n",
       "      <td>Public Limited Company</td>\n",
       "      <td>Property Loss</td>\n",
       "      <td>In Transit</td>\n",
       "      <td>Inventory - Raw Material</td>\n",
       "      <td>2007-05-25</td>\n",
       "      <td>2007-06-07</td>\n",
       "      <td>490.00</td>\n",
       "      <td>0.00</td>\n",
       "      <td>Deny</td>\n",
       "    </tr>\n",
       "    <tr>\n",
       "      <th>1</th>\n",
       "      <td>JS5GAPRN5B</td>\n",
       "      <td>BOM</td>\n",
       "      <td>Mumbai</td>\n",
       "      <td>One Person Company</td>\n",
       "      <td>Property Loss</td>\n",
       "      <td>In Transit</td>\n",
       "      <td>Cameras and other Misc. Security Equipment</td>\n",
       "      <td>2006-09-17</td>\n",
       "      <td>2006-09-27</td>\n",
       "      <td>300.00</td>\n",
       "      <td>150.00</td>\n",
       "      <td>Settle</td>\n",
       "    </tr>\n",
       "    <tr>\n",
       "      <th>4</th>\n",
       "      <td>UJOFDC41EL</td>\n",
       "      <td>DEL</td>\n",
       "      <td>Delhi</td>\n",
       "      <td>One Person Company</td>\n",
       "      <td>Property Loss</td>\n",
       "      <td>In Transit</td>\n",
       "      <td>Misc. Engineering Tools</td>\n",
       "      <td>2008-07-28</td>\n",
       "      <td>2008-12-08</td>\n",
       "      <td>83.46</td>\n",
       "      <td>41.73</td>\n",
       "      <td>Settle</td>\n",
       "    </tr>\n",
       "    <tr>\n",
       "      <th>5</th>\n",
       "      <td>IXZ4B1B9NO</td>\n",
       "      <td>MAA</td>\n",
       "      <td>Chennai</td>\n",
       "      <td>Private Limited Company</td>\n",
       "      <td>Property Loss</td>\n",
       "      <td>In Transit</td>\n",
       "      <td>Misc. Engineering Tools</td>\n",
       "      <td>2004-09-21</td>\n",
       "      <td>2004-11-16</td>\n",
       "      <td>52.49</td>\n",
       "      <td>52.49</td>\n",
       "      <td>Approve in Full</td>\n",
       "    </tr>\n",
       "    <tr>\n",
       "      <th>6</th>\n",
       "      <td>FB07DWHGHF</td>\n",
       "      <td>BDQ</td>\n",
       "      <td>Vadodara</td>\n",
       "      <td>Joint-Venture Company</td>\n",
       "      <td>Property Damage</td>\n",
       "      <td>In Transit</td>\n",
       "      <td>Inventory - Raw Material</td>\n",
       "      <td>2005-05-18</td>\n",
       "      <td>2005-07-06</td>\n",
       "      <td>24.50</td>\n",
       "      <td>0.00</td>\n",
       "      <td>Deny</td>\n",
       "    </tr>\n",
       "    <tr>\n",
       "      <th>...</th>\n",
       "      <td>...</td>\n",
       "      <td>...</td>\n",
       "      <td>...</td>\n",
       "      <td>...</td>\n",
       "      <td>...</td>\n",
       "      <td>...</td>\n",
       "      <td>...</td>\n",
       "      <td>...</td>\n",
       "      <td>...</td>\n",
       "      <td>...</td>\n",
       "      <td>...</td>\n",
       "      <td>...</td>\n",
       "    </tr>\n",
       "    <tr>\n",
       "      <th>34104</th>\n",
       "      <td>6IIY7YEFT7</td>\n",
       "      <td>PNQ</td>\n",
       "      <td>Pune</td>\n",
       "      <td>Limited Liability Parterneship (LLP)</td>\n",
       "      <td>Property Loss</td>\n",
       "      <td>In Transit</td>\n",
       "      <td>Cameras and other Misc. Security Equipment</td>\n",
       "      <td>2008-06-02</td>\n",
       "      <td>2008-12-02</td>\n",
       "      <td>312.93</td>\n",
       "      <td>0.00</td>\n",
       "      <td>Deny</td>\n",
       "    </tr>\n",
       "    <tr>\n",
       "      <th>34105</th>\n",
       "      <td>5CFGWQ6IR5</td>\n",
       "      <td>AGR</td>\n",
       "      <td>Agra</td>\n",
       "      <td>Public Limited Company</td>\n",
       "      <td>Property Loss</td>\n",
       "      <td>In Transit</td>\n",
       "      <td>Misc. Engineering Tools</td>\n",
       "      <td>2005-12-19</td>\n",
       "      <td>2006-03-21</td>\n",
       "      <td>238.00</td>\n",
       "      <td>115.60</td>\n",
       "      <td>Settle</td>\n",
       "    </tr>\n",
       "    <tr>\n",
       "      <th>34107</th>\n",
       "      <td>X1J58PT1J5</td>\n",
       "      <td>HYD</td>\n",
       "      <td>Hyderabad</td>\n",
       "      <td>One Person Company</td>\n",
       "      <td>Property Damage</td>\n",
       "      <td>In Transit</td>\n",
       "      <td>Misc. Electronic Items</td>\n",
       "      <td>2005-09-19</td>\n",
       "      <td>2005-10-18</td>\n",
       "      <td>166.00</td>\n",
       "      <td>70.00</td>\n",
       "      <td>Settle</td>\n",
       "    </tr>\n",
       "    <tr>\n",
       "      <th>34108</th>\n",
       "      <td>AGOXXE8KII</td>\n",
       "      <td>MAA</td>\n",
       "      <td>Chennai</td>\n",
       "      <td>Sole Proprietorship</td>\n",
       "      <td>Property Damage</td>\n",
       "      <td>Warehouse</td>\n",
       "      <td>Pumps and Motors</td>\n",
       "      <td>2009-04-14</td>\n",
       "      <td>2009-09-09</td>\n",
       "      <td>450.00</td>\n",
       "      <td>280.00</td>\n",
       "      <td>Settle</td>\n",
       "    </tr>\n",
       "    <tr>\n",
       "      <th>34109</th>\n",
       "      <td>WT5RH23GPC</td>\n",
       "      <td>LKO</td>\n",
       "      <td>Lucknow</td>\n",
       "      <td>Private Ltd. MSME - Medium</td>\n",
       "      <td>Property Loss</td>\n",
       "      <td>In Transit</td>\n",
       "      <td>Inventory - Raw Material</td>\n",
       "      <td>2005-03-19</td>\n",
       "      <td>2005-03-29</td>\n",
       "      <td>70.35</td>\n",
       "      <td>70.35</td>\n",
       "      <td>Approve in Full</td>\n",
       "    </tr>\n",
       "  </tbody>\n",
       "</table>\n",
       "<p>24994 rows × 12 columns</p>\n",
       "</div>"
      ],
      "text/plain": [
       "      Claim Number City Code       City                       Enterprise Type  \\\n",
       "0       DQW1NZO0PL       NSK     Nashik                Public Limited Company   \n",
       "1       JS5GAPRN5B       BOM     Mumbai                    One Person Company   \n",
       "4       UJOFDC41EL       DEL      Delhi                    One Person Company   \n",
       "5       IXZ4B1B9NO       MAA    Chennai               Private Limited Company   \n",
       "6       FB07DWHGHF       BDQ   Vadodara                 Joint-Venture Company   \n",
       "...            ...       ...        ...                                   ...   \n",
       "34104   6IIY7YEFT7       PNQ       Pune  Limited Liability Parterneship (LLP)   \n",
       "34105   5CFGWQ6IR5       AGR       Agra                Public Limited Company   \n",
       "34107   X1J58PT1J5       HYD  Hyderabad                    One Person Company   \n",
       "34108   AGOXXE8KII       MAA    Chennai                   Sole Proprietorship   \n",
       "34109   WT5RH23GPC       LKO    Lucknow            Private Ltd. MSME - Medium   \n",
       "\n",
       "            Claim Type  Claim Site  \\\n",
       "0        Property Loss  In Transit   \n",
       "1        Property Loss  In Transit   \n",
       "4        Property Loss  In Transit   \n",
       "5        Property Loss  In Transit   \n",
       "6      Property Damage  In Transit   \n",
       "...                ...         ...   \n",
       "34104    Property Loss  In Transit   \n",
       "34105    Property Loss  In Transit   \n",
       "34107  Property Damage  In Transit   \n",
       "34108  Property Damage   Warehouse   \n",
       "34109    Property Loss  In Transit   \n",
       "\n",
       "                                  Product Insured Incident Date Date Received  \\\n",
       "0                        Inventory - Raw Material    2007-05-25    2007-06-07   \n",
       "1      Cameras and other Misc. Security Equipment    2006-09-17    2006-09-27   \n",
       "4                         Misc. Engineering Tools    2008-07-28    2008-12-08   \n",
       "5                         Misc. Engineering Tools    2004-09-21    2004-11-16   \n",
       "6                        Inventory - Raw Material    2005-05-18    2005-07-06   \n",
       "...                                           ...           ...           ...   \n",
       "34104  Cameras and other Misc. Security Equipment    2008-06-02    2008-12-02   \n",
       "34105                     Misc. Engineering Tools    2005-12-19    2006-03-21   \n",
       "34107                      Misc. Electronic Items    2005-09-19    2005-10-18   \n",
       "34108                            Pumps and Motors    2009-04-14    2009-09-09   \n",
       "34109                    Inventory - Raw Material    2005-03-19    2005-03-29   \n",
       "\n",
       "       Claim Amount  Close Amount      Disposition  \n",
       "0            490.00          0.00             Deny  \n",
       "1            300.00        150.00           Settle  \n",
       "4             83.46         41.73           Settle  \n",
       "5             52.49         52.49  Approve in Full  \n",
       "6             24.50          0.00             Deny  \n",
       "...             ...           ...              ...  \n",
       "34104        312.93          0.00             Deny  \n",
       "34105        238.00        115.60           Settle  \n",
       "34107        166.00         70.00           Settle  \n",
       "34108        450.00        280.00           Settle  \n",
       "34109         70.35         70.35  Approve in Full  \n",
       "\n",
       "[24994 rows x 12 columns]"
      ]
     },
     "execution_count": 10,
     "metadata": {},
     "output_type": "execute_result"
    }
   ],
   "source": [
    "# only taking data where incident date is before the received date\n",
    "data = data[data['Incident Date'] <= data['Date Received']]\n",
    "data"
   ]
  },
  {
   "cell_type": "code",
   "execution_count": 11,
   "id": "e599cbb3",
   "metadata": {
    "colab": {
     "base_uri": "https://localhost:8080/",
     "height": 441
    },
    "id": "e599cbb3",
    "outputId": "ebf98c01-ef2a-4e8d-ffef-25c95f244dcb"
   },
   "outputs": [
    {
     "data": {
      "text/html": [
       "<div>\n",
       "<style scoped>\n",
       "    .dataframe tbody tr th:only-of-type {\n",
       "        vertical-align: middle;\n",
       "    }\n",
       "\n",
       "    .dataframe tbody tr th {\n",
       "        vertical-align: top;\n",
       "    }\n",
       "\n",
       "    .dataframe thead th {\n",
       "        text-align: right;\n",
       "    }\n",
       "</style>\n",
       "<table border=\"1\" class=\"dataframe\">\n",
       "  <thead>\n",
       "    <tr style=\"text-align: right;\">\n",
       "      <th></th>\n",
       "      <th>Claim Number</th>\n",
       "      <th>City Code</th>\n",
       "      <th>City</th>\n",
       "      <th>Enterprise Type</th>\n",
       "      <th>Claim Type</th>\n",
       "      <th>Claim Site</th>\n",
       "      <th>Product Insured</th>\n",
       "      <th>Incident Date</th>\n",
       "      <th>Date Received</th>\n",
       "      <th>Claim Amount</th>\n",
       "      <th>Close Amount</th>\n",
       "      <th>Disposition</th>\n",
       "      <th>Claim Received %</th>\n",
       "    </tr>\n",
       "  </thead>\n",
       "  <tbody>\n",
       "    <tr>\n",
       "      <th>0</th>\n",
       "      <td>DQW1NZO0PL</td>\n",
       "      <td>NSK</td>\n",
       "      <td>Nashik</td>\n",
       "      <td>Public Limited Company</td>\n",
       "      <td>Property Loss</td>\n",
       "      <td>In Transit</td>\n",
       "      <td>Inventory - Raw Material</td>\n",
       "      <td>2007-05-25</td>\n",
       "      <td>2007-06-07</td>\n",
       "      <td>490.00</td>\n",
       "      <td>0.00</td>\n",
       "      <td>Deny</td>\n",
       "      <td>0.0</td>\n",
       "    </tr>\n",
       "    <tr>\n",
       "      <th>1</th>\n",
       "      <td>JS5GAPRN5B</td>\n",
       "      <td>BOM</td>\n",
       "      <td>Mumbai</td>\n",
       "      <td>One Person Company</td>\n",
       "      <td>Property Loss</td>\n",
       "      <td>In Transit</td>\n",
       "      <td>Cameras and other Misc. Security Equipment</td>\n",
       "      <td>2006-09-17</td>\n",
       "      <td>2006-09-27</td>\n",
       "      <td>300.00</td>\n",
       "      <td>150.00</td>\n",
       "      <td>Settle</td>\n",
       "      <td>50.0</td>\n",
       "    </tr>\n",
       "    <tr>\n",
       "      <th>4</th>\n",
       "      <td>UJOFDC41EL</td>\n",
       "      <td>DEL</td>\n",
       "      <td>Delhi</td>\n",
       "      <td>One Person Company</td>\n",
       "      <td>Property Loss</td>\n",
       "      <td>In Transit</td>\n",
       "      <td>Misc. Engineering Tools</td>\n",
       "      <td>2008-07-28</td>\n",
       "      <td>2008-12-08</td>\n",
       "      <td>83.46</td>\n",
       "      <td>41.73</td>\n",
       "      <td>Settle</td>\n",
       "      <td>50.0</td>\n",
       "    </tr>\n",
       "    <tr>\n",
       "      <th>5</th>\n",
       "      <td>IXZ4B1B9NO</td>\n",
       "      <td>MAA</td>\n",
       "      <td>Chennai</td>\n",
       "      <td>Private Limited Company</td>\n",
       "      <td>Property Loss</td>\n",
       "      <td>In Transit</td>\n",
       "      <td>Misc. Engineering Tools</td>\n",
       "      <td>2004-09-21</td>\n",
       "      <td>2004-11-16</td>\n",
       "      <td>52.49</td>\n",
       "      <td>52.49</td>\n",
       "      <td>Approve in Full</td>\n",
       "      <td>100.0</td>\n",
       "    </tr>\n",
       "    <tr>\n",
       "      <th>6</th>\n",
       "      <td>FB07DWHGHF</td>\n",
       "      <td>BDQ</td>\n",
       "      <td>Vadodara</td>\n",
       "      <td>Joint-Venture Company</td>\n",
       "      <td>Property Damage</td>\n",
       "      <td>In Transit</td>\n",
       "      <td>Inventory - Raw Material</td>\n",
       "      <td>2005-05-18</td>\n",
       "      <td>2005-07-06</td>\n",
       "      <td>24.50</td>\n",
       "      <td>0.00</td>\n",
       "      <td>Deny</td>\n",
       "      <td>0.0</td>\n",
       "    </tr>\n",
       "  </tbody>\n",
       "</table>\n",
       "</div>"
      ],
      "text/plain": [
       "  Claim Number City Code      City          Enterprise Type       Claim Type  \\\n",
       "0   DQW1NZO0PL       NSK    Nashik   Public Limited Company    Property Loss   \n",
       "1   JS5GAPRN5B       BOM    Mumbai       One Person Company    Property Loss   \n",
       "4   UJOFDC41EL       DEL     Delhi       One Person Company    Property Loss   \n",
       "5   IXZ4B1B9NO       MAA   Chennai  Private Limited Company    Property Loss   \n",
       "6   FB07DWHGHF       BDQ  Vadodara    Joint-Venture Company  Property Damage   \n",
       "\n",
       "   Claim Site                             Product Insured Incident Date  \\\n",
       "0  In Transit                    Inventory - Raw Material    2007-05-25   \n",
       "1  In Transit  Cameras and other Misc. Security Equipment    2006-09-17   \n",
       "4  In Transit                     Misc. Engineering Tools    2008-07-28   \n",
       "5  In Transit                     Misc. Engineering Tools    2004-09-21   \n",
       "6  In Transit                    Inventory - Raw Material    2005-05-18   \n",
       "\n",
       "  Date Received  Claim Amount  Close Amount      Disposition  Claim Received %  \n",
       "0    2007-06-07        490.00          0.00             Deny               0.0  \n",
       "1    2006-09-27        300.00        150.00           Settle              50.0  \n",
       "4    2008-12-08         83.46         41.73           Settle              50.0  \n",
       "5    2004-11-16         52.49         52.49  Approve in Full             100.0  \n",
       "6    2005-07-06         24.50          0.00             Deny               0.0  "
      ]
     },
     "execution_count": 11,
     "metadata": {},
     "output_type": "execute_result"
    }
   ],
   "source": [
    "# creating a new column for % of claim received\n",
    "data['Claim Received %'] = round(((data['Close Amount']/data['Claim Amount'])*100),2)\n",
    "data.head()"
   ]
  },
  {
   "cell_type": "code",
   "execution_count": 12,
   "id": "3d104b62",
   "metadata": {
    "colab": {
     "base_uri": "https://localhost:8080/"
    },
    "id": "3d104b62",
    "outputId": "0b4826b9-bb80-4e54-f006-8af1a9157d82"
   },
   "outputs": [
    {
     "data": {
      "text/plain": [
       "(24920, 13)"
      ]
     },
     "execution_count": 12,
     "metadata": {},
     "output_type": "execute_result"
    }
   ],
   "source": [
    "# data with only 100% or less claim received\n",
    "data = data[data['Claim Received %']<=100]\n",
    "data.shape"
   ]
  },
  {
   "cell_type": "code",
   "execution_count": 13,
   "id": "0724ba1a",
   "metadata": {
    "colab": {
     "base_uri": "https://localhost:8080/"
    },
    "id": "0724ba1a",
    "outputId": "f37606f9-98b8-4d79-ee82-a1ad4294c0c7"
   },
   "outputs": [
    {
     "name": "stdout",
     "output_type": "stream",
     "text": [
      "Average % of claims received when the claim is Settled : 50.10526569118213\n"
     ]
    }
   ],
   "source": [
    "# average % of claims received when the claim is 'Settled'\n",
    "\n",
    "# creating a dataframe with just settled claims\n",
    "settled = data[data['Disposition']=='Settle']\n",
    "\n",
    "avg_claim = settled['Claim Received %'].mean()\n",
    "\n",
    "print(f'Average % of claims received when the claim is Settled : {avg_claim}')"
   ]
  },
  {
   "cell_type": "code",
   "execution_count": 14,
   "id": "f3521d0c",
   "metadata": {
    "colab": {
     "base_uri": "https://localhost:8080/",
     "height": 493
    },
    "id": "f3521d0c",
    "outputId": "69d53e6f-8ffd-4266-f80c-b1fc038cf2a9"
   },
   "outputs": [
    {
     "data": {
      "text/html": [
       "<div>\n",
       "<style scoped>\n",
       "    .dataframe tbody tr th:only-of-type {\n",
       "        vertical-align: middle;\n",
       "    }\n",
       "\n",
       "    .dataframe tbody tr th {\n",
       "        vertical-align: top;\n",
       "    }\n",
       "\n",
       "    .dataframe thead th {\n",
       "        text-align: right;\n",
       "    }\n",
       "</style>\n",
       "<table border=\"1\" class=\"dataframe\">\n",
       "  <thead>\n",
       "    <tr style=\"text-align: right;\">\n",
       "      <th></th>\n",
       "      <th>Claim Number</th>\n",
       "      <th>City Code</th>\n",
       "      <th>City</th>\n",
       "      <th>Enterprise Type</th>\n",
       "      <th>Claim Type</th>\n",
       "      <th>Claim Site</th>\n",
       "      <th>Product Insured</th>\n",
       "      <th>Incident Date</th>\n",
       "      <th>Date Received</th>\n",
       "      <th>Claim Amount</th>\n",
       "      <th>Close Amount</th>\n",
       "      <th>Disposition</th>\n",
       "      <th>Claim Received %</th>\n",
       "      <th>Reporting Delay</th>\n",
       "    </tr>\n",
       "  </thead>\n",
       "  <tbody>\n",
       "    <tr>\n",
       "      <th>0</th>\n",
       "      <td>DQW1NZO0PL</td>\n",
       "      <td>NSK</td>\n",
       "      <td>Nashik</td>\n",
       "      <td>Public Limited Company</td>\n",
       "      <td>Property Loss</td>\n",
       "      <td>In Transit</td>\n",
       "      <td>Inventory - Raw Material</td>\n",
       "      <td>2007-05-25</td>\n",
       "      <td>2007-06-07</td>\n",
       "      <td>490.00</td>\n",
       "      <td>0.00</td>\n",
       "      <td>Deny</td>\n",
       "      <td>0.0</td>\n",
       "      <td>13</td>\n",
       "    </tr>\n",
       "    <tr>\n",
       "      <th>1</th>\n",
       "      <td>JS5GAPRN5B</td>\n",
       "      <td>BOM</td>\n",
       "      <td>Mumbai</td>\n",
       "      <td>One Person Company</td>\n",
       "      <td>Property Loss</td>\n",
       "      <td>In Transit</td>\n",
       "      <td>Cameras and other Misc. Security Equipment</td>\n",
       "      <td>2006-09-17</td>\n",
       "      <td>2006-09-27</td>\n",
       "      <td>300.00</td>\n",
       "      <td>150.00</td>\n",
       "      <td>Settle</td>\n",
       "      <td>50.0</td>\n",
       "      <td>10</td>\n",
       "    </tr>\n",
       "    <tr>\n",
       "      <th>4</th>\n",
       "      <td>UJOFDC41EL</td>\n",
       "      <td>DEL</td>\n",
       "      <td>Delhi</td>\n",
       "      <td>One Person Company</td>\n",
       "      <td>Property Loss</td>\n",
       "      <td>In Transit</td>\n",
       "      <td>Misc. Engineering Tools</td>\n",
       "      <td>2008-07-28</td>\n",
       "      <td>2008-12-08</td>\n",
       "      <td>83.46</td>\n",
       "      <td>41.73</td>\n",
       "      <td>Settle</td>\n",
       "      <td>50.0</td>\n",
       "      <td>133</td>\n",
       "    </tr>\n",
       "    <tr>\n",
       "      <th>5</th>\n",
       "      <td>IXZ4B1B9NO</td>\n",
       "      <td>MAA</td>\n",
       "      <td>Chennai</td>\n",
       "      <td>Private Limited Company</td>\n",
       "      <td>Property Loss</td>\n",
       "      <td>In Transit</td>\n",
       "      <td>Misc. Engineering Tools</td>\n",
       "      <td>2004-09-21</td>\n",
       "      <td>2004-11-16</td>\n",
       "      <td>52.49</td>\n",
       "      <td>52.49</td>\n",
       "      <td>Approve in Full</td>\n",
       "      <td>100.0</td>\n",
       "      <td>56</td>\n",
       "    </tr>\n",
       "    <tr>\n",
       "      <th>6</th>\n",
       "      <td>FB07DWHGHF</td>\n",
       "      <td>BDQ</td>\n",
       "      <td>Vadodara</td>\n",
       "      <td>Joint-Venture Company</td>\n",
       "      <td>Property Damage</td>\n",
       "      <td>In Transit</td>\n",
       "      <td>Inventory - Raw Material</td>\n",
       "      <td>2005-05-18</td>\n",
       "      <td>2005-07-06</td>\n",
       "      <td>24.50</td>\n",
       "      <td>0.00</td>\n",
       "      <td>Deny</td>\n",
       "      <td>0.0</td>\n",
       "      <td>49</td>\n",
       "    </tr>\n",
       "  </tbody>\n",
       "</table>\n",
       "</div>"
      ],
      "text/plain": [
       "  Claim Number City Code      City          Enterprise Type       Claim Type  \\\n",
       "0   DQW1NZO0PL       NSK    Nashik   Public Limited Company    Property Loss   \n",
       "1   JS5GAPRN5B       BOM    Mumbai       One Person Company    Property Loss   \n",
       "4   UJOFDC41EL       DEL     Delhi       One Person Company    Property Loss   \n",
       "5   IXZ4B1B9NO       MAA   Chennai  Private Limited Company    Property Loss   \n",
       "6   FB07DWHGHF       BDQ  Vadodara    Joint-Venture Company  Property Damage   \n",
       "\n",
       "   Claim Site                             Product Insured Incident Date  \\\n",
       "0  In Transit                    Inventory - Raw Material    2007-05-25   \n",
       "1  In Transit  Cameras and other Misc. Security Equipment    2006-09-17   \n",
       "4  In Transit                     Misc. Engineering Tools    2008-07-28   \n",
       "5  In Transit                     Misc. Engineering Tools    2004-09-21   \n",
       "6  In Transit                    Inventory - Raw Material    2005-05-18   \n",
       "\n",
       "  Date Received  Claim Amount  Close Amount      Disposition  \\\n",
       "0    2007-06-07        490.00          0.00             Deny   \n",
       "1    2006-09-27        300.00        150.00           Settle   \n",
       "4    2008-12-08         83.46         41.73           Settle   \n",
       "5    2004-11-16         52.49         52.49  Approve in Full   \n",
       "6    2005-07-06         24.50          0.00             Deny   \n",
       "\n",
       "   Claim Received %  Reporting Delay  \n",
       "0               0.0               13  \n",
       "1              50.0               10  \n",
       "4              50.0              133  \n",
       "5             100.0               56  \n",
       "6               0.0               49  "
      ]
     },
     "execution_count": 14,
     "metadata": {},
     "output_type": "execute_result"
    }
   ],
   "source": [
    "# creating a new column with Reporting delay\n",
    "data['Reporting Delay'] = (data['Date Received'] - data['Incident Date']).dt.days\n",
    "data.head()"
   ]
  },
  {
   "cell_type": "code",
   "execution_count": 15,
   "id": "4461591f",
   "metadata": {
    "colab": {
     "base_uri": "https://localhost:8080/"
    },
    "id": "4461591f",
    "outputId": "9388d5d0-8129-41f8-bd17-c9ddca7f3667"
   },
   "outputs": [
    {
     "name": "stdout",
     "output_type": "stream",
     "text": [
      "The product that has the highest delay in Reporting:\n",
      "Product Insured\n",
      "Misc. Electronic Items    103.78242\n",
      "Name: Reporting Delay, dtype: float64\n"
     ]
    }
   ],
   "source": [
    "# 'Product' has the highest delay in Reporting (In days) \n",
    "# grouping the product with the reporting delay by using average of each product\n",
    "product_delay = data.groupby('Product Insured')['Reporting Delay'].mean().sort_values(ascending=False)\n",
    "\n",
    "print('The product that has the highest delay in Reporting:')\n",
    "print(product_delay.head(1))"
   ]
  },
  {
   "cell_type": "code",
   "execution_count": 16,
   "id": "170d0817",
   "metadata": {
    "colab": {
     "base_uri": "https://localhost:8080/"
    },
    "id": "170d0817",
    "outputId": "e643024c-d2a7-4da7-e3bf-90f92d3a936f"
   },
   "outputs": [
    {
     "data": {
      "text/plain": [
       "Deny               0.527608\n",
       "Approve in Full    0.263965\n",
       "Settle             0.208427\n",
       "Name: Disposition, dtype: float64"
      ]
     },
     "execution_count": 16,
     "metadata": {},
     "output_type": "execute_result"
    }
   ],
   "source": [
    "# percentage of each disposition value\n",
    "data['Disposition'].value_counts(normalize=True)"
   ]
  },
  {
   "cell_type": "code",
   "execution_count": 17,
   "id": "02ce4fb6",
   "metadata": {
    "colab": {
     "base_uri": "https://localhost:8080/"
    },
    "id": "02ce4fb6",
    "outputId": "a8269b73-b4a1-4abe-d95c-f45245594882"
   },
   "outputs": [
    {
     "name": "stdout",
     "output_type": "stream",
     "text": [
      "The least number of days it took to receive the claim request is 0 days\n",
      "The most number of days it took to receive the claim request is 2118 days\n"
     ]
    }
   ],
   "source": [
    "# the least and most days it took to receive the claim request\n",
    "min_days = data['Reporting Delay'].min()\n",
    "max_days = data['Reporting Delay'].max()\n",
    "print(f'The least number of days it took to receive the claim request is {min_days} days')\n",
    "print(f'The most number of days it took to receive the claim request is {max_days} days')"
   ]
  },
  {
   "cell_type": "code",
   "execution_count": 18,
   "id": "4f62c001",
   "metadata": {
    "colab": {
     "base_uri": "https://localhost:8080/"
    },
    "id": "4f62c001",
    "outputId": "2a1b88ca-8508-4c2a-b886-d374c67eb273"
   },
   "outputs": [
    {
     "name": "stdout",
     "output_type": "stream",
     "text": [
      "<class 'pandas.core.frame.DataFrame'>\n",
      "Int64Index: 24920 entries, 0 to 34109\n",
      "Data columns (total 14 columns):\n",
      " #   Column            Non-Null Count  Dtype         \n",
      "---  ------            --------------  -----         \n",
      " 0   Claim Number      24920 non-null  object        \n",
      " 1   City Code         24920 non-null  object        \n",
      " 2   City              24920 non-null  object        \n",
      " 3   Enterprise Type   24920 non-null  object        \n",
      " 4   Claim Type        24920 non-null  object        \n",
      " 5   Claim Site        24920 non-null  object        \n",
      " 6   Product Insured   24920 non-null  object        \n",
      " 7   Incident Date     24920 non-null  datetime64[ns]\n",
      " 8   Date Received     24920 non-null  datetime64[ns]\n",
      " 9   Claim Amount      24920 non-null  float64       \n",
      " 10  Close Amount      24920 non-null  float64       \n",
      " 11  Disposition       24920 non-null  object        \n",
      " 12  Claim Received %  24920 non-null  float64       \n",
      " 13  Reporting Delay   24920 non-null  int64         \n",
      "dtypes: datetime64[ns](2), float64(3), int64(1), object(8)\n",
      "memory usage: 2.9+ MB\n"
     ]
    }
   ],
   "source": [
    "# information about the dataset\n",
    "data.info()"
   ]
  },
  {
   "cell_type": "code",
   "execution_count": 19,
   "id": "117efeeb",
   "metadata": {
    "colab": {
     "base_uri": "https://localhost:8080/"
    },
    "id": "117efeeb",
    "outputId": "a695c902-5365-4aef-d1f0-77a7bfa9b581"
   },
   "outputs": [
    {
     "data": {
      "text/plain": [
       "0"
      ]
     },
     "execution_count": 19,
     "metadata": {},
     "output_type": "execute_result"
    }
   ],
   "source": [
    "# checking for duplicates\n",
    "data.duplicated().sum()"
   ]
  },
  {
   "cell_type": "code",
   "execution_count": 20,
   "id": "518a2787",
   "metadata": {
    "colab": {
     "base_uri": "https://localhost:8080/",
     "height": 642
    },
    "id": "518a2787",
    "outputId": "c26099e3-2390-41d0-e9cb-3dfd146e5494"
   },
   "outputs": [
    {
     "data": {
      "text/html": [
       "<div>\n",
       "<style scoped>\n",
       "    .dataframe tbody tr th:only-of-type {\n",
       "        vertical-align: middle;\n",
       "    }\n",
       "\n",
       "    .dataframe tbody tr th {\n",
       "        vertical-align: top;\n",
       "    }\n",
       "\n",
       "    .dataframe thead th {\n",
       "        text-align: right;\n",
       "    }\n",
       "</style>\n",
       "<table border=\"1\" class=\"dataframe\">\n",
       "  <thead>\n",
       "    <tr style=\"text-align: right;\">\n",
       "      <th></th>\n",
       "      <th>Claim Number</th>\n",
       "      <th>City Code</th>\n",
       "      <th>City</th>\n",
       "      <th>Enterprise Type</th>\n",
       "      <th>Claim Type</th>\n",
       "      <th>Claim Site</th>\n",
       "      <th>Product Insured</th>\n",
       "      <th>Incident Date</th>\n",
       "      <th>Date Received</th>\n",
       "      <th>Claim Amount</th>\n",
       "      <th>Close Amount</th>\n",
       "      <th>Disposition</th>\n",
       "      <th>Claim Received %</th>\n",
       "      <th>Reporting Delay</th>\n",
       "    </tr>\n",
       "  </thead>\n",
       "  <tbody>\n",
       "    <tr>\n",
       "      <th>count</th>\n",
       "      <td>24920</td>\n",
       "      <td>24920</td>\n",
       "      <td>24920</td>\n",
       "      <td>24920</td>\n",
       "      <td>24920</td>\n",
       "      <td>24920</td>\n",
       "      <td>24920</td>\n",
       "      <td>24920</td>\n",
       "      <td>24920</td>\n",
       "      <td>24920.000000</td>\n",
       "      <td>24920.000000</td>\n",
       "      <td>24920</td>\n",
       "      <td>24920.000000</td>\n",
       "      <td>24920.000000</td>\n",
       "    </tr>\n",
       "    <tr>\n",
       "      <th>unique</th>\n",
       "      <td>24920</td>\n",
       "      <td>23</td>\n",
       "      <td>23</td>\n",
       "      <td>13</td>\n",
       "      <td>2</td>\n",
       "      <td>3</td>\n",
       "      <td>13</td>\n",
       "      <td>2582</td>\n",
       "      <td>1701</td>\n",
       "      <td>NaN</td>\n",
       "      <td>NaN</td>\n",
       "      <td>3</td>\n",
       "      <td>NaN</td>\n",
       "      <td>NaN</td>\n",
       "    </tr>\n",
       "    <tr>\n",
       "      <th>top</th>\n",
       "      <td>DQW1NZO0PL</td>\n",
       "      <td>BOM</td>\n",
       "      <td>Mumbai</td>\n",
       "      <td>Sole Proprietorship</td>\n",
       "      <td>Property Loss</td>\n",
       "      <td>In Transit</td>\n",
       "      <td>Inventory - Raw Material</td>\n",
       "      <td>2004-03-21 00:00:00</td>\n",
       "      <td>2004-04-21 00:00:00</td>\n",
       "      <td>NaN</td>\n",
       "      <td>NaN</td>\n",
       "      <td>Deny</td>\n",
       "      <td>NaN</td>\n",
       "      <td>NaN</td>\n",
       "    </tr>\n",
       "    <tr>\n",
       "      <th>freq</th>\n",
       "      <td>1</td>\n",
       "      <td>1884</td>\n",
       "      <td>1884</td>\n",
       "      <td>4569</td>\n",
       "      <td>15495</td>\n",
       "      <td>21030</td>\n",
       "      <td>5935</td>\n",
       "      <td>32</td>\n",
       "      <td>161</td>\n",
       "      <td>NaN</td>\n",
       "      <td>NaN</td>\n",
       "      <td>13148</td>\n",
       "      <td>NaN</td>\n",
       "      <td>NaN</td>\n",
       "    </tr>\n",
       "    <tr>\n",
       "      <th>first</th>\n",
       "      <td>NaN</td>\n",
       "      <td>NaN</td>\n",
       "      <td>NaN</td>\n",
       "      <td>NaN</td>\n",
       "      <td>NaN</td>\n",
       "      <td>NaN</td>\n",
       "      <td>NaN</td>\n",
       "      <td>2002-01-07 00:00:00</td>\n",
       "      <td>2002-06-12 00:00:00</td>\n",
       "      <td>NaN</td>\n",
       "      <td>NaN</td>\n",
       "      <td>NaN</td>\n",
       "      <td>NaN</td>\n",
       "      <td>NaN</td>\n",
       "    </tr>\n",
       "    <tr>\n",
       "      <th>last</th>\n",
       "      <td>NaN</td>\n",
       "      <td>NaN</td>\n",
       "      <td>NaN</td>\n",
       "      <td>NaN</td>\n",
       "      <td>NaN</td>\n",
       "      <td>NaN</td>\n",
       "      <td>NaN</td>\n",
       "      <td>2009-12-23 00:00:00</td>\n",
       "      <td>2009-12-31 00:00:00</td>\n",
       "      <td>NaN</td>\n",
       "      <td>NaN</td>\n",
       "      <td>NaN</td>\n",
       "      <td>NaN</td>\n",
       "      <td>NaN</td>\n",
       "    </tr>\n",
       "    <tr>\n",
       "      <th>mean</th>\n",
       "      <td>NaN</td>\n",
       "      <td>NaN</td>\n",
       "      <td>NaN</td>\n",
       "      <td>NaN</td>\n",
       "      <td>NaN</td>\n",
       "      <td>NaN</td>\n",
       "      <td>NaN</td>\n",
       "      <td>NaN</td>\n",
       "      <td>NaN</td>\n",
       "      <td>727.815649</td>\n",
       "      <td>98.420631</td>\n",
       "      <td>NaN</td>\n",
       "      <td>37.507323</td>\n",
       "      <td>96.885353</td>\n",
       "    </tr>\n",
       "    <tr>\n",
       "      <th>std</th>\n",
       "      <td>NaN</td>\n",
       "      <td>NaN</td>\n",
       "      <td>NaN</td>\n",
       "      <td>NaN</td>\n",
       "      <td>NaN</td>\n",
       "      <td>NaN</td>\n",
       "      <td>NaN</td>\n",
       "      <td>NaN</td>\n",
       "      <td>NaN</td>\n",
       "      <td>8782.064972</td>\n",
       "      <td>345.542273</td>\n",
       "      <td>NaN</td>\n",
       "      <td>43.481548</td>\n",
       "      <td>110.697506</td>\n",
       "    </tr>\n",
       "    <tr>\n",
       "      <th>min</th>\n",
       "      <td>NaN</td>\n",
       "      <td>NaN</td>\n",
       "      <td>NaN</td>\n",
       "      <td>NaN</td>\n",
       "      <td>NaN</td>\n",
       "      <td>NaN</td>\n",
       "      <td>NaN</td>\n",
       "      <td>NaN</td>\n",
       "      <td>NaN</td>\n",
       "      <td>1.000000</td>\n",
       "      <td>0.000000</td>\n",
       "      <td>NaN</td>\n",
       "      <td>0.000000</td>\n",
       "      <td>0.000000</td>\n",
       "    </tr>\n",
       "    <tr>\n",
       "      <th>25%</th>\n",
       "      <td>NaN</td>\n",
       "      <td>NaN</td>\n",
       "      <td>NaN</td>\n",
       "      <td>NaN</td>\n",
       "      <td>NaN</td>\n",
       "      <td>NaN</td>\n",
       "      <td>NaN</td>\n",
       "      <td>NaN</td>\n",
       "      <td>NaN</td>\n",
       "      <td>60.000000</td>\n",
       "      <td>0.000000</td>\n",
       "      <td>NaN</td>\n",
       "      <td>0.000000</td>\n",
       "      <td>22.000000</td>\n",
       "    </tr>\n",
       "    <tr>\n",
       "      <th>50%</th>\n",
       "      <td>NaN</td>\n",
       "      <td>NaN</td>\n",
       "      <td>NaN</td>\n",
       "      <td>NaN</td>\n",
       "      <td>NaN</td>\n",
       "      <td>NaN</td>\n",
       "      <td>NaN</td>\n",
       "      <td>NaN</td>\n",
       "      <td>NaN</td>\n",
       "      <td>178.820000</td>\n",
       "      <td>0.000000</td>\n",
       "      <td>NaN</td>\n",
       "      <td>0.000000</td>\n",
       "      <td>53.000000</td>\n",
       "    </tr>\n",
       "    <tr>\n",
       "      <th>75%</th>\n",
       "      <td>NaN</td>\n",
       "      <td>NaN</td>\n",
       "      <td>NaN</td>\n",
       "      <td>NaN</td>\n",
       "      <td>NaN</td>\n",
       "      <td>NaN</td>\n",
       "      <td>NaN</td>\n",
       "      <td>NaN</td>\n",
       "      <td>NaN</td>\n",
       "      <td>465.000000</td>\n",
       "      <td>73.425000</td>\n",
       "      <td>NaN</td>\n",
       "      <td>100.000000</td>\n",
       "      <td>140.000000</td>\n",
       "    </tr>\n",
       "    <tr>\n",
       "      <th>max</th>\n",
       "      <td>NaN</td>\n",
       "      <td>NaN</td>\n",
       "      <td>NaN</td>\n",
       "      <td>NaN</td>\n",
       "      <td>NaN</td>\n",
       "      <td>NaN</td>\n",
       "      <td>NaN</td>\n",
       "      <td>NaN</td>\n",
       "      <td>NaN</td>\n",
       "      <td>900000.000000</td>\n",
       "      <td>14518.900000</td>\n",
       "      <td>NaN</td>\n",
       "      <td>100.000000</td>\n",
       "      <td>2118.000000</td>\n",
       "    </tr>\n",
       "  </tbody>\n",
       "</table>\n",
       "</div>"
      ],
      "text/plain": [
       "       Claim Number City Code    City      Enterprise Type     Claim Type  \\\n",
       "count         24920     24920   24920                24920          24920   \n",
       "unique        24920        23      23                   13              2   \n",
       "top      DQW1NZO0PL       BOM  Mumbai  Sole Proprietorship  Property Loss   \n",
       "freq              1      1884    1884                 4569          15495   \n",
       "first           NaN       NaN     NaN                  NaN            NaN   \n",
       "last            NaN       NaN     NaN                  NaN            NaN   \n",
       "mean            NaN       NaN     NaN                  NaN            NaN   \n",
       "std             NaN       NaN     NaN                  NaN            NaN   \n",
       "min             NaN       NaN     NaN                  NaN            NaN   \n",
       "25%             NaN       NaN     NaN                  NaN            NaN   \n",
       "50%             NaN       NaN     NaN                  NaN            NaN   \n",
       "75%             NaN       NaN     NaN                  NaN            NaN   \n",
       "max             NaN       NaN     NaN                  NaN            NaN   \n",
       "\n",
       "        Claim Site           Product Insured        Incident Date  \\\n",
       "count        24920                     24920                24920   \n",
       "unique           3                        13                 2582   \n",
       "top     In Transit  Inventory - Raw Material  2004-03-21 00:00:00   \n",
       "freq         21030                      5935                   32   \n",
       "first          NaN                       NaN  2002-01-07 00:00:00   \n",
       "last           NaN                       NaN  2009-12-23 00:00:00   \n",
       "mean           NaN                       NaN                  NaN   \n",
       "std            NaN                       NaN                  NaN   \n",
       "min            NaN                       NaN                  NaN   \n",
       "25%            NaN                       NaN                  NaN   \n",
       "50%            NaN                       NaN                  NaN   \n",
       "75%            NaN                       NaN                  NaN   \n",
       "max            NaN                       NaN                  NaN   \n",
       "\n",
       "              Date Received   Claim Amount  Close Amount Disposition  \\\n",
       "count                 24920   24920.000000  24920.000000       24920   \n",
       "unique                 1701            NaN           NaN           3   \n",
       "top     2004-04-21 00:00:00            NaN           NaN        Deny   \n",
       "freq                    161            NaN           NaN       13148   \n",
       "first   2002-06-12 00:00:00            NaN           NaN         NaN   \n",
       "last    2009-12-31 00:00:00            NaN           NaN         NaN   \n",
       "mean                    NaN     727.815649     98.420631         NaN   \n",
       "std                     NaN    8782.064972    345.542273         NaN   \n",
       "min                     NaN       1.000000      0.000000         NaN   \n",
       "25%                     NaN      60.000000      0.000000         NaN   \n",
       "50%                     NaN     178.820000      0.000000         NaN   \n",
       "75%                     NaN     465.000000     73.425000         NaN   \n",
       "max                     NaN  900000.000000  14518.900000         NaN   \n",
       "\n",
       "        Claim Received %  Reporting Delay  \n",
       "count       24920.000000     24920.000000  \n",
       "unique               NaN              NaN  \n",
       "top                  NaN              NaN  \n",
       "freq                 NaN              NaN  \n",
       "first                NaN              NaN  \n",
       "last                 NaN              NaN  \n",
       "mean           37.507323        96.885353  \n",
       "std            43.481548       110.697506  \n",
       "min             0.000000         0.000000  \n",
       "25%             0.000000        22.000000  \n",
       "50%             0.000000        53.000000  \n",
       "75%           100.000000       140.000000  \n",
       "max           100.000000      2118.000000  "
      ]
     },
     "execution_count": 20,
     "metadata": {},
     "output_type": "execute_result"
    }
   ],
   "source": [
    "# description of all column\n",
    "data.describe(include='all')"
   ]
  },
  {
   "cell_type": "code",
   "execution_count": 21,
   "id": "04bd9fe9",
   "metadata": {
    "colab": {
     "base_uri": "https://localhost:8080/"
    },
    "id": "04bd9fe9",
    "outputId": "a4c57316-91d1-4bba-a014-861b95483c28"
   },
   "outputs": [
    {
     "data": {
      "text/plain": [
       "Claim Number        0\n",
       "City Code           0\n",
       "City                0\n",
       "Enterprise Type     0\n",
       "Claim Type          0\n",
       "Claim Site          0\n",
       "Product Insured     0\n",
       "Incident Date       0\n",
       "Date Received       0\n",
       "Claim Amount        0\n",
       "Close Amount        0\n",
       "Disposition         0\n",
       "Claim Received %    0\n",
       "Reporting Delay     0\n",
       "dtype: int64"
      ]
     },
     "execution_count": 21,
     "metadata": {},
     "output_type": "execute_result"
    }
   ],
   "source": [
    "# checking for missing values\n",
    "data.isnull().sum()"
   ]
  },
  {
   "cell_type": "code",
   "execution_count": 22,
   "id": "718322dc",
   "metadata": {
    "colab": {
     "base_uri": "https://localhost:8080/"
    },
    "id": "718322dc",
    "outputId": "e978a918-6444-4458-e60a-55755cf8a456"
   },
   "outputs": [
    {
     "name": "stdout",
     "output_type": "stream",
     "text": [
      "24920 Claim Number ['DQW1NZO0PL' 'JS5GAPRN5B' 'UJOFDC41EL' ... 'X1J58PT1J5' 'AGOXXE8KII'\n",
      " 'WT5RH23GPC'] \n",
      "\n",
      "23 City Code ['NSK' 'BOM' 'DEL' 'MAA' 'BDQ' 'BLR' 'AMD' 'LKO' 'PAT' 'PNQ' 'CJB' 'JAI'\n",
      " 'KNU' 'HYD' 'IDR' 'ATQ' 'THN' 'NGP' 'CCU' 'AGR' 'BHO' 'VSK' 'STV'] \n",
      "\n",
      "23 City ['Nashik' 'Mumbai' 'Delhi' 'Chennai' 'Vadodara' 'Bangalore' 'Ahmedabad'\n",
      " 'Lucknow' 'Patna' 'Pune' 'Coimbatore' 'Jaipur' 'Kanpur' 'Hyderabad'\n",
      " 'Indore' 'Amritsar' 'Thane' 'Nagpur' 'Kolkata' 'Agra' 'Bhopal'\n",
      " 'Visakhapatnam' 'Surat'] \n",
      "\n",
      "13 Enterprise Type ['Public Limited Company' 'One Person Company' 'Private Limited Company'\n",
      " 'Joint-Venture Company' 'Foreign Subsidary' 'Partnership Firm'\n",
      " 'Sole Proprietorship' 'Non-Profit Organization (NPO)'\n",
      " 'Private Ltd. MSME - Small' 'Private Ltd. MSME - Micro'\n",
      " 'Private Ltd. MSME - Medium' 'Cooperative Society'\n",
      " 'Limited Liability Parterneship (LLP)'] \n",
      "\n",
      "2 Claim Type ['Property Loss' 'Property Damage'] \n",
      "\n",
      "3 Claim Site ['In Transit' 'Warehouse' 'Other'] \n",
      "\n",
      "13 Product Insured ['Inventory - Raw Material' 'Cameras and other Misc. Security Equipment'\n",
      " 'Misc. Engineering Tools' 'Fixtures' 'Misc. Electronic Items'\n",
      " 'Inventory - Finished Goods' 'Furniture' 'Misc. Electrical Equipment'\n",
      " 'Heating, ventilation, and air conditioning (HVAC) System'\n",
      " 'Misc. Sensors' 'Misc. Lab Equipment' 'Pumps and Motors'\n",
      " 'Property, Plant, and Equipment (PPE) Parts'] \n",
      "\n",
      "2582 Incident Date ['2007-05-25T00:00:00.000000000' '2006-09-17T00:00:00.000000000'\n",
      " '2008-07-28T00:00:00.000000000' ... '2003-09-02T00:00:00.000000000'\n",
      " '2009-08-06T00:00:00.000000000' '2005-10-01T00:00:00.000000000'] \n",
      "\n",
      "1701 Date Received ['2007-06-07T00:00:00.000000000' '2006-09-27T00:00:00.000000000'\n",
      " '2008-12-08T00:00:00.000000000' ... '2004-02-20T00:00:00.000000000'\n",
      " '2003-04-12T00:00:00.000000000' '2004-12-12T00:00:00.000000000'] \n",
      "\n",
      "9410 Claim Amount [  490.     300.      83.46 ...    75.44 51000.     312.93] \n",
      "\n",
      "5085 Close Amount [  0.   150.    41.73 ... 237.99 351.1  115.6 ] \n",
      "\n",
      "3 Disposition ['Deny' 'Settle' 'Approve in Full'] \n",
      "\n",
      "1910 Claim Received % [  0.    50.   100.   ...  48.57  42.17  62.22] \n",
      "\n",
      "619 Reporting Delay [  13   10  133   56   49    2   54  123    1  170  225   57   72    0\n",
      "  131   40  201  320  220   35   32   20    6    3  184  247   14  161\n",
      "  101    9   64   33  129   18  278  160  167   16  256   83   22  135\n",
      "   77   11   28   23   46   43   26  192  162   21  109   30   75  106\n",
      "  110    8  264   95   47  274   12   44   24   63  248  194  153  279\n",
      "   25  275   17   41   31    5   15  212   51  142  221   93  107    4\n",
      "  111  354  251  317  139  233  215  132  226  126  214  249   99  159\n",
      "  166   37   76  147  224  474   27   58   19   34   98  542  163    7\n",
      "  103  445  344   89  259  245  343  232   62   36  120  187   29  100\n",
      "   81  155  277  141  137  290  250  228  104  189  191   90  255  204\n",
      "  311   67   61   79  227  388   73  124   86  108  143  257   74   70\n",
      "  168  244   92  193   85  174   38  122  165   59   39  138   96  303\n",
      "  130  289  105   87  376  281   65   42   45  169  265  182  218   94\n",
      "  231  386  198  128   48  125  154  340  658  171   60  721   53   80\n",
      "   84  172  222   50   52   91  389   55  181   78   66   68  199  353\n",
      " 1201   69  319  371  268  418  352  134  177  751  414  597  216  263\n",
      "  254  158  156  136  291   71  151  547  197  112  293  288  119  453\n",
      "  146  416  238  230  339  349  285  629  186  164  203  301  539  144\n",
      "   97  408  113  286  387  117  196  140  261  157  334  183  384  462\n",
      "  116  292  322  326  448  282  188  176 1055  185  223  118  413  584\n",
      "  145   82   88  316  234  726  310  253  200  262  115  373  127  266\n",
      "  273  341  280  195  910  202  313  385  211  730  190  219  242  372\n",
      "  321  982  507  229  175  114  121  745  260  314  150  379  213  295\n",
      "  148  102  630  323  299  695  258  602  206  399  152  450  173  328\n",
      "  205  346  479  235  368  489  426  336  308  304  246  284  217  446\n",
      "  431  309  276  252  482  243  467  605  406  209  283  272  342  345\n",
      "  350  287  337  510  179  400  380  236  653  516  478  890  294  357\n",
      "  531  348  355  383  364  307  905  351  305  523  560  374  325  540\n",
      "  306  659  964  536  505  298  335  390  404  598  434  318  407  324\n",
      "  178  149  315  297  347  458  370  444  330  476  267  589  208  435\n",
      "  511 1172  632  270  791  438  377  338  673  460  393  662  327  239\n",
      "  300  618  538  405  269  411  508  727  496  501  436  367  509  369\n",
      "  930  381  844  500  395 1248  457  571  672  439  497  484  403  477\n",
      "  656  359  498  580  356  382  594  415  312  691  518  451  683  492\n",
      "  441  599  366  447  360  428  433  568  401  469  609  417  365  430\n",
      "  455  472  733  620  180  488  463  424  949  554  475  329  493  694\n",
      "  520  713  603  358  419  240  586  689 1839  466  666  564  409  779\n",
      "  732  241  517  595  271  362  667  552  559  331  332  499  514  573\n",
      "  687  577  911  724  375  664  807  521  693  543  502  487  437  432\n",
      "  429  461 1002  561  627  638  420  827  427  750  378  423  619  747\n",
      " 2118  237  207  495  421  210  614  731  569  529 1213  716  912  770\n",
      "  537  527  570  655  512  749  913  626 1396  449  863  470  391  481\n",
      "  548  296  969  585  591  610  558  397  302  798  483  665  615 1126\n",
      "  412  596  566  700  675  588  631  828  681  835  486  506  720  761\n",
      "  643  425  759] \n",
      "\n"
     ]
    }
   ],
   "source": [
    "# checking for other form of missing values by checking each columns unique values\n",
    "for i in data.columns:\n",
    "    print(len(data[i].unique()),i,data[i].unique(),'\\n')"
   ]
  },
  {
   "cell_type": "code",
   "execution_count": 23,
   "id": "acccacf6",
   "metadata": {
    "id": "acccacf6"
   },
   "outputs": [],
   "source": [
    "# since Claim Number is a column with unique values\n",
    "# it is better to drop 'Claim Number'\n",
    "data.drop('Claim Number', axis=1, inplace=True)"
   ]
  },
  {
   "cell_type": "code",
   "execution_count": 24,
   "id": "a47306c4",
   "metadata": {
    "id": "a47306c4"
   },
   "outputs": [],
   "source": [
    "# there is no need to have both City and City Code\n",
    "# City is more understandable than City Code\n",
    "# dropping City Code\n",
    "data.drop('City Code',axis=1, inplace=True)"
   ]
  },
  {
   "cell_type": "code",
   "execution_count": 25,
   "id": "fddc1eb2",
   "metadata": {
    "colab": {
     "base_uri": "https://localhost:8080/"
    },
    "id": "fddc1eb2",
    "outputId": "d546f193-c9e9-44ab-ec69-39d2c88ecf61"
   },
   "outputs": [
    {
     "data": {
      "text/plain": [
       "(24920, 12)"
      ]
     },
     "execution_count": 25,
     "metadata": {},
     "output_type": "execute_result"
    }
   ],
   "source": [
    "# shape of data after dropping 'Claim Number' and 'City Code'\n",
    "data.shape"
   ]
  },
  {
   "cell_type": "code",
   "execution_count": 26,
   "id": "878635ce",
   "metadata": {
    "colab": {
     "base_uri": "https://localhost:8080/",
     "height": 206
    },
    "id": "878635ce",
    "outputId": "d2079686-3093-46f6-a46c-fe5fc6cc661a"
   },
   "outputs": [
    {
     "data": {
      "text/html": [
       "<div>\n",
       "<style scoped>\n",
       "    .dataframe tbody tr th:only-of-type {\n",
       "        vertical-align: middle;\n",
       "    }\n",
       "\n",
       "    .dataframe tbody tr th {\n",
       "        vertical-align: top;\n",
       "    }\n",
       "\n",
       "    .dataframe thead th {\n",
       "        text-align: right;\n",
       "    }\n",
       "</style>\n",
       "<table border=\"1\" class=\"dataframe\">\n",
       "  <thead>\n",
       "    <tr style=\"text-align: right;\">\n",
       "      <th></th>\n",
       "      <th>Incident Date</th>\n",
       "      <th>Date Received</th>\n",
       "      <th>City</th>\n",
       "      <th>Enterprise Type</th>\n",
       "      <th>Claim Type</th>\n",
       "      <th>Claim Site</th>\n",
       "      <th>Product Insured</th>\n",
       "    </tr>\n",
       "  </thead>\n",
       "  <tbody>\n",
       "    <tr>\n",
       "      <th>0</th>\n",
       "      <td>21-09-2006</td>\n",
       "      <td>26-12-2006</td>\n",
       "      <td>Pune</td>\n",
       "      <td>One Person Company</td>\n",
       "      <td>Property Loss</td>\n",
       "      <td>In Transit</td>\n",
       "      <td>Inventory - Finished Goods</td>\n",
       "    </tr>\n",
       "    <tr>\n",
       "      <th>1</th>\n",
       "      <td>15-01-2009</td>\n",
       "      <td>11-02-2009</td>\n",
       "      <td>Pune</td>\n",
       "      <td>Limited Liability Parterneship (LLP)</td>\n",
       "      <td>Property Loss</td>\n",
       "      <td>In Transit</td>\n",
       "      <td>Fixtures</td>\n",
       "    </tr>\n",
       "    <tr>\n",
       "      <th>2</th>\n",
       "      <td>17-08-2005</td>\n",
       "      <td>01-09-2005</td>\n",
       "      <td>Ahmedabad</td>\n",
       "      <td>Private Limited Company</td>\n",
       "      <td>Property Loss</td>\n",
       "      <td>Warehouse</td>\n",
       "      <td>Inventory - Raw Material</td>\n",
       "    </tr>\n",
       "    <tr>\n",
       "      <th>3</th>\n",
       "      <td>15-02-2005</td>\n",
       "      <td>01-06-2005</td>\n",
       "      <td>Delhi</td>\n",
       "      <td>One Person Company</td>\n",
       "      <td>Property Damage</td>\n",
       "      <td>In Transit</td>\n",
       "      <td>Inventory - Finished Goods</td>\n",
       "    </tr>\n",
       "    <tr>\n",
       "      <th>4</th>\n",
       "      <td>17-03-2003</td>\n",
       "      <td>01-04-2003</td>\n",
       "      <td>Pune</td>\n",
       "      <td>Private Limited Company</td>\n",
       "      <td>Property Damage</td>\n",
       "      <td>In Transit</td>\n",
       "      <td>Misc. Electronic Items</td>\n",
       "    </tr>\n",
       "  </tbody>\n",
       "</table>\n",
       "</div>"
      ],
      "text/plain": [
       "  Incident Date Date Received       City  \\\n",
       "0    21-09-2006    26-12-2006       Pune   \n",
       "1    15-01-2009    11-02-2009       Pune   \n",
       "2    17-08-2005    01-09-2005  Ahmedabad   \n",
       "3    15-02-2005    01-06-2005      Delhi   \n",
       "4    17-03-2003    01-04-2003       Pune   \n",
       "\n",
       "                        Enterprise Type       Claim Type  Claim Site  \\\n",
       "0                    One Person Company    Property Loss  In Transit   \n",
       "1  Limited Liability Parterneship (LLP)    Property Loss  In Transit   \n",
       "2               Private Limited Company    Property Loss   Warehouse   \n",
       "3                    One Person Company  Property Damage  In Transit   \n",
       "4               Private Limited Company  Property Damage  In Transit   \n",
       "\n",
       "              Product Insured  \n",
       "0  Inventory - Finished Goods  \n",
       "1                    Fixtures  \n",
       "2    Inventory - Raw Material  \n",
       "3  Inventory - Finished Goods  \n",
       "4      Misc. Electronic Items  "
      ]
     },
     "execution_count": 26,
     "metadata": {},
     "output_type": "execute_result"
    }
   ],
   "source": [
    "test.drop('Claim Number', axis=1, inplace=True)\n",
    "test.drop('City Code',axis=1, inplace=True)\n",
    "test.head()"
   ]
  },
  {
   "cell_type": "code",
   "execution_count": 27,
   "id": "f2e01b32",
   "metadata": {
    "colab": {
     "base_uri": "https://localhost:8080/"
    },
    "id": "f2e01b32",
    "outputId": "b282ffe4-613d-4ea7-f42c-5ef8fd52718a"
   },
   "outputs": [
    {
     "data": {
      "text/plain": [
       "(3791, 7)"
      ]
     },
     "execution_count": 27,
     "metadata": {},
     "output_type": "execute_result"
    }
   ],
   "source": [
    "test.shape"
   ]
  },
  {
   "cell_type": "markdown",
   "id": "bedfd68b",
   "metadata": {
    "id": "bedfd68b"
   },
   "source": [
    "## Visualization"
   ]
  },
  {
   "cell_type": "code",
   "execution_count": 28,
   "id": "8504864a",
   "metadata": {
    "colab": {
     "base_uri": "https://localhost:8080/",
     "height": 542
    },
    "id": "8504864a",
    "outputId": "b8108c30-748b-4b99-bd29-caeb9c44af16"
   },
   "outputs": [
    {
     "data": {
      "image/png": "[encoded data removed]",
      "text/plain": [
       "<Figure size 576x432 with 1 Axes>"
      ]
     },
     "metadata": {
      "needs_background": "light"
     },
     "output_type": "display_data"
    }
   ],
   "source": [
    "# plotting frequency graph for 'Disposition'\n",
    "plt.figure(figsize=(8,6))\n",
    "sns.countplot(data=data, x='Disposition')\n",
    "plt.show()"
   ]
  },
  {
   "cell_type": "code",
   "execution_count": 29,
   "id": "f447dbe3",
   "metadata": {
    "colab": {
     "base_uri": "https://localhost:8080/",
     "height": 496
    },
    "id": "f447dbe3",
    "outputId": "a72a121d-41ef-48b7-c561-14cd19d68f66"
   },
   "outputs": [
    {
     "data": {
      "image/png": "[encoded data removed]",
      "text/plain": [
       "<Figure size 1440x720 with 1 Axes>"
      ]
     },
     "metadata": {
      "needs_background": "light"
     },
     "output_type": "display_data"
    }
   ],
   "source": [
    "# plotting frequency graph for 'Enterprise Type'\n",
    "plt.figure(figsize=(20,10))\n",
    "data.groupby('Enterprise Type')['Enterprise Type'].count().sort_values(ascending=False).plot(kind='barh')\n",
    "plt.xlabel('Count',fontsize=18)\n",
    "plt.ylabel('Enterprise Type',fontsize=18)\n",
    "plt.xticks(fontsize=15)\n",
    "plt.yticks(fontsize=15)\n",
    "plt.show()"
   ]
  },
  {
   "cell_type": "code",
   "execution_count": 30,
   "id": "4c6c18e1",
   "metadata": {
    "colab": {
     "base_uri": "https://localhost:8080/",
     "height": 542
    },
    "id": "4c6c18e1",
    "outputId": "e2f6ab9e-c512-407a-d030-3584f42da507"
   },
   "outputs": [
    {
     "data": {
      "image/png": "[encoded data removed]",
      "text/plain": [
       "<Figure size 576x432 with 1 Axes>"
      ]
     },
     "metadata": {
      "needs_background": "light"
     },
     "output_type": "display_data"
    }
   ],
   "source": [
    "# plotting frequency graph for 'Claim Type'\n",
    "plt.figure(figsize=(8,6))\n",
    "sns.countplot(data=data, x='Claim Type')\n",
    "plt.show()"
   ]
  },
  {
   "cell_type": "code",
   "execution_count": 31,
   "id": "b5bfcb54",
   "metadata": {
    "colab": {
     "base_uri": "https://localhost:8080/",
     "height": 542
    },
    "id": "b5bfcb54",
    "outputId": "8f6b017f-7dfe-4d71-f2ee-47f8dab44bb3"
   },
   "outputs": [
    {
     "data": {
      "image/png": "[encoded data removed]",
      "text/plain": [
       "<Figure size 576x432 with 1 Axes>"
      ]
     },
     "metadata": {
      "needs_background": "light"
     },
     "output_type": "display_data"
    }
   ],
   "source": [
    "# plotting frequency graph for 'Claim Site'\n",
    "plt.figure(figsize=(8,6))\n",
    "sns.countplot(data=data, x='Claim Site')\n",
    "plt.show()"
   ]
  },
  {
   "cell_type": "code",
   "execution_count": 32,
   "id": "f7db41fc",
   "metadata": {
    "colab": {
     "base_uri": "https://localhost:8080/",
     "height": 447
    },
    "id": "f7db41fc",
    "outputId": "a0959732-5a1d-4493-a3b3-86f161e45464"
   },
   "outputs": [
    {
     "data": {
      "image/png": "[encoded data removed]",
      "text/plain": [
       "<Figure size 1440x720 with 1 Axes>"
      ]
     },
     "metadata": {
      "needs_background": "light"
     },
     "output_type": "display_data"
    }
   ],
   "source": [
    "# plotting frequency graph for 'Product Insured'\n",
    "plt.figure(figsize=(20,10))\n",
    "data.groupby('Product Insured')['Product Insured'].count().sort_values(ascending=False).plot(kind='barh')\n",
    "plt.xlabel('Count',fontsize=18)\n",
    "plt.ylabel('Product Insured',fontsize=18)\n",
    "plt.xticks(fontsize=15)\n",
    "plt.yticks(fontsize=15)\n",
    "plt.show()"
   ]
  },
  {
   "cell_type": "code",
   "execution_count": 33,
   "id": "330ae233",
   "metadata": {
    "colab": {
     "base_uri": "https://localhost:8080/",
     "height": 1000
    },
    "id": "330ae233",
    "outputId": "5231053d-d221-48e7-ed32-cecd089e9f92"
   },
   "outputs": [
    {
     "data": {
      "image/png": "[encoded data removed]",
      "text/plain": [
       "<Figure size 864x576 with 1 Axes>"
      ]
     },
     "metadata": {
      "needs_background": "light"
     },
     "output_type": "display_data"
    },
    {
     "data": {
      "image/png": "[encoded data removed]",
      "text/plain": [
       "<Figure size 864x576 with 1 Axes>"
      ]
     },
     "metadata": {
      "needs_background": "light"
     },
     "output_type": "display_data"
    }
   ],
   "source": [
    "# Do people Report Products with more value earlier compared to Products with less value?\n",
    "plt.figure(figsize=(12,8))\n",
    "sns.scatterplot(data=data,x='Claim Amount',y='Reporting Delay')\n",
    "plt.show()\n",
    "\n",
    "plt.figure(figsize=(12,8))\n",
    "sns.scatterplot(data=data,x='Claim Amount',y='Reporting Delay', hue='Product Insured')\n",
    "plt.show()"
   ]
  },
  {
   "cell_type": "markdown",
   "id": "1237498f",
   "metadata": {
    "id": "1237498f"
   },
   "source": [
    "> As shown in the above graphs, the products with more value are reported earlier compared to products with less value."
   ]
  },
  {
   "cell_type": "code",
   "execution_count": 34,
   "id": "3fab2f08",
   "metadata": {
    "colab": {
     "base_uri": "https://localhost:8080/",
     "height": 696
    },
    "id": "3fab2f08",
    "outputId": "fdb870f6-f619-4f2b-8946-9f069942b9f4"
   },
   "outputs": [
    {
     "data": {
      "image/png": "[encoded data removed]",
      "text/plain": [
       "<Figure size 864x576 with 1 Axes>"
      ]
     },
     "metadata": {
      "needs_background": "light"
     },
     "output_type": "display_data"
    }
   ],
   "source": [
    "# Find if Delay in reporting affects the Percentage of Claim Received ?\n",
    "plt.figure(figsize=(12,8))\n",
    "sns.scatterplot(data=data,x='Claim Received %',y='Reporting Delay')\n",
    "plt.show()"
   ]
  },
  {
   "cell_type": "markdown",
   "id": "5e89f609",
   "metadata": {
    "id": "5e89f609"
   },
   "source": [
    "> From the above graph it is shown that, for claims reporting after 1000 days have no claims i.e. has 0% claim received "
   ]
  },
  {
   "cell_type": "code",
   "execution_count": 35,
   "id": "7a3483ba",
   "metadata": {
    "colab": {
     "base_uri": "https://localhost:8080/",
     "height": 1000
    },
    "id": "7a3483ba",
    "outputId": "22b4c856-69e5-46fa-96f6-d2e80b5a8eca"
   },
   "outputs": [
    {
     "data": {
      "image/png": "[encoded data removed]",
      "text/plain": [
       "<Figure size 720x576 with 1 Axes>"
      ]
     },
     "metadata": {
      "needs_background": "light"
     },
     "output_type": "display_data"
    },
    {
     "data": {
      "image/png": "[encoded data removed]",
      "text/plain": [
       "<Figure size 720x576 with 1 Axes>"
      ]
     },
     "metadata": {
      "needs_background": "light"
     },
     "output_type": "display_data"
    }
   ],
   "source": [
    "# How claim type and filed Claim Amount could affect the settlement of claim Amount?\n",
    "plt.figure(figsize=(10,8))\n",
    "sns.barplot(data=settled, x='Claim Type',y='Claim Amount')\n",
    "plt.title('Claim type and filed Claim Amount affect on the settlement of claim Amount')\n",
    "plt.show()\n",
    "\n",
    "# How claim type and filed Claim Amount could affect various Disposition of claim Amount?\n",
    "plt.figure(figsize=(10,8))\n",
    "sns.barplot(data=data, x='Claim Type',y='Claim Amount', hue='Disposition')\n",
    "plt.title('Claim type and filed Claim Amount affect on various Disposition of claim Amount')\n",
    "plt.show()"
   ]
  },
  {
   "cell_type": "markdown",
   "id": "0143920e",
   "metadata": {
    "id": "0143920e"
   },
   "source": [
    "> As shown in the above graphs, more claim amount was filed for property loss compared to poperty damage in settlement "
   ]
  },
  {
   "cell_type": "code",
   "execution_count": 36,
   "id": "4bae031e",
   "metadata": {
    "colab": {
     "base_uri": "https://localhost:8080/",
     "height": 551
    },
    "id": "4bae031e",
    "outputId": "45f11817-3c89-4d05-cdb0-b9c12ebc9682"
   },
   "outputs": [
    {
     "data": {
      "image/png": "[encoded data removed]",
      "text/plain": [
       "<Figure size 1440x720 with 1 Axes>"
      ]
     },
     "metadata": {
      "needs_background": "light"
     },
     "output_type": "display_data"
    }
   ],
   "source": [
    "# Which City has reported the highest number of incidents ?\n",
    "plt.figure(figsize=(20,10))\n",
    "data.groupby('City')['City'].count().sort_values(ascending=False).plot(kind='barh')\n",
    "plt.xlabel('Count',fontsize=18)\n",
    "plt.ylabel('City',fontsize=18)\n",
    "plt.xticks(fontsize=15)\n",
    "plt.yticks(fontsize=15)\n",
    "plt.show()"
   ]
  },
  {
   "cell_type": "markdown",
   "id": "f8a95b2f",
   "metadata": {
    "id": "f8a95b2f"
   },
   "source": [
    "> As shown in the above graph, **Mumbai** has the highest number of incidents"
   ]
  },
  {
   "cell_type": "code",
   "execution_count": 37,
   "id": "4a2b737b",
   "metadata": {
    "colab": {
     "base_uri": "https://localhost:8080/",
     "height": 542
    },
    "id": "4a2b737b",
    "outputId": "1c7cfd68-9649-4ede-f7fc-1a9fcf19256f"
   },
   "outputs": [
    {
     "data": {
      "image/png": "[encoded data removed]",
      "text/plain": [
       "<Figure size 576x432 with 1 Axes>"
      ]
     },
     "metadata": {
      "needs_background": "light"
     },
     "output_type": "display_data"
    }
   ],
   "source": [
    "# Which Type of Claims have the highest number of incidents ?\n",
    "plt.figure(figsize=(8,6))\n",
    "sns.countplot(data=data, x='Claim Type')\n",
    "plt.show()"
   ]
  },
  {
   "cell_type": "markdown",
   "id": "86c33e8f",
   "metadata": {
    "id": "86c33e8f"
   },
   "source": [
    "> As shown in the above graph, **Property Loss** has the highest number of incidents"
   ]
  },
  {
   "cell_type": "markdown",
   "id": "b313b6b1",
   "metadata": {
    "id": "b313b6b1"
   },
   "source": [
    "## Pre-processing"
   ]
  },
  {
   "cell_type": "code",
   "execution_count": 38,
   "id": "63d33b2f",
   "metadata": {
    "colab": {
     "base_uri": "https://localhost:8080/",
     "height": 371
    },
    "id": "63d33b2f",
    "outputId": "ffc5e8bd-4dc1-4631-b780-81c35aeea098"
   },
   "outputs": [
    {
     "data": {
      "text/html": [
       "<div>\n",
       "<style scoped>\n",
       "    .dataframe tbody tr th:only-of-type {\n",
       "        vertical-align: middle;\n",
       "    }\n",
       "\n",
       "    .dataframe tbody tr th {\n",
       "        vertical-align: top;\n",
       "    }\n",
       "\n",
       "    .dataframe thead th {\n",
       "        text-align: right;\n",
       "    }\n",
       "</style>\n",
       "<table border=\"1\" class=\"dataframe\">\n",
       "  <thead>\n",
       "    <tr style=\"text-align: right;\">\n",
       "      <th></th>\n",
       "      <th>City</th>\n",
       "      <th>Enterprise Type</th>\n",
       "      <th>Claim Type</th>\n",
       "      <th>Claim Site</th>\n",
       "      <th>Product Insured</th>\n",
       "      <th>Incident Date</th>\n",
       "      <th>Date Received</th>\n",
       "      <th>Claim Amount</th>\n",
       "      <th>Close Amount</th>\n",
       "      <th>Disposition</th>\n",
       "      <th>Claim Received %</th>\n",
       "      <th>Reporting Delay</th>\n",
       "    </tr>\n",
       "  </thead>\n",
       "  <tbody>\n",
       "    <tr>\n",
       "      <th>0</th>\n",
       "      <td>Nashik</td>\n",
       "      <td>Public Limited Company</td>\n",
       "      <td>Property Loss</td>\n",
       "      <td>In Transit</td>\n",
       "      <td>Inventory - Raw Material</td>\n",
       "      <td>2007-05-25</td>\n",
       "      <td>2007-06-07</td>\n",
       "      <td>490.00</td>\n",
       "      <td>0.00</td>\n",
       "      <td>Deny</td>\n",
       "      <td>0.0</td>\n",
       "      <td>13</td>\n",
       "    </tr>\n",
       "    <tr>\n",
       "      <th>1</th>\n",
       "      <td>Mumbai</td>\n",
       "      <td>One Person Company</td>\n",
       "      <td>Property Loss</td>\n",
       "      <td>In Transit</td>\n",
       "      <td>Cameras and other Misc. Security Equipment</td>\n",
       "      <td>2006-09-17</td>\n",
       "      <td>2006-09-27</td>\n",
       "      <td>300.00</td>\n",
       "      <td>150.00</td>\n",
       "      <td>Settle</td>\n",
       "      <td>50.0</td>\n",
       "      <td>10</td>\n",
       "    </tr>\n",
       "    <tr>\n",
       "      <th>4</th>\n",
       "      <td>Delhi</td>\n",
       "      <td>One Person Company</td>\n",
       "      <td>Property Loss</td>\n",
       "      <td>In Transit</td>\n",
       "      <td>Misc. Engineering Tools</td>\n",
       "      <td>2008-07-28</td>\n",
       "      <td>2008-12-08</td>\n",
       "      <td>83.46</td>\n",
       "      <td>41.73</td>\n",
       "      <td>Settle</td>\n",
       "      <td>50.0</td>\n",
       "      <td>133</td>\n",
       "    </tr>\n",
       "    <tr>\n",
       "      <th>5</th>\n",
       "      <td>Chennai</td>\n",
       "      <td>Private Limited Company</td>\n",
       "      <td>Property Loss</td>\n",
       "      <td>In Transit</td>\n",
       "      <td>Misc. Engineering Tools</td>\n",
       "      <td>2004-09-21</td>\n",
       "      <td>2004-11-16</td>\n",
       "      <td>52.49</td>\n",
       "      <td>52.49</td>\n",
       "      <td>Approve in Full</td>\n",
       "      <td>100.0</td>\n",
       "      <td>56</td>\n",
       "    </tr>\n",
       "    <tr>\n",
       "      <th>6</th>\n",
       "      <td>Vadodara</td>\n",
       "      <td>Joint-Venture Company</td>\n",
       "      <td>Property Damage</td>\n",
       "      <td>In Transit</td>\n",
       "      <td>Inventory - Raw Material</td>\n",
       "      <td>2005-05-18</td>\n",
       "      <td>2005-07-06</td>\n",
       "      <td>24.50</td>\n",
       "      <td>0.00</td>\n",
       "      <td>Deny</td>\n",
       "      <td>0.0</td>\n",
       "      <td>49</td>\n",
       "    </tr>\n",
       "  </tbody>\n",
       "</table>\n",
       "</div>"
      ],
      "text/plain": [
       "       City          Enterprise Type       Claim Type  Claim Site  \\\n",
       "0    Nashik   Public Limited Company    Property Loss  In Transit   \n",
       "1    Mumbai       One Person Company    Property Loss  In Transit   \n",
       "4     Delhi       One Person Company    Property Loss  In Transit   \n",
       "5   Chennai  Private Limited Company    Property Loss  In Transit   \n",
       "6  Vadodara    Joint-Venture Company  Property Damage  In Transit   \n",
       "\n",
       "                              Product Insured Incident Date Date Received  \\\n",
       "0                    Inventory - Raw Material    2007-05-25    2007-06-07   \n",
       "1  Cameras and other Misc. Security Equipment    2006-09-17    2006-09-27   \n",
       "4                     Misc. Engineering Tools    2008-07-28    2008-12-08   \n",
       "5                     Misc. Engineering Tools    2004-09-21    2004-11-16   \n",
       "6                    Inventory - Raw Material    2005-05-18    2005-07-06   \n",
       "\n",
       "   Claim Amount  Close Amount      Disposition  Claim Received %  \\\n",
       "0        490.00          0.00             Deny               0.0   \n",
       "1        300.00        150.00           Settle              50.0   \n",
       "4         83.46         41.73           Settle              50.0   \n",
       "5         52.49         52.49  Approve in Full             100.0   \n",
       "6         24.50          0.00             Deny               0.0   \n",
       "\n",
       "   Reporting Delay  \n",
       "0               13  \n",
       "1               10  \n",
       "4              133  \n",
       "5               56  \n",
       "6               49  "
      ]
     },
     "execution_count": 38,
     "metadata": {},
     "output_type": "execute_result"
    }
   ],
   "source": [
    "data.head()"
   ]
  },
  {
   "cell_type": "code",
   "execution_count": 39,
   "id": "eb285e65",
   "metadata": {
    "colab": {
     "base_uri": "https://localhost:8080/"
    },
    "id": "eb285e65",
    "outputId": "83a3f546-3dcd-4136-a66b-642fe8d2530d"
   },
   "outputs": [
    {
     "data": {
      "text/plain": [
       "(24920, 10)"
      ]
     },
     "execution_count": 39,
     "metadata": {},
     "output_type": "execute_result"
    }
   ],
   "source": [
    "# 'Reporting Delay' can be used instead of (Incident Date, Date Received)\n",
    "# dropping 'Incident Date' and 'Date Received'\n",
    "data.drop(['Incident Date','Date Received'],axis=1,inplace=True)\n",
    "data.shape"
   ]
  },
  {
   "cell_type": "code",
   "execution_count": 40,
   "id": "fd986dcc",
   "metadata": {
    "colab": {
     "base_uri": "https://localhost:8080/",
     "height": 223
    },
    "id": "fd986dcc",
    "outputId": "9b46828e-5f2d-412d-cb41-e3b014c02c39"
   },
   "outputs": [
    {
     "name": "stdout",
     "output_type": "stream",
     "text": [
      "(24920, 7)\n"
     ]
    },
    {
     "data": {
      "text/html": [
       "<div>\n",
       "<style scoped>\n",
       "    .dataframe tbody tr th:only-of-type {\n",
       "        vertical-align: middle;\n",
       "    }\n",
       "\n",
       "    .dataframe tbody tr th {\n",
       "        vertical-align: top;\n",
       "    }\n",
       "\n",
       "    .dataframe thead th {\n",
       "        text-align: right;\n",
       "    }\n",
       "</style>\n",
       "<table border=\"1\" class=\"dataframe\">\n",
       "  <thead>\n",
       "    <tr style=\"text-align: right;\">\n",
       "      <th></th>\n",
       "      <th>City</th>\n",
       "      <th>Enterprise Type</th>\n",
       "      <th>Claim Type</th>\n",
       "      <th>Claim Site</th>\n",
       "      <th>Product Insured</th>\n",
       "      <th>Disposition</th>\n",
       "      <th>Reporting Delay</th>\n",
       "    </tr>\n",
       "  </thead>\n",
       "  <tbody>\n",
       "    <tr>\n",
       "      <th>0</th>\n",
       "      <td>Nashik</td>\n",
       "      <td>Public Limited Company</td>\n",
       "      <td>Property Loss</td>\n",
       "      <td>In Transit</td>\n",
       "      <td>Inventory - Raw Material</td>\n",
       "      <td>Deny</td>\n",
       "      <td>13</td>\n",
       "    </tr>\n",
       "    <tr>\n",
       "      <th>1</th>\n",
       "      <td>Mumbai</td>\n",
       "      <td>One Person Company</td>\n",
       "      <td>Property Loss</td>\n",
       "      <td>In Transit</td>\n",
       "      <td>Cameras and other Misc. Security Equipment</td>\n",
       "      <td>Settle</td>\n",
       "      <td>10</td>\n",
       "    </tr>\n",
       "    <tr>\n",
       "      <th>4</th>\n",
       "      <td>Delhi</td>\n",
       "      <td>One Person Company</td>\n",
       "      <td>Property Loss</td>\n",
       "      <td>In Transit</td>\n",
       "      <td>Misc. Engineering Tools</td>\n",
       "      <td>Settle</td>\n",
       "      <td>133</td>\n",
       "    </tr>\n",
       "    <tr>\n",
       "      <th>5</th>\n",
       "      <td>Chennai</td>\n",
       "      <td>Private Limited Company</td>\n",
       "      <td>Property Loss</td>\n",
       "      <td>In Transit</td>\n",
       "      <td>Misc. Engineering Tools</td>\n",
       "      <td>Approve in Full</td>\n",
       "      <td>56</td>\n",
       "    </tr>\n",
       "    <tr>\n",
       "      <th>6</th>\n",
       "      <td>Vadodara</td>\n",
       "      <td>Joint-Venture Company</td>\n",
       "      <td>Property Damage</td>\n",
       "      <td>In Transit</td>\n",
       "      <td>Inventory - Raw Material</td>\n",
       "      <td>Deny</td>\n",
       "      <td>49</td>\n",
       "    </tr>\n",
       "  </tbody>\n",
       "</table>\n",
       "</div>"
      ],
      "text/plain": [
       "       City          Enterprise Type       Claim Type  Claim Site  \\\n",
       "0    Nashik   Public Limited Company    Property Loss  In Transit   \n",
       "1    Mumbai       One Person Company    Property Loss  In Transit   \n",
       "4     Delhi       One Person Company    Property Loss  In Transit   \n",
       "5   Chennai  Private Limited Company    Property Loss  In Transit   \n",
       "6  Vadodara    Joint-Venture Company  Property Damage  In Transit   \n",
       "\n",
       "                              Product Insured      Disposition  \\\n",
       "0                    Inventory - Raw Material             Deny   \n",
       "1  Cameras and other Misc. Security Equipment           Settle   \n",
       "4                     Misc. Engineering Tools           Settle   \n",
       "5                     Misc. Engineering Tools  Approve in Full   \n",
       "6                    Inventory - Raw Material             Deny   \n",
       "\n",
       "   Reporting Delay  \n",
       "0               13  \n",
       "1               10  \n",
       "4              133  \n",
       "5               56  \n",
       "6               49  "
      ]
     },
     "execution_count": 40,
     "metadata": {},
     "output_type": "execute_result"
    }
   ],
   "source": [
    "# Claim Amount, Close Amount, Claim Received % are not necessary for the training\n",
    "# dropping the mentioned columns\n",
    "data.drop(['Claim Amount', 'Close Amount', 'Claim Received %'], axis=1, inplace=True)\n",
    "print(data.shape)\n",
    "data.head()"
   ]
  },
  {
   "cell_type": "code",
   "execution_count": 41,
   "id": "7cff2593",
   "metadata": {
    "colab": {
     "base_uri": "https://localhost:8080/"
    },
    "id": "7cff2593",
    "outputId": "88a49c39-fed6-406b-ad3a-b37ee0c22985"
   },
   "outputs": [
    {
     "name": "stdout",
     "output_type": "stream",
     "text": [
      "Before: (3791, 7)\n",
      "After: (2719, 8)\n"
     ]
    }
   ],
   "source": [
    "# similarly for test data\n",
    "print('Before:',test.shape)\n",
    "\n",
    "test['Incident Date'] = pd.to_datetime(test['Incident Date'])\n",
    "test['Date Received'] = pd.to_datetime(test['Date Received'])\n",
    "test = test[(test['Incident Date'] >= '2002-01-01') & (test['Incident Date'] <= '2009-12-31')]\n",
    "test = test[(test['Date Received'] >= '2002-01-01') & (test['Date Received'] <= '2009-12-31')]\n",
    "test = test[test['Incident Date'] <= test['Date Received']]\n",
    "test['Reporting Delay'] = (test['Date Received'] - test['Incident Date']).dt.days\n",
    "\n",
    "print('After:',test.shape)"
   ]
  },
  {
   "cell_type": "code",
   "execution_count": 42,
   "id": "636009dc",
   "metadata": {
    "colab": {
     "base_uri": "https://localhost:8080/",
     "height": 250
    },
    "id": "636009dc",
    "outputId": "b778b07d-87df-46ba-f335-fcb3632515b8"
   },
   "outputs": [
    {
     "data": {
      "text/html": [
       "<div>\n",
       "<style scoped>\n",
       "    .dataframe tbody tr th:only-of-type {\n",
       "        vertical-align: middle;\n",
       "    }\n",
       "\n",
       "    .dataframe tbody tr th {\n",
       "        vertical-align: top;\n",
       "    }\n",
       "\n",
       "    .dataframe thead th {\n",
       "        text-align: right;\n",
       "    }\n",
       "</style>\n",
       "<table border=\"1\" class=\"dataframe\">\n",
       "  <thead>\n",
       "    <tr style=\"text-align: right;\">\n",
       "      <th></th>\n",
       "      <th>Incident Date</th>\n",
       "      <th>Date Received</th>\n",
       "      <th>City</th>\n",
       "      <th>Enterprise Type</th>\n",
       "      <th>Claim Type</th>\n",
       "      <th>Claim Site</th>\n",
       "      <th>Product Insured</th>\n",
       "      <th>Reporting Delay</th>\n",
       "    </tr>\n",
       "  </thead>\n",
       "  <tbody>\n",
       "    <tr>\n",
       "      <th>0</th>\n",
       "      <td>2006-09-21</td>\n",
       "      <td>2006-12-26</td>\n",
       "      <td>Pune</td>\n",
       "      <td>One Person Company</td>\n",
       "      <td>Property Loss</td>\n",
       "      <td>In Transit</td>\n",
       "      <td>Inventory - Finished Goods</td>\n",
       "      <td>96</td>\n",
       "    </tr>\n",
       "    <tr>\n",
       "      <th>1</th>\n",
       "      <td>2009-01-15</td>\n",
       "      <td>2009-11-02</td>\n",
       "      <td>Pune</td>\n",
       "      <td>Limited Liability Parterneship (LLP)</td>\n",
       "      <td>Property Loss</td>\n",
       "      <td>In Transit</td>\n",
       "      <td>Fixtures</td>\n",
       "      <td>291</td>\n",
       "    </tr>\n",
       "    <tr>\n",
       "      <th>5</th>\n",
       "      <td>2003-11-09</td>\n",
       "      <td>2004-01-20</td>\n",
       "      <td>Kolkata</td>\n",
       "      <td>Private Limited Company</td>\n",
       "      <td>Property Damage</td>\n",
       "      <td>In Transit</td>\n",
       "      <td>Misc. Engineering Tools</td>\n",
       "      <td>72</td>\n",
       "    </tr>\n",
       "    <tr>\n",
       "      <th>7</th>\n",
       "      <td>2005-03-14</td>\n",
       "      <td>2005-04-19</td>\n",
       "      <td>Kanpur</td>\n",
       "      <td>Foreign Subsidary</td>\n",
       "      <td>Property Loss</td>\n",
       "      <td>In Transit</td>\n",
       "      <td>Misc. Engineering Tools</td>\n",
       "      <td>36</td>\n",
       "    </tr>\n",
       "    <tr>\n",
       "      <th>8</th>\n",
       "      <td>2008-12-26</td>\n",
       "      <td>2009-07-01</td>\n",
       "      <td>Mumbai</td>\n",
       "      <td>Public Limited Company</td>\n",
       "      <td>Property Loss</td>\n",
       "      <td>In Transit</td>\n",
       "      <td>Misc. Engineering Tools</td>\n",
       "      <td>187</td>\n",
       "    </tr>\n",
       "  </tbody>\n",
       "</table>\n",
       "</div>"
      ],
      "text/plain": [
       "  Incident Date Date Received     City                       Enterprise Type  \\\n",
       "0    2006-09-21    2006-12-26     Pune                    One Person Company   \n",
       "1    2009-01-15    2009-11-02     Pune  Limited Liability Parterneship (LLP)   \n",
       "5    2003-11-09    2004-01-20  Kolkata               Private Limited Company   \n",
       "7    2005-03-14    2005-04-19   Kanpur                     Foreign Subsidary   \n",
       "8    2008-12-26    2009-07-01   Mumbai                Public Limited Company   \n",
       "\n",
       "        Claim Type  Claim Site             Product Insured  Reporting Delay  \n",
       "0    Property Loss  In Transit  Inventory - Finished Goods               96  \n",
       "1    Property Loss  In Transit                    Fixtures              291  \n",
       "5  Property Damage  In Transit     Misc. Engineering Tools               72  \n",
       "7    Property Loss  In Transit     Misc. Engineering Tools               36  \n",
       "8    Property Loss  In Transit     Misc. Engineering Tools              187  "
      ]
     },
     "execution_count": 42,
     "metadata": {},
     "output_type": "execute_result"
    }
   ],
   "source": [
    "test.head()"
   ]
  },
  {
   "cell_type": "code",
   "execution_count": 43,
   "id": "01e81674",
   "metadata": {
    "colab": {
     "base_uri": "https://localhost:8080/",
     "height": 223
    },
    "id": "01e81674",
    "outputId": "ab0efe22-eeda-4c38-fea1-91badc9432ba"
   },
   "outputs": [
    {
     "name": "stdout",
     "output_type": "stream",
     "text": [
      "(2719, 6)\n"
     ]
    },
    {
     "data": {
      "text/html": [
       "<div>\n",
       "<style scoped>\n",
       "    .dataframe tbody tr th:only-of-type {\n",
       "        vertical-align: middle;\n",
       "    }\n",
       "\n",
       "    .dataframe tbody tr th {\n",
       "        vertical-align: top;\n",
       "    }\n",
       "\n",
       "    .dataframe thead th {\n",
       "        text-align: right;\n",
       "    }\n",
       "</style>\n",
       "<table border=\"1\" class=\"dataframe\">\n",
       "  <thead>\n",
       "    <tr style=\"text-align: right;\">\n",
       "      <th></th>\n",
       "      <th>City</th>\n",
       "      <th>Enterprise Type</th>\n",
       "      <th>Claim Type</th>\n",
       "      <th>Claim Site</th>\n",
       "      <th>Product Insured</th>\n",
       "      <th>Reporting Delay</th>\n",
       "    </tr>\n",
       "  </thead>\n",
       "  <tbody>\n",
       "    <tr>\n",
       "      <th>0</th>\n",
       "      <td>Pune</td>\n",
       "      <td>One Person Company</td>\n",
       "      <td>Property Loss</td>\n",
       "      <td>In Transit</td>\n",
       "      <td>Inventory - Finished Goods</td>\n",
       "      <td>96</td>\n",
       "    </tr>\n",
       "    <tr>\n",
       "      <th>1</th>\n",
       "      <td>Pune</td>\n",
       "      <td>Limited Liability Parterneship (LLP)</td>\n",
       "      <td>Property Loss</td>\n",
       "      <td>In Transit</td>\n",
       "      <td>Fixtures</td>\n",
       "      <td>291</td>\n",
       "    </tr>\n",
       "    <tr>\n",
       "      <th>5</th>\n",
       "      <td>Kolkata</td>\n",
       "      <td>Private Limited Company</td>\n",
       "      <td>Property Damage</td>\n",
       "      <td>In Transit</td>\n",
       "      <td>Misc. Engineering Tools</td>\n",
       "      <td>72</td>\n",
       "    </tr>\n",
       "    <tr>\n",
       "      <th>7</th>\n",
       "      <td>Kanpur</td>\n",
       "      <td>Foreign Subsidary</td>\n",
       "      <td>Property Loss</td>\n",
       "      <td>In Transit</td>\n",
       "      <td>Misc. Engineering Tools</td>\n",
       "      <td>36</td>\n",
       "    </tr>\n",
       "    <tr>\n",
       "      <th>8</th>\n",
       "      <td>Mumbai</td>\n",
       "      <td>Public Limited Company</td>\n",
       "      <td>Property Loss</td>\n",
       "      <td>In Transit</td>\n",
       "      <td>Misc. Engineering Tools</td>\n",
       "      <td>187</td>\n",
       "    </tr>\n",
       "  </tbody>\n",
       "</table>\n",
       "</div>"
      ],
      "text/plain": [
       "      City                       Enterprise Type       Claim Type  Claim Site  \\\n",
       "0     Pune                    One Person Company    Property Loss  In Transit   \n",
       "1     Pune  Limited Liability Parterneship (LLP)    Property Loss  In Transit   \n",
       "5  Kolkata               Private Limited Company  Property Damage  In Transit   \n",
       "7   Kanpur                     Foreign Subsidary    Property Loss  In Transit   \n",
       "8   Mumbai                Public Limited Company    Property Loss  In Transit   \n",
       "\n",
       "              Product Insured  Reporting Delay  \n",
       "0  Inventory - Finished Goods               96  \n",
       "1                    Fixtures              291  \n",
       "5     Misc. Engineering Tools               72  \n",
       "7     Misc. Engineering Tools               36  \n",
       "8     Misc. Engineering Tools              187  "
      ]
     },
     "execution_count": 43,
     "metadata": {},
     "output_type": "execute_result"
    }
   ],
   "source": [
    "# 'Reporting Delay' can be used instead of (Incident Date, Date Received)\n",
    "# dropping 'Incident Date' and 'Date Received'\n",
    "test.drop(['Incident Date','Date Received'],axis=1,inplace=True)\n",
    "print(test.shape)\n",
    "test.head()"
   ]
  },
  {
   "cell_type": "code",
   "execution_count": 44,
   "id": "cc099342",
   "metadata": {
    "colab": {
     "base_uri": "https://localhost:8080/"
    },
    "id": "cc099342",
    "outputId": "29f331fb-152a-402c-df24-147c59afee7e"
   },
   "outputs": [
    {
     "data": {
      "text/plain": [
       "['City',\n",
       " 'Enterprise Type',\n",
       " 'Claim Type',\n",
       " 'Claim Site',\n",
       " 'Product Insured',\n",
       " 'Disposition']"
      ]
     },
     "execution_count": 44,
     "metadata": {},
     "output_type": "execute_result"
    }
   ],
   "source": [
    "# selecting categorical columns\n",
    "cat_col = list(data.select_dtypes(include='object').columns)\n",
    "cat_col"
   ]
  },
  {
   "cell_type": "code",
   "execution_count": 45,
   "id": "7c7d5d2e",
   "metadata": {
    "id": "7c7d5d2e"
   },
   "outputs": [],
   "source": [
    "# encoding categorical columns using LabelEncoder\n",
    "label = LabelEncoder()\n",
    "\n",
    "for i in cat_col:\n",
    "    data[i] = label.fit_transform(data[i])"
   ]
  },
  {
   "cell_type": "code",
   "execution_count": 46,
   "id": "f190c6de",
   "metadata": {
    "colab": {
     "base_uri": "https://localhost:8080/",
     "height": 206
    },
    "id": "f190c6de",
    "outputId": "18c240e9-6c33-4ddb-9fdc-b23f1f944634"
   },
   "outputs": [
    {
     "data": {
      "text/html": [
       "<div>\n",
       "<style scoped>\n",
       "    .dataframe tbody tr th:only-of-type {\n",
       "        vertical-align: middle;\n",
       "    }\n",
       "\n",
       "    .dataframe tbody tr th {\n",
       "        vertical-align: top;\n",
       "    }\n",
       "\n",
       "    .dataframe thead th {\n",
       "        text-align: right;\n",
       "    }\n",
       "</style>\n",
       "<table border=\"1\" class=\"dataframe\">\n",
       "  <thead>\n",
       "    <tr style=\"text-align: right;\">\n",
       "      <th></th>\n",
       "      <th>City</th>\n",
       "      <th>Enterprise Type</th>\n",
       "      <th>Claim Type</th>\n",
       "      <th>Claim Site</th>\n",
       "      <th>Product Insured</th>\n",
       "      <th>Disposition</th>\n",
       "      <th>Reporting Delay</th>\n",
       "    </tr>\n",
       "  </thead>\n",
       "  <tbody>\n",
       "    <tr>\n",
       "      <th>0</th>\n",
       "      <td>16</td>\n",
       "      <td>11</td>\n",
       "      <td>1</td>\n",
       "      <td>0</td>\n",
       "      <td>5</td>\n",
       "      <td>1</td>\n",
       "      <td>13</td>\n",
       "    </tr>\n",
       "    <tr>\n",
       "      <th>1</th>\n",
       "      <td>14</td>\n",
       "      <td>5</td>\n",
       "      <td>1</td>\n",
       "      <td>0</td>\n",
       "      <td>0</td>\n",
       "      <td>2</td>\n",
       "      <td>10</td>\n",
       "    </tr>\n",
       "    <tr>\n",
       "      <th>4</th>\n",
       "      <td>7</td>\n",
       "      <td>5</td>\n",
       "      <td>1</td>\n",
       "      <td>0</td>\n",
       "      <td>8</td>\n",
       "      <td>2</td>\n",
       "      <td>133</td>\n",
       "    </tr>\n",
       "    <tr>\n",
       "      <th>5</th>\n",
       "      <td>5</td>\n",
       "      <td>7</td>\n",
       "      <td>1</td>\n",
       "      <td>0</td>\n",
       "      <td>8</td>\n",
       "      <td>0</td>\n",
       "      <td>56</td>\n",
       "    </tr>\n",
       "    <tr>\n",
       "      <th>6</th>\n",
       "      <td>21</td>\n",
       "      <td>2</td>\n",
       "      <td>0</td>\n",
       "      <td>0</td>\n",
       "      <td>5</td>\n",
       "      <td>1</td>\n",
       "      <td>49</td>\n",
       "    </tr>\n",
       "  </tbody>\n",
       "</table>\n",
       "</div>"
      ],
      "text/plain": [
       "   City  Enterprise Type  Claim Type  Claim Site  Product Insured  \\\n",
       "0    16               11           1           0                5   \n",
       "1    14                5           1           0                0   \n",
       "4     7                5           1           0                8   \n",
       "5     5                7           1           0                8   \n",
       "6    21                2           0           0                5   \n",
       "\n",
       "   Disposition  Reporting Delay  \n",
       "0            1               13  \n",
       "1            2               10  \n",
       "4            2              133  \n",
       "5            0               56  \n",
       "6            1               49  "
      ]
     },
     "execution_count": 46,
     "metadata": {},
     "output_type": "execute_result"
    }
   ],
   "source": [
    "# data after encoding\n",
    "data.head()"
   ]
  },
  {
   "cell_type": "code",
   "execution_count": 47,
   "id": "93b474d1",
   "metadata": {
    "id": "93b474d1"
   },
   "outputs": [],
   "source": [
    "# similarly for test data\n",
    "cat_col_test = list(test.select_dtypes(include='object').columns)\n",
    "\n",
    "for i in cat_col_test:\n",
    "    test[i] = label.fit_transform(test[i])"
   ]
  },
  {
   "cell_type": "code",
   "execution_count": 48,
   "id": "b6cc05cf",
   "metadata": {
    "colab": {
     "base_uri": "https://localhost:8080/",
     "height": 206
    },
    "id": "b6cc05cf",
    "outputId": "8fefd8ef-4e37-4015-f969-5427851ba966"
   },
   "outputs": [
    {
     "data": {
      "text/html": [
       "<div>\n",
       "<style scoped>\n",
       "    .dataframe tbody tr th:only-of-type {\n",
       "        vertical-align: middle;\n",
       "    }\n",
       "\n",
       "    .dataframe tbody tr th {\n",
       "        vertical-align: top;\n",
       "    }\n",
       "\n",
       "    .dataframe thead th {\n",
       "        text-align: right;\n",
       "    }\n",
       "</style>\n",
       "<table border=\"1\" class=\"dataframe\">\n",
       "  <thead>\n",
       "    <tr style=\"text-align: right;\">\n",
       "      <th></th>\n",
       "      <th>City</th>\n",
       "      <th>Enterprise Type</th>\n",
       "      <th>Claim Type</th>\n",
       "      <th>Claim Site</th>\n",
       "      <th>Product Insured</th>\n",
       "      <th>Reporting Delay</th>\n",
       "    </tr>\n",
       "  </thead>\n",
       "  <tbody>\n",
       "    <tr>\n",
       "      <th>0</th>\n",
       "      <td>18</td>\n",
       "      <td>5</td>\n",
       "      <td>1</td>\n",
       "      <td>0</td>\n",
       "      <td>4</td>\n",
       "      <td>96</td>\n",
       "    </tr>\n",
       "    <tr>\n",
       "      <th>1</th>\n",
       "      <td>18</td>\n",
       "      <td>3</td>\n",
       "      <td>1</td>\n",
       "      <td>0</td>\n",
       "      <td>1</td>\n",
       "      <td>291</td>\n",
       "    </tr>\n",
       "    <tr>\n",
       "      <th>5</th>\n",
       "      <td>12</td>\n",
       "      <td>7</td>\n",
       "      <td>0</td>\n",
       "      <td>0</td>\n",
       "      <td>8</td>\n",
       "      <td>72</td>\n",
       "    </tr>\n",
       "    <tr>\n",
       "      <th>7</th>\n",
       "      <td>11</td>\n",
       "      <td>1</td>\n",
       "      <td>1</td>\n",
       "      <td>0</td>\n",
       "      <td>8</td>\n",
       "      <td>36</td>\n",
       "    </tr>\n",
       "    <tr>\n",
       "      <th>8</th>\n",
       "      <td>14</td>\n",
       "      <td>11</td>\n",
       "      <td>1</td>\n",
       "      <td>0</td>\n",
       "      <td>8</td>\n",
       "      <td>187</td>\n",
       "    </tr>\n",
       "  </tbody>\n",
       "</table>\n",
       "</div>"
      ],
      "text/plain": [
       "   City  Enterprise Type  Claim Type  Claim Site  Product Insured  \\\n",
       "0    18                5           1           0                4   \n",
       "1    18                3           1           0                1   \n",
       "5    12                7           0           0                8   \n",
       "7    11                1           1           0                8   \n",
       "8    14               11           1           0                8   \n",
       "\n",
       "   Reporting Delay  \n",
       "0               96  \n",
       "1              291  \n",
       "5               72  \n",
       "7               36  \n",
       "8              187  "
      ]
     },
     "execution_count": 48,
     "metadata": {},
     "output_type": "execute_result"
    }
   ],
   "source": [
    "test.head()"
   ]
  },
  {
   "cell_type": "markdown",
   "id": "2255ac1c",
   "metadata": {
    "id": "2255ac1c"
   },
   "source": [
    "## Modelling"
   ]
  },
  {
   "cell_type": "code",
   "execution_count": 49,
   "id": "d4492531",
   "metadata": {
    "id": "d4492531"
   },
   "outputs": [],
   "source": [
    "# spittling the data into dependent and independent columns\n",
    "x = data.drop('Disposition',axis=1)\n",
    "y = data['Disposition']"
   ]
  },
  {
   "cell_type": "code",
   "execution_count": 50,
   "id": "aa0ed50f",
   "metadata": {
    "id": "aa0ed50f"
   },
   "outputs": [],
   "source": [
    "# splitting the data into train and test data\n",
    "x_train, x_test, y_train, y_test = train_test_split(x, y, random_state=111, stratify=y, test_size=0.25)"
   ]
  },
  {
   "cell_type": "code",
   "execution_count": 51,
   "id": "7af47cd8",
   "metadata": {
    "colab": {
     "base_uri": "https://localhost:8080/"
    },
    "id": "7af47cd8",
    "outputId": "52afdca8-e245-4452-bfcb-42306fea6abe"
   },
   "outputs": [
    {
     "data": {
      "text/plain": [
       "((18690, 6), (6230, 6))"
      ]
     },
     "execution_count": 51,
     "metadata": {},
     "output_type": "execute_result"
    }
   ],
   "source": [
    "x_train.shape, x_test.shape"
   ]
  },
  {
   "cell_type": "code",
   "execution_count": 52,
   "id": "ee404ce0",
   "metadata": {
    "colab": {
     "base_uri": "https://localhost:8080/"
    },
    "id": "ee404ce0",
    "outputId": "c7eaeac7-e4ff-4a16-e5b1-540114bc2f74"
   },
   "outputs": [
    {
     "data": {
      "text/plain": [
       "(1    52.760835\n",
       " 0    26.393793\n",
       " 2    20.845372\n",
       " Name: Disposition, dtype: float64,\n",
       " 1    52.760835\n",
       " 0    26.404494\n",
       " 2    20.834671\n",
       " Name: Disposition, dtype: float64)"
      ]
     },
     "execution_count": 52,
     "metadata": {},
     "output_type": "execute_result"
    }
   ],
   "source": [
    "y_train.value_counts(normalize=True) *100 , y_test.value_counts() * 100 / y_test.count()"
   ]
  },
  {
   "cell_type": "markdown",
   "id": "313f15e4",
   "metadata": {
    "id": "313f15e4"
   },
   "source": [
    "- 0: Approved in Full\n",
    "- 1: Deny\n",
    "- 2: Settle"
   ]
  },
  {
   "cell_type": "markdown",
   "id": "096f8db5",
   "metadata": {
    "id": "096f8db5"
   },
   "source": [
    "### Logistic Regression"
   ]
  },
  {
   "cell_type": "code",
   "execution_count": 53,
   "id": "b1b273d7",
   "metadata": {
    "colab": {
     "base_uri": "https://localhost:8080/"
    },
    "id": "b1b273d7",
    "outputId": "0bcd61dd-8380-4f6b-b61e-dc6817584473"
   },
   "outputs": [
    {
     "name": "stdout",
     "output_type": "stream",
     "text": [
      "Train Accuracy: 53.65%\n",
      "Test Accuracy: 53.6%\n",
      "\n",
      "Logistic Regression Classifier report: \n",
      "\n",
      "               precision    recall  f1-score   support\n",
      "\n",
      "           0       0.47      0.09      0.15      1645\n",
      "           1       0.54      0.97      0.69      3287\n",
      "           2       0.00      0.00      0.00      1298\n",
      "\n",
      "    accuracy                           0.54      6230\n",
      "   macro avg       0.34      0.35      0.28      6230\n",
      "weighted avg       0.41      0.54      0.41      6230\n",
      "\n"
     ]
    }
   ],
   "source": [
    "lr = LogisticRegression(multi_class='multinomial', solver='lbfgs')\n",
    "lr.fit(x_train, y_train)\n",
    "\n",
    "print('Train Accuracy: {}%'.format(round(lr.score(x_train, y_train)*100,2)))\n",
    "print(\"Test Accuracy: {}%\".format(round(lr.score(x_test, y_test)*100,2)))\n",
    "print()\n",
    "\n",
    "y_pred_lr = lr.predict(x_test)\n",
    "print(\"Logistic Regression Classifier report: \\n\\n\", classification_report(y_test, y_pred_lr))"
   ]
  },
  {
   "cell_type": "code",
   "execution_count": 54,
   "id": "b37d3be5",
   "metadata": {
    "colab": {
     "base_uri": "https://localhost:8080/",
     "height": 641
    },
    "id": "b37d3be5",
    "outputId": "fda3631f-2273-4227-f7ac-e775702e8a4c"
   },
   "outputs": [
    {
     "data": {
      "image/png": "[encoded data removed]",
      "text/plain": [
       "<Figure size 504x504 with 2 Axes>"
      ]
     },
     "metadata": {
      "needs_background": "light"
     },
     "output_type": "display_data"
    }
   ],
   "source": [
    "cm = confusion_matrix(y_test,y_pred_lr)\n",
    "x_axis_labels = ['Approved','Deny','Settle']\n",
    "y_axis_labels = ['Approved','Deny','Settle']\n",
    "f, ax = plt.subplots(figsize =(7,7))\n",
    "sns.heatmap(cm, annot = True, linewidths=0.2, linecolor=\"black\", fmt = \".0f\", ax=ax, cmap=\"Purples\", xticklabels=x_axis_labels, yticklabels=y_axis_labels)\n",
    "plt.xlabel(\"PREDICTED VALUES\")\n",
    "plt.ylabel(\"ACTUAL VALUES\")\n",
    "plt.title('Confusion Matrix for Logistic Regression')\n",
    "plt.show()"
   ]
  },
  {
   "cell_type": "code",
   "execution_count": 55,
   "id": "a95bc378",
   "metadata": {
    "colab": {
     "base_uri": "https://localhost:8080/"
    },
    "id": "a95bc378",
    "outputId": "a68457f5-51d8-4e9a-b1d2-6613eece5c2c"
   },
   "outputs": [
    {
     "name": "stdout",
     "output_type": "stream",
     "text": [
      "Train Accuracy: 53.35%\n",
      "Test Accuracy: 52.95%\n",
      "\n",
      "Logistic Regression Classifier report: \n",
      "\n",
      "               precision    recall  f1-score   support\n",
      "\n",
      "           0       0.43      0.04      0.08      1645\n",
      "           1       0.53      0.98      0.69      3287\n",
      "           2       0.00      0.00      0.00      1298\n",
      "\n",
      "    accuracy                           0.53      6230\n",
      "   macro avg       0.32      0.34      0.26      6230\n",
      "weighted avg       0.39      0.53      0.38      6230\n",
      "\n"
     ]
    }
   ],
   "source": [
    "lr1 = LogisticRegression(multi_class='ovr', solver='liblinear')\n",
    "lr1.fit(x_train, y_train)\n",
    "\n",
    "print('Train Accuracy: {}%'.format(round(lr1.score(x_train, y_train)*100,2)))\n",
    "print(\"Test Accuracy: {}%\".format(round(lr1.score(x_test, y_test)*100,2)))\n",
    "print()\n",
    "\n",
    "y_pred_lr1 = lr1.predict(x_test)\n",
    "print(\"Logistic Regression Classifier report: \\n\\n\", classification_report(y_test, y_pred_lr1))"
   ]
  },
  {
   "cell_type": "code",
   "execution_count": 56,
   "id": "2e642e40",
   "metadata": {
    "colab": {
     "base_uri": "https://localhost:8080/",
     "height": 641
    },
    "id": "2e642e40",
    "outputId": "31427c51-0ec9-4817-8f45-c37f4939448f"
   },
   "outputs": [
    {
     "data": {
      "image/png": "[encoded data removed]",
      "text/plain": [
       "<Figure size 504x504 with 2 Axes>"
      ]
     },
     "metadata": {
      "needs_background": "light"
     },
     "output_type": "display_data"
    }
   ],
   "source": [
    "cm = confusion_matrix(y_test,y_pred_lr1)\n",
    "x_axis_labels = ['Approved','Deny','Settle']\n",
    "y_axis_labels = ['Approved','Deny','Settle']\n",
    "f, ax = plt.subplots(figsize =(7,7))\n",
    "sns.heatmap(cm, annot = True, linewidths=0.2, linecolor=\"black\", fmt = \".0f\", ax=ax, cmap=\"Purples\", xticklabels=x_axis_labels, yticklabels=y_axis_labels)\n",
    "plt.xlabel(\"PREDICTED VALUES\")\n",
    "plt.ylabel(\"ACTUAL VALUES\")\n",
    "plt.title('Confusion Matrix for Logistic Regression')\n",
    "plt.show()"
   ]
  },
  {
   "cell_type": "markdown",
   "id": "e6cd5488",
   "metadata": {
    "id": "e6cd5488"
   },
   "source": [
    "### Gaussian Naive Bayes"
   ]
  },
  {
   "cell_type": "code",
   "execution_count": 57,
   "id": "f6dd8bf7",
   "metadata": {
    "colab": {
     "base_uri": "https://localhost:8080/"
    },
    "id": "f6dd8bf7",
    "outputId": "d59be74d-3009-4492-de76-3aa35ec0bdf8"
   },
   "outputs": [
    {
     "name": "stdout",
     "output_type": "stream",
     "text": [
      "train accuracy is: 51.701444622792934\n",
      "test accuracy is: 51.300160513643654\n",
      "\n",
      "Naive Bayes Classifier report: \n",
      "\n",
      "               precision    recall  f1-score   support\n",
      "\n",
      "           0       0.36      0.19      0.25      1645\n",
      "           1       0.54      0.88      0.67      3287\n",
      "           2       0.00      0.00      0.00      1298\n",
      "\n",
      "    accuracy                           0.51      6230\n",
      "   macro avg       0.30      0.36      0.31      6230\n",
      "weighted avg       0.38      0.51      0.42      6230\n",
      "\n"
     ]
    }
   ],
   "source": [
    "gnb = GaussianNB()\n",
    "gnb.fit(x_train, y_train)\n",
    "\n",
    "\n",
    "y_pred_train = gnb.predict(x_train)\n",
    "y_pred_test = gnb.predict(x_test)\n",
    "\n",
    "print('train accuracy is:',metrics.accuracy_score(y_train,y_pred_train)*100)\n",
    "print('test accuracy is:',metrics.accuracy_score(y_test,y_pred_test)*100)   \n",
    "print()\n",
    "\n",
    "y_pred_nb = gnb.predict(x_test)\n",
    "print(\"Naive Bayes Classifier report: \\n\\n\", classification_report(y_test, y_pred_nb))"
   ]
  },
  {
   "cell_type": "code",
   "execution_count": 58,
   "id": "574971be",
   "metadata": {
    "colab": {
     "base_uri": "https://localhost:8080/",
     "height": 641
    },
    "id": "574971be",
    "outputId": "199082e4-af39-4107-a8dc-0501add437eb"
   },
   "outputs": [
    {
     "data": {
      "image/png": "[encoded data removed]",
      "text/plain": [
       "<Figure size 504x504 with 2 Axes>"
      ]
     },
     "metadata": {
      "needs_background": "light"
     },
     "output_type": "display_data"
    }
   ],
   "source": [
    "cm = confusion_matrix(y_test,y_pred_nb)\n",
    "x_axis_labels = ['Approved','Deny','Settle']\n",
    "y_axis_labels = ['Approved','Deny','Settle']\n",
    "f, ax = plt.subplots(figsize =(7,7))\n",
    "sns.heatmap(cm, annot = True, linewidths=0.2, linecolor=\"black\", fmt = \".0f\", ax=ax, cmap=\"Purples\", xticklabels=x_axis_labels, yticklabels=y_axis_labels)\n",
    "plt.xlabel(\"PREDICTED VALUES\")\n",
    "plt.ylabel(\"ACTUAL VALUES\")\n",
    "plt.title('Confusion Matrix for Naive Bayes Classifier')\n",
    "plt.show()"
   ]
  },
  {
   "cell_type": "markdown",
   "id": "4b3778c4",
   "metadata": {
    "id": "4b3778c4"
   },
   "source": [
    "### Multinomial Naive Bayes"
   ]
  },
  {
   "cell_type": "code",
   "execution_count": 59,
   "id": "c1d56c57",
   "metadata": {
    "colab": {
     "base_uri": "https://localhost:8080/"
    },
    "id": "c1d56c57",
    "outputId": "bb0c756c-9d9c-44e5-9ef1-1cf81b3a6534"
   },
   "outputs": [
    {
     "name": "stdout",
     "output_type": "stream",
     "text": [
      "train accuracy is: 50.92027822364901\n",
      "test accuracy is: 50.674157303370784\n",
      "\n",
      "Multinomial Naive Bayes Classifier report: \n",
      "\n",
      "               precision    recall  f1-score   support\n",
      "\n",
      "           0       0.32      0.16      0.22      1645\n",
      "           1       0.54      0.88      0.67      3287\n",
      "           2       0.00      0.00      0.00      1298\n",
      "\n",
      "    accuracy                           0.51      6230\n",
      "   macro avg       0.29      0.35      0.29      6230\n",
      "weighted avg       0.37      0.51      0.41      6230\n",
      "\n"
     ]
    }
   ],
   "source": [
    "mnb = MultinomialNB()\n",
    "mnb.fit(x_train, y_train)\n",
    "\n",
    "\n",
    "mnb_pred_train = mnb.predict(x_train)\n",
    "mnb_pred_test = mnb.predict(x_test)\n",
    "\n",
    "print('train accuracy is:',metrics.accuracy_score(y_train,mnb_pred_train)*100)\n",
    "print('test accuracy is:',metrics.accuracy_score(y_test,mnb_pred_test)*100)     \n",
    "print()\n",
    "\n",
    "y_pred_mnb = mnb.predict(x_test)\n",
    "print(\"Multinomial Naive Bayes Classifier report: \\n\\n\", classification_report(y_test, y_pred_mnb))"
   ]
  },
  {
   "cell_type": "code",
   "execution_count": 60,
   "id": "a60bccaa",
   "metadata": {
    "colab": {
     "base_uri": "https://localhost:8080/",
     "height": 641
    },
    "id": "a60bccaa",
    "outputId": "7e35a39f-d9f0-4170-98a6-e5309506d404"
   },
   "outputs": [
    {
     "data": {
      "image/png": "[encoded data removed]",
      "text/plain": [
       "<Figure size 504x504 with 2 Axes>"
      ]
     },
     "metadata": {
      "needs_background": "light"
     },
     "output_type": "display_data"
    }
   ],
   "source": [
    "cm = confusion_matrix(y_test,y_pred_mnb)\n",
    "x_axis_labels = ['Approved','Deny','Settle']\n",
    "y_axis_labels = ['Approved','Deny','Settle']\n",
    "f, ax = plt.subplots(figsize =(7,7))\n",
    "sns.heatmap(cm, annot = True, linewidths=0.2, linecolor=\"black\", fmt = \".0f\", ax=ax, cmap=\"Purples\", xticklabels=x_axis_labels, yticklabels=y_axis_labels)\n",
    "plt.xlabel(\"PREDICTED VALUES\")\n",
    "plt.ylabel(\"ACTUAL VALUES\")\n",
    "plt.title('Confusion Matrix for Multinomial Naive Bayes Classifier')\n",
    "plt.show()"
   ]
  },
  {
   "cell_type": "markdown",
   "id": "8cb66a17",
   "metadata": {
    "id": "8cb66a17"
   },
   "source": [
    "### Bernoulli Naive Bayes"
   ]
  },
  {
   "cell_type": "code",
   "execution_count": 61,
   "id": "440c27be",
   "metadata": {
    "colab": {
     "base_uri": "https://localhost:8080/"
    },
    "id": "440c27be",
    "outputId": "3a74d0fd-398d-4b9c-bbc1-c03280df6d2e"
   },
   "outputs": [
    {
     "name": "stdout",
     "output_type": "stream",
     "text": [
      "train accuracy is: 0.5283574103798823\n",
      "test accuracy is: 0.52776886035313\n",
      "\n",
      "Bernoulli Naive Bayes Classifier report: \n",
      "\n",
      "               precision    recall  f1-score   support\n",
      "\n",
      "           0       0.46      0.00      0.01      1645\n",
      "           1       0.53      1.00      0.69      3287\n",
      "           2       0.00      0.00      0.00      1298\n",
      "\n",
      "    accuracy                           0.53      6230\n",
      "   macro avg       0.33      0.33      0.23      6230\n",
      "weighted avg       0.40      0.53      0.37      6230\n",
      "\n"
     ]
    }
   ],
   "source": [
    "bnb = BernoulliNB()\n",
    "bnb.fit(x_train, y_train)\n",
    "\n",
    "\n",
    "bnb_pred_train = bnb.predict(x_train)\n",
    "bnb_pred_test = bnb.predict(x_test)\n",
    "\n",
    "print('train accuracy is:',metrics.accuracy_score(y_train,bnb_pred_train))\n",
    "print('test accuracy is:',metrics.accuracy_score(y_test,bnb_pred_test))     \n",
    "\n",
    "print()\n",
    "\n",
    "y_pred_bnb = bnb.predict(x_test)\n",
    "print(\"Bernoulli Naive Bayes Classifier report: \\n\\n\", classification_report(y_test, y_pred_bnb))"
   ]
  },
  {
   "cell_type": "code",
   "execution_count": 62,
   "id": "c8254cc5",
   "metadata": {
    "colab": {
     "base_uri": "https://localhost:8080/",
     "height": 641
    },
    "id": "c8254cc5",
    "outputId": "6981c493-e29d-4383-aaea-b07a11a3eea5"
   },
   "outputs": [
    {
     "data": {
      "image/png": "[encoded data removed]",
      "text/plain": [
       "<Figure size 504x504 with 2 Axes>"
      ]
     },
     "metadata": {
      "needs_background": "light"
     },
     "output_type": "display_data"
    }
   ],
   "source": [
    "cm = confusion_matrix(y_test,y_pred_bnb)\n",
    "x_axis_labels = ['Approved','Deny','Settle']\n",
    "y_axis_labels = ['Approved','Deny','Settle']\n",
    "f, ax = plt.subplots(figsize =(7,7))\n",
    "sns.heatmap(cm, annot = True, linewidths=0.2, linecolor=\"black\", fmt = \".0f\", ax=ax, cmap=\"Purples\", xticklabels=x_axis_labels, yticklabels=y_axis_labels)\n",
    "plt.xlabel(\"PREDICTED VALUES\")\n",
    "plt.ylabel(\"ACTUAL VALUES\")\n",
    "plt.title('Confusion Matrix for Bernoulli Naive Bayes Classifier')\n",
    "plt.show()"
   ]
  },
  {
   "cell_type": "markdown",
   "id": "c38e54af",
   "metadata": {
    "id": "c38e54af"
   },
   "source": [
    "### Decision Tree"
   ]
  },
  {
   "cell_type": "code",
   "execution_count": 63,
   "id": "e4632a3e",
   "metadata": {
    "colab": {
     "base_uri": "https://localhost:8080/"
    },
    "id": "e4632a3e",
    "outputId": "315200f9-1671-4da9-bb4d-a5f10cf2e603"
   },
   "outputs": [
    {
     "name": "stdout",
     "output_type": "stream",
     "text": [
      "Train Accuracy: 96.78%\n",
      "Test Accuracy: 42.91%\n",
      "\n",
      "Decision Tree Classifier report: \n",
      "\n",
      "               precision    recall  f1-score   support\n",
      "\n",
      "           0       0.33      0.36      0.35      1645\n",
      "           1       0.56      0.54      0.55      3287\n",
      "           2       0.24      0.24      0.24      1298\n",
      "\n",
      "    accuracy                           0.43      6230\n",
      "   macro avg       0.38      0.38      0.38      6230\n",
      "weighted avg       0.43      0.43      0.43      6230\n",
      "\n"
     ]
    }
   ],
   "source": [
    "dt = DecisionTreeClassifier()\n",
    "dt.fit(x_train, y_train)\n",
    "\n",
    "print('Train Accuracy: {}%'.format(round(dt.score(x_train, y_train)*100,2)))\n",
    "print(\"Test Accuracy: {}%\".format(round(dt.score(x_test, y_test)*100,2)))\n",
    "print()\n",
    "\n",
    "y_pred_dt = dt.predict(x_test)\n",
    "print(\"Decision Tree Classifier report: \\n\\n\", classification_report(y_test, y_pred_dt))"
   ]
  },
  {
   "cell_type": "code",
   "execution_count": 64,
   "id": "f64171be",
   "metadata": {
    "colab": {
     "base_uri": "https://localhost:8080/",
     "height": 641
    },
    "id": "f64171be",
    "outputId": "13047636-37e0-4d4b-f1dc-2f3d0ebf67b9"
   },
   "outputs": [
    {
     "data": {
      "image/png": "[encoded data removed]",
      "text/plain": [
       "<Figure size 504x504 with 2 Axes>"
      ]
     },
     "metadata": {
      "needs_background": "light"
     },
     "output_type": "display_data"
    }
   ],
   "source": [
    "cm = confusion_matrix(y_test,y_pred_dt)\n",
    "x_axis_labels = ['Approved','Deny','Settle']\n",
    "y_axis_labels = ['Approved','Deny','Settle']\n",
    "f, ax = plt.subplots(figsize =(7,7))\n",
    "sns.heatmap(cm, annot = True, linewidths=0.2, linecolor=\"black\", fmt = \".0f\", ax=ax, cmap=\"Purples\", xticklabels=x_axis_labels, yticklabels=y_axis_labels)\n",
    "plt.xlabel(\"PREDICTED VALUES\")\n",
    "plt.ylabel(\"ACTUAL VALUES\")\n",
    "plt.title('Confusion Matrix for Decision Tree Classifier')\n",
    "plt.show()"
   ]
  },
  {
   "cell_type": "markdown",
   "id": "eb2fb760",
   "metadata": {
    "id": "eb2fb760"
   },
   "source": [
    "### Random Forest Classifier"
   ]
  },
  {
   "cell_type": "code",
   "execution_count": 65,
   "id": "14987981",
   "metadata": {
    "colab": {
     "base_uri": "https://localhost:8080/"
    },
    "id": "14987981",
    "outputId": "7ff0a936-56a1-45e1-d77c-83bd66998716"
   },
   "outputs": [
    {
     "name": "stdout",
     "output_type": "stream",
     "text": [
      "Train Accuracy: 96.78%\n",
      "Test Accuracy: 47.22%\n",
      "\n",
      "Random Forest Classifier report: \n",
      "\n",
      "               precision    recall  f1-score   support\n",
      "\n",
      "           0       0.37      0.34      0.36      1645\n",
      "           1       0.57      0.65      0.61      3287\n",
      "           2       0.25      0.19      0.22      1298\n",
      "\n",
      "    accuracy                           0.47      6230\n",
      "   macro avg       0.40      0.39      0.39      6230\n",
      "weighted avg       0.45      0.47      0.46      6230\n",
      "\n"
     ]
    }
   ],
   "source": [
    "rfc = RandomForestClassifier()\n",
    "rfc.fit(x_train, y_train)\n",
    "\n",
    "print('Train Accuracy: {}%'.format(round(rfc.score(x_train, y_train)*100,2)))\n",
    "print(\"Test Accuracy: {}%\".format(round(rfc.score(x_test, y_test)*100,2)))\n",
    "print()\n",
    "\n",
    "y_pred_rfc = rfc.predict(x_test)\n",
    "print(\"Random Forest Classifier report: \\n\\n\", classification_report(y_test, y_pred_rfc))"
   ]
  },
  {
   "cell_type": "code",
   "execution_count": 66,
   "id": "44162ea6",
   "metadata": {
    "colab": {
     "base_uri": "https://localhost:8080/",
     "height": 641
    },
    "id": "44162ea6",
    "outputId": "488a5672-583e-4afd-db9e-1f963e59e9ae"
   },
   "outputs": [
    {
     "data": {
      "image/png": "[encoded data removed]",
      "text/plain": [
       "<Figure size 504x504 with 2 Axes>"
      ]
     },
     "metadata": {
      "needs_background": "light"
     },
     "output_type": "display_data"
    }
   ],
   "source": [
    "cm = confusion_matrix(y_test,y_pred_rfc)\n",
    "x_axis_labels = ['Approved','Deny','Settle']\n",
    "y_axis_labels = ['Approved','Deny','Settle']\n",
    "f, ax = plt.subplots(figsize =(7,7))\n",
    "sns.heatmap(cm, annot = True, linewidths=0.2, linecolor=\"black\", fmt = \".0f\", ax=ax, cmap=\"Purples\", xticklabels=x_axis_labels, yticklabels=y_axis_labels)\n",
    "plt.xlabel(\"PREDICTED VALUES\")\n",
    "plt.ylabel(\"ACTUAL VALUES\")\n",
    "plt.title('Confusion Matrix for Random Forest Classifier')\n",
    "plt.show()"
   ]
  },
  {
   "cell_type": "markdown",
   "id": "384ecadb",
   "metadata": {
    "id": "384ecadb"
   },
   "source": [
    "### AdaBoost Classifier"
   ]
  },
  {
   "cell_type": "code",
   "execution_count": 67,
   "id": "b67ab23b",
   "metadata": {
    "colab": {
     "base_uri": "https://localhost:8080/"
    },
    "id": "b67ab23b",
    "outputId": "5ffaa1d1-fd91-427c-a1ac-440461adaac7"
   },
   "outputs": [
    {
     "name": "stdout",
     "output_type": "stream",
     "text": [
      "Train Accuracy: 52.49%\n",
      "Test Accuracy: 52.2%\n",
      "\n",
      "AdaBoost Classifier report: \n",
      "\n",
      "               precision    recall  f1-score   support\n",
      "\n",
      "           0       0.40      0.16      0.23      1645\n",
      "           1       0.54      0.91      0.67      3287\n",
      "           2       0.00      0.00      0.00      1298\n",
      "\n",
      "    accuracy                           0.52      6230\n",
      "   macro avg       0.31      0.36      0.30      6230\n",
      "weighted avg       0.39      0.52      0.42      6230\n",
      "\n"
     ]
    }
   ],
   "source": [
    "abc = AdaBoostClassifier()\n",
    "abc.fit(x_train, y_train)\n",
    "\n",
    "print('Train Accuracy: {}%'.format(round(abc.score(x_train, y_train)*100,2)))\n",
    "print(\"Test Accuracy: {}%\".format(round(abc.score(x_test, y_test)*100,2)))\n",
    "print()\n",
    "\n",
    "y_pred_abc = abc.predict(x_test)\n",
    "print(\"AdaBoost Classifier report: \\n\\n\", classification_report(y_test, y_pred_abc))"
   ]
  },
  {
   "cell_type": "code",
   "execution_count": 68,
   "id": "abc22c4e",
   "metadata": {
    "colab": {
     "base_uri": "https://localhost:8080/",
     "height": 641
    },
    "id": "abc22c4e",
    "outputId": "1161fd77-b27e-454c-e37c-f9a9f8ba1673"
   },
   "outputs": [
    {
     "data": {
      "image/png": "[encoded data removed]",
      "text/plain": [
       "<Figure size 504x504 with 2 Axes>"
      ]
     },
     "metadata": {
      "needs_background": "light"
     },
     "output_type": "display_data"
    }
   ],
   "source": [
    "cm = confusion_matrix(y_test,y_pred_abc)\n",
    "x_axis_labels = ['Approved','Deny','Settle']\n",
    "y_axis_labels = ['Approved','Deny','Settle']\n",
    "f, ax = plt.subplots(figsize =(7,7))\n",
    "sns.heatmap(cm, annot = True, linewidths=0.2, linecolor=\"black\", fmt = \".0f\", ax=ax, cmap=\"Purples\", xticklabels=x_axis_labels, yticklabels=y_axis_labels)\n",
    "plt.xlabel(\"PREDICTED VALUES\")\n",
    "plt.ylabel(\"ACTUAL VALUES\")\n",
    "plt.title('Confusion Matrix for AdaBoost Classifier')\n",
    "plt.show()"
   ]
  },
  {
   "cell_type": "markdown",
   "id": "71bf11fb",
   "metadata": {
    "id": "71bf11fb"
   },
   "source": [
    "### Gradient Boost Classifier"
   ]
  },
  {
   "cell_type": "code",
   "execution_count": 69,
   "id": "e2707f1d",
   "metadata": {
    "colab": {
     "base_uri": "https://localhost:8080/"
    },
    "id": "e2707f1d",
    "outputId": "766ae754-f7ea-41fa-c8f9-8764dcc9efcf"
   },
   "outputs": [
    {
     "name": "stdout",
     "output_type": "stream",
     "text": [
      "Train Accuracy: 54.84%\n",
      "Test Accuracy: 53.96%\n",
      "\n",
      "AdaBoost Classifier report: \n",
      "\n",
      "               precision    recall  f1-score   support\n",
      "\n",
      "           0       0.48      0.15      0.23      1645\n",
      "           1       0.55      0.94      0.69      3287\n",
      "           2       0.45      0.01      0.02      1298\n",
      "\n",
      "    accuracy                           0.54      6230\n",
      "   macro avg       0.49      0.37      0.31      6230\n",
      "weighted avg       0.51      0.54      0.43      6230\n",
      "\n"
     ]
    }
   ],
   "source": [
    "gbc = GradientBoostingClassifier()\n",
    "gbc.fit(x_train, y_train)\n",
    "\n",
    "print('Train Accuracy: {}%'.format(round(gbc.score(x_train, y_train)*100,2)))\n",
    "print(\"Test Accuracy: {}%\".format(round(gbc.score(x_test, y_test)*100,2)))\n",
    "print()\n",
    "\n",
    "y_pred_gbc = gbc.predict(x_test)\n",
    "print(\"AdaBoost Classifier report: \\n\\n\", classification_report(y_test, y_pred_gbc))"
   ]
  },
  {
   "cell_type": "code",
   "execution_count": 70,
   "id": "a627bf5a",
   "metadata": {
    "colab": {
     "base_uri": "https://localhost:8080/",
     "height": 641
    },
    "id": "a627bf5a",
    "outputId": "14ef1dcf-2f43-499b-c09f-d9334cf530fc"
   },
   "outputs": [
    {
     "data": {
      "image/png": "[encoded data removed]",
      "text/plain": [
       "<Figure size 504x504 with 2 Axes>"
      ]
     },
     "metadata": {
      "needs_background": "light"
     },
     "output_type": "display_data"
    }
   ],
   "source": [
    "cm = confusion_matrix(y_test,y_pred_gbc)\n",
    "x_axis_labels = ['Approved','Deny','Settle']\n",
    "y_axis_labels = ['Approved','Deny','Settle']\n",
    "f, ax = plt.subplots(figsize =(7,7))\n",
    "sns.heatmap(cm, annot = True, linewidths=0.2, linecolor=\"black\", fmt = \".0f\", ax=ax, cmap=\"Purples\", xticklabels=x_axis_labels, yticklabels=y_axis_labels)\n",
    "plt.xlabel(\"PREDICTED VALUES\")\n",
    "plt.ylabel(\"ACTUAL VALUES\")\n",
    "plt.title('Confusion Matrix for Gradient Boost Classifier')\n",
    "plt.show()"
   ]
  },
  {
   "cell_type": "markdown",
   "id": "bbde8dbd",
   "metadata": {
    "id": "bbde8dbd"
   },
   "source": [
    "Accuracy\n",
    "- **Logistic Regression(Multinomial)**  :      53.6 %\n",
    "- **Logistic Regression(OVR)**          :      52.95 %\n",
    "- **Gaussian Naive Bayes**              :      51.3 %\n",
    "- **Multinomial Naive Bayes**           :      50.6 %\n",
    "- **Bernoulli Naive Bayes**             :      52.77 %\n",
    "- **Decision Tree Classifier**          :      43.08 %\n",
    "- **Random Forest Classifier**          :      47.24 %\n",
    "- **AdaBoost Classifier**               :      52.2 %\n",
    "- **Gradient Boost Classifier**         :      53.96 %\n",
    "\n",
    "From the above confusion matrices it is clear that recall is important i.e. we need to reduce False-Positive value.\n",
    "Why Recall? Because Even though it says the insurance claim is denied, it is predicting it as approved or settled, this is not good for business.\n",
    "\n",
    "\n",
    "Recall\n",
    "- **Logistic Regression(Multinomial)**  :      0.97\n",
    "- **Logistic Regression(OVR)**          :      0.98\n",
    "- **Gaussian Naive Bayes**              :      0.88\n",
    "- **Multinomial Naive Bayes**           :      0.88\n",
    "- **Bernoulli Naive Bayes**             :      1.00\n",
    "- **Decision Tree Classifier**          :      0.54\n",
    "- **Random Forest Classifier**          :      0.65\n",
    "- **AdaBoost Classifier**               :      0.91\n",
    "- **Gradient Boost Classifier**         :      0.94\n",
    "\n",
    "From the above accuracy and recall: Logistic Regression(Multinomial), Logistic Regression(OVR) and Gradient Boost Classifier models have better accuracy and recall for the given problem classification.\n",
    "Since Bernoulli Naive Bayes is used for binary classification and since this is a three classification problem, no need to consider its accuracy and recall.\n",
    "\n",
    "Further hyperparameter tuning can be done for the above models. Also taking Random Forest Classifier."
   ]
  },
  {
   "cell_type": "markdown",
   "id": "7e06eeed",
   "metadata": {
    "id": "7e06eeed"
   },
   "source": [
    "### Logistic Regression hyperparamter tuning"
   ]
  },
  {
   "cell_type": "code",
   "execution_count": 77,
   "id": "e5c95713",
   "metadata": {
    "id": "e5c95713"
   },
   "outputs": [],
   "source": [
    "param_grid = {'penalty': ['l1','l2'],\n",
    "     'solver': ['newton-cg','liblinear','lbfgs'],\n",
    "     'multi_class': ['multinomial','ovr']\n",
    "    }"
   ]
  },
  {
   "cell_type": "code",
   "execution_count": 78,
   "id": "0321f1f6",
   "metadata": {
    "id": "0321f1f6"
   },
   "outputs": [],
   "source": [
    "clf_lr = GridSearchCV(lr, param_grid= param_grid, cv= 3)"
   ]
  },
  {
   "cell_type": "code",
   "execution_count": 73,
   "id": "32f9f5de",
   "metadata": {
    "colab": {
     "base_uri": "https://localhost:8080/",
     "height": 117
    },
    "id": "32f9f5de",
    "outputId": "28d93b98-405b-41cd-f48a-ae68646772c7"
   },
   "outputs": [
    {
     "data": {
      "text/html": [
       "<style>#sk-container-id-1 {color: black;background-color: white;}#sk-container-id-1 pre{padding: 0;}#sk-container-id-1 div.sk-toggleable {background-color: white;}#sk-container-id-1 label.sk-toggleable__label {cursor: pointer;display: block;width: 100%;margin-bottom: 0;padding: 0.3em;box-sizing: border-box;text-align: center;}#sk-container-id-1 label.sk-toggleable__label-arrow:before {content: \"▸\";float: left;margin-right: 0.25em;color: #696969;}#sk-container-id-1 label.sk-toggleable__label-arrow:hover:before {color: black;}#sk-container-id-1 div.sk-estimator:hover label.sk-toggleable__label-arrow:before {color: black;}#sk-container-id-1 div.sk-toggleable__content {max-height: 0;max-width: 0;overflow: hidden;text-align: left;background-color: #f0f8ff;}#sk-container-id-1 div.sk-toggleable__content pre {margin: 0.2em;color: black;border-radius: 0.25em;background-color: #f0f8ff;}#sk-container-id-1 input.sk-toggleable__control:checked~div.sk-toggleable__content {max-height: 200px;max-width: 100%;overflow: auto;}#sk-container-id-1 input.sk-toggleable__control:checked~label.sk-toggleable__label-arrow:before {content: \"▾\";}#sk-container-id-1 div.sk-estimator input.sk-toggleable__control:checked~label.sk-toggleable__label {background-color: #d4ebff;}#sk-container-id-1 div.sk-label input.sk-toggleable__control:checked~label.sk-toggleable__label {background-color: #d4ebff;}#sk-container-id-1 input.sk-hidden--visually {border: 0;clip: rect(1px 1px 1px 1px);clip: rect(1px, 1px, 1px, 1px);height: 1px;margin: -1px;overflow: hidden;padding: 0;position: absolute;width: 1px;}#sk-container-id-1 div.sk-estimator {font-family: monospace;background-color: #f0f8ff;border: 1px dotted black;border-radius: 0.25em;box-sizing: border-box;margin-bottom: 0.5em;}#sk-container-id-1 div.sk-estimator:hover {background-color: #d4ebff;}#sk-container-id-1 div.sk-parallel-item::after {content: \"\";width: 100%;border-bottom: 1px solid gray;flex-grow: 1;}#sk-container-id-1 div.sk-label:hover label.sk-toggleable__label {background-color: #d4ebff;}#sk-container-id-1 div.sk-serial::before {content: \"\";position: absolute;border-left: 1px solid gray;box-sizing: border-box;top: 0;bottom: 0;left: 50%;z-index: 0;}#sk-container-id-1 div.sk-serial {display: flex;flex-direction: column;align-items: center;background-color: white;padding-right: 0.2em;padding-left: 0.2em;position: relative;}#sk-container-id-1 div.sk-item {position: relative;z-index: 1;}#sk-container-id-1 div.sk-parallel {display: flex;align-items: stretch;justify-content: center;background-color: white;position: relative;}#sk-container-id-1 div.sk-item::before, #sk-container-id-1 div.sk-parallel-item::before {content: \"\";position: absolute;border-left: 1px solid gray;box-sizing: border-box;top: 0;bottom: 0;left: 50%;z-index: -1;}#sk-container-id-1 div.sk-parallel-item {display: flex;flex-direction: column;z-index: 1;position: relative;background-color: white;}#sk-container-id-1 div.sk-parallel-item:first-child::after {align-self: flex-end;width: 50%;}#sk-container-id-1 div.sk-parallel-item:last-child::after {align-self: flex-start;width: 50%;}#sk-container-id-1 div.sk-parallel-item:only-child::after {width: 0;}#sk-container-id-1 div.sk-dashed-wrapped {border: 1px dashed gray;margin: 0 0.4em 0.5em 0.4em;box-sizing: border-box;padding-bottom: 0.4em;background-color: white;}#sk-container-id-1 div.sk-label label {font-family: monospace;font-weight: bold;display: inline-block;line-height: 1.2em;}#sk-container-id-1 div.sk-label-container {text-align: center;}#sk-container-id-1 div.sk-container {/* jupyter's `normalize.less` sets `[hidden] { display: none; }` but bootstrap.min.css set `[hidden] { display: none !important; }` so we also need the `!important` here to be able to override the default hidden behavior on the sphinx rendered scikit-learn.org. See: https://github.com/scikit-learn/scikit-learn/issues/21755 */display: inline-block !important;position: relative;}#sk-container-id-1 div.sk-text-repr-fallback {display: none;}</style><div id=\"sk-container-id-1\" class=\"sk-top-container\"><div class=\"sk-text-repr-fallback\"><pre>GridSearchCV(cv=3, estimator=LogisticRegression(multi_class=&#x27;multinomial&#x27;),\n",
       "             param_grid={&#x27;multi_class&#x27;: [&#x27;multinomial&#x27;, &#x27;ovr&#x27;],\n",
       "                         &#x27;penalty&#x27;: [&#x27;l1&#x27;, &#x27;l2&#x27;],\n",
       "                         &#x27;solver&#x27;: [&#x27;newton-cg&#x27;, &#x27;liblinear&#x27;, &#x27;lbfgs&#x27;]})</pre><b>In a Jupyter environment, please rerun this cell to show the HTML representation or trust the notebook. <br />On GitHub, the HTML representation is unable to render, please try loading this page with nbviewer.org.</b></div><div class=\"sk-container\" hidden><div class=\"sk-item sk-dashed-wrapped\"><div class=\"sk-label-container\"><div class=\"sk-label sk-toggleable\"><input class=\"sk-toggleable__control sk-hidden--visually\" id=\"sk-estimator-id-1\" type=\"checkbox\" ><label for=\"sk-estimator-id-1\" class=\"sk-toggleable__label sk-toggleable__label-arrow\">GridSearchCV</label><div class=\"sk-toggleable__content\"><pre>GridSearchCV(cv=3, estimator=LogisticRegression(multi_class=&#x27;multinomial&#x27;),\n",
       "             param_grid={&#x27;multi_class&#x27;: [&#x27;multinomial&#x27;, &#x27;ovr&#x27;],\n",
       "                         &#x27;penalty&#x27;: [&#x27;l1&#x27;, &#x27;l2&#x27;],\n",
       "                         &#x27;solver&#x27;: [&#x27;newton-cg&#x27;, &#x27;liblinear&#x27;, &#x27;lbfgs&#x27;]})</pre></div></div></div><div class=\"sk-parallel\"><div class=\"sk-parallel-item\"><div class=\"sk-item\"><div class=\"sk-label-container\"><div class=\"sk-label sk-toggleable\"><input class=\"sk-toggleable__control sk-hidden--visually\" id=\"sk-estimator-id-2\" type=\"checkbox\" ><label for=\"sk-estimator-id-2\" class=\"sk-toggleable__label sk-toggleable__label-arrow\">estimator: LogisticRegression</label><div class=\"sk-toggleable__content\"><pre>LogisticRegression(multi_class=&#x27;multinomial&#x27;)</pre></div></div></div><div class=\"sk-serial\"><div class=\"sk-item\"><div class=\"sk-estimator sk-toggleable\"><input class=\"sk-toggleable__control sk-hidden--visually\" id=\"sk-estimator-id-3\" type=\"checkbox\" ><label for=\"sk-estimator-id-3\" class=\"sk-toggleable__label sk-toggleable__label-arrow\">LogisticRegression</label><div class=\"sk-toggleable__content\"><pre>LogisticRegression(multi_class=&#x27;multinomial&#x27;)</pre></div></div></div></div></div></div></div></div></div></div>"
      ],
      "text/plain": [
       "GridSearchCV(cv=3, estimator=LogisticRegression(multi_class='multinomial'),\n",
       "             param_grid={'multi_class': ['multinomial', 'ovr'],\n",
       "                         'penalty': ['l1', 'l2'],\n",
       "                         'solver': ['newton-cg', 'liblinear', 'lbfgs']})"
      ]
     },
     "execution_count": 73,
     "metadata": {},
     "output_type": "execute_result"
    }
   ],
   "source": [
    "# clf_lr.fit(x_train,y_train)"
   ]
  },
  {
   "cell_type": "code",
   "execution_count": 74,
   "id": "3596bae6",
   "metadata": {
    "colab": {
     "base_uri": "https://localhost:8080/"
    },
    "id": "3596bae6",
    "outputId": "da859d7c-e141-4f7c-cdf8-90c3c7730a61"
   },
   "outputs": [
    {
     "data": {
      "text/plain": [
       "{'multi_class': 'multinomial', 'penalty': 'l2', 'solver': 'lbfgs'}"
      ]
     },
     "execution_count": 74,
     "metadata": {},
     "output_type": "execute_result"
    }
   ],
   "source": [
    "# clf_lr.best_params_"
   ]
  },
  {
   "cell_type": "code",
   "execution_count": 71,
   "id": "a9997f14",
   "metadata": {
    "colab": {
     "base_uri": "https://localhost:8080/"
    },
    "id": "a9997f14",
    "outputId": "5195ba77-3f2a-4c72-f409-0cfa98802330"
   },
   "outputs": [
    {
     "name": "stdout",
     "output_type": "stream",
     "text": [
      "Train Accuracy: 53.65%\n",
      "Test Accuracy: 53.6%\n",
      "\n",
      "Logistic Regression Classifier report: \n",
      "\n",
      "               precision    recall  f1-score   support\n",
      "\n",
      "           0       0.47      0.09      0.15      1645\n",
      "           1       0.54      0.97      0.69      3287\n",
      "           2       0.00      0.00      0.00      1298\n",
      "\n",
      "    accuracy                           0.54      6230\n",
      "   macro avg       0.34      0.35      0.28      6230\n",
      "weighted avg       0.41      0.54      0.41      6230\n",
      "\n"
     ]
    }
   ],
   "source": [
    "lr_1 = LogisticRegression(multi_class='multinomial', penalty= 'l2', solver= 'lbfgs')\n",
    "lr_1.fit(x_train, y_train)\n",
    "\n",
    "print('Train Accuracy: {}%'.format(round(lr_1.score(x_train, y_train)*100,2)))\n",
    "print(\"Test Accuracy: {}%\".format(round(lr_1.score(x_test, y_test)*100,2)))\n",
    "print()\n",
    "\n",
    "y_pred_lr_1 = lr_1.predict(x_test)\n",
    "print(\"Logistic Regression Classifier report: \\n\\n\", classification_report(y_test, y_pred_lr_1))"
   ]
  },
  {
   "cell_type": "markdown",
   "id": "3z_uPWxWm-We",
   "metadata": {
    "id": "3z_uPWxWm-We"
   },
   "source": [
    "### Random Forest Classifier hyperparameter tuning"
   ]
  },
  {
   "cell_type": "code",
   "execution_count": 80,
   "id": "19c668a6",
   "metadata": {
    "id": "19c668a6"
   },
   "outputs": [],
   "source": [
    "param_grid = {\"n_estimators\" : [50, 100],\n",
    "              \"max_depth\" : [1,5],\n",
    "              \"max_features\" : [3, 5],\n",
    "              \"min_samples_leaf\" : [1, 2, 4]}"
   ]
  },
  {
   "cell_type": "code",
   "execution_count": 81,
   "id": "Z5vE_O4TnHN1",
   "metadata": {
    "id": "Z5vE_O4TnHN1"
   },
   "outputs": [],
   "source": [
    "clf_rfc = GridSearchCV(rfc, param_grid, cv=2)"
   ]
  },
  {
   "cell_type": "code",
   "execution_count": 86,
   "id": "1zVruZ0pnOyJ",
   "metadata": {
    "colab": {
     "base_uri": "https://localhost:8080/",
     "height": 117
    },
    "id": "1zVruZ0pnOyJ",
    "outputId": "7db89ba0-564a-414b-fa49-8c697b87f350"
   },
   "outputs": [
    {
     "data": {
      "text/html": [
       "<style>#sk-container-id-3 {color: black;background-color: white;}#sk-container-id-3 pre{padding: 0;}#sk-container-id-3 div.sk-toggleable {background-color: white;}#sk-container-id-3 label.sk-toggleable__label {cursor: pointer;display: block;width: 100%;margin-bottom: 0;padding: 0.3em;box-sizing: border-box;text-align: center;}#sk-container-id-3 label.sk-toggleable__label-arrow:before {content: \"▸\";float: left;margin-right: 0.25em;color: #696969;}#sk-container-id-3 label.sk-toggleable__label-arrow:hover:before {color: black;}#sk-container-id-3 div.sk-estimator:hover label.sk-toggleable__label-arrow:before {color: black;}#sk-container-id-3 div.sk-toggleable__content {max-height: 0;max-width: 0;overflow: hidden;text-align: left;background-color: #f0f8ff;}#sk-container-id-3 div.sk-toggleable__content pre {margin: 0.2em;color: black;border-radius: 0.25em;background-color: #f0f8ff;}#sk-container-id-3 input.sk-toggleable__control:checked~div.sk-toggleable__content {max-height: 200px;max-width: 100%;overflow: auto;}#sk-container-id-3 input.sk-toggleable__control:checked~label.sk-toggleable__label-arrow:before {content: \"▾\";}#sk-container-id-3 div.sk-estimator input.sk-toggleable__control:checked~label.sk-toggleable__label {background-color: #d4ebff;}#sk-container-id-3 div.sk-label input.sk-toggleable__control:checked~label.sk-toggleable__label {background-color: #d4ebff;}#sk-container-id-3 input.sk-hidden--visually {border: 0;clip: rect(1px 1px 1px 1px);clip: rect(1px, 1px, 1px, 1px);height: 1px;margin: -1px;overflow: hidden;padding: 0;position: absolute;width: 1px;}#sk-container-id-3 div.sk-estimator {font-family: monospace;background-color: #f0f8ff;border: 1px dotted black;border-radius: 0.25em;box-sizing: border-box;margin-bottom: 0.5em;}#sk-container-id-3 div.sk-estimator:hover {background-color: #d4ebff;}#sk-container-id-3 div.sk-parallel-item::after {content: \"\";width: 100%;border-bottom: 1px solid gray;flex-grow: 1;}#sk-container-id-3 div.sk-label:hover label.sk-toggleable__label {background-color: #d4ebff;}#sk-container-id-3 div.sk-serial::before {content: \"\";position: absolute;border-left: 1px solid gray;box-sizing: border-box;top: 0;bottom: 0;left: 50%;z-index: 0;}#sk-container-id-3 div.sk-serial {display: flex;flex-direction: column;align-items: center;background-color: white;padding-right: 0.2em;padding-left: 0.2em;position: relative;}#sk-container-id-3 div.sk-item {position: relative;z-index: 1;}#sk-container-id-3 div.sk-parallel {display: flex;align-items: stretch;justify-content: center;background-color: white;position: relative;}#sk-container-id-3 div.sk-item::before, #sk-container-id-3 div.sk-parallel-item::before {content: \"\";position: absolute;border-left: 1px solid gray;box-sizing: border-box;top: 0;bottom: 0;left: 50%;z-index: -1;}#sk-container-id-3 div.sk-parallel-item {display: flex;flex-direction: column;z-index: 1;position: relative;background-color: white;}#sk-container-id-3 div.sk-parallel-item:first-child::after {align-self: flex-end;width: 50%;}#sk-container-id-3 div.sk-parallel-item:last-child::after {align-self: flex-start;width: 50%;}#sk-container-id-3 div.sk-parallel-item:only-child::after {width: 0;}#sk-container-id-3 div.sk-dashed-wrapped {border: 1px dashed gray;margin: 0 0.4em 0.5em 0.4em;box-sizing: border-box;padding-bottom: 0.4em;background-color: white;}#sk-container-id-3 div.sk-label label {font-family: monospace;font-weight: bold;display: inline-block;line-height: 1.2em;}#sk-container-id-3 div.sk-label-container {text-align: center;}#sk-container-id-3 div.sk-container {/* jupyter's `normalize.less` sets `[hidden] { display: none; }` but bootstrap.min.css set `[hidden] { display: none !important; }` so we also need the `!important` here to be able to override the default hidden behavior on the sphinx rendered scikit-learn.org. See: https://github.com/scikit-learn/scikit-learn/issues/21755 */display: inline-block !important;position: relative;}#sk-container-id-3 div.sk-text-repr-fallback {display: none;}</style><div id=\"sk-container-id-3\" class=\"sk-top-container\"><div class=\"sk-text-repr-fallback\"><pre>GridSearchCV(cv=2, estimator=RandomForestClassifier(),\n",
       "             param_grid={&#x27;max_depth&#x27;: [1, 5], &#x27;max_features&#x27;: [3, 5],\n",
       "                         &#x27;min_samples_leaf&#x27;: [1, 2, 4],\n",
       "                         &#x27;n_estimators&#x27;: [50, 100]})</pre><b>In a Jupyter environment, please rerun this cell to show the HTML representation or trust the notebook. <br />On GitHub, the HTML representation is unable to render, please try loading this page with nbviewer.org.</b></div><div class=\"sk-container\" hidden><div class=\"sk-item sk-dashed-wrapped\"><div class=\"sk-label-container\"><div class=\"sk-label sk-toggleable\"><input class=\"sk-toggleable__control sk-hidden--visually\" id=\"sk-estimator-id-7\" type=\"checkbox\" ><label for=\"sk-estimator-id-7\" class=\"sk-toggleable__label sk-toggleable__label-arrow\">GridSearchCV</label><div class=\"sk-toggleable__content\"><pre>GridSearchCV(cv=2, estimator=RandomForestClassifier(),\n",
       "             param_grid={&#x27;max_depth&#x27;: [1, 5], &#x27;max_features&#x27;: [3, 5],\n",
       "                         &#x27;min_samples_leaf&#x27;: [1, 2, 4],\n",
       "                         &#x27;n_estimators&#x27;: [50, 100]})</pre></div></div></div><div class=\"sk-parallel\"><div class=\"sk-parallel-item\"><div class=\"sk-item\"><div class=\"sk-label-container\"><div class=\"sk-label sk-toggleable\"><input class=\"sk-toggleable__control sk-hidden--visually\" id=\"sk-estimator-id-8\" type=\"checkbox\" ><label for=\"sk-estimator-id-8\" class=\"sk-toggleable__label sk-toggleable__label-arrow\">estimator: RandomForestClassifier</label><div class=\"sk-toggleable__content\"><pre>RandomForestClassifier()</pre></div></div></div><div class=\"sk-serial\"><div class=\"sk-item\"><div class=\"sk-estimator sk-toggleable\"><input class=\"sk-toggleable__control sk-hidden--visually\" id=\"sk-estimator-id-9\" type=\"checkbox\" ><label for=\"sk-estimator-id-9\" class=\"sk-toggleable__label sk-toggleable__label-arrow\">RandomForestClassifier</label><div class=\"sk-toggleable__content\"><pre>RandomForestClassifier()</pre></div></div></div></div></div></div></div></div></div></div>"
      ],
      "text/plain": [
       "GridSearchCV(cv=2, estimator=RandomForestClassifier(),\n",
       "             param_grid={'max_depth': [1, 5], 'max_features': [3, 5],\n",
       "                         'min_samples_leaf': [1, 2, 4],\n",
       "                         'n_estimators': [50, 100]})"
      ]
     },
     "execution_count": 86,
     "metadata": {},
     "output_type": "execute_result"
    }
   ],
   "source": [
    "# clf_rfc.fit(x_train,y_train)"
   ]
  },
  {
   "cell_type": "code",
   "execution_count": 87,
   "id": "W7r5uCzlnSqU",
   "metadata": {
    "colab": {
     "base_uri": "https://localhost:8080/"
    },
    "id": "W7r5uCzlnSqU",
    "outputId": "c4e5592f-3622-4542-d66a-64d2842f76e6"
   },
   "outputs": [
    {
     "data": {
      "text/plain": [
       "{'max_depth': 5, 'max_features': 5, 'min_samples_leaf': 1, 'n_estimators': 100}"
      ]
     },
     "execution_count": 87,
     "metadata": {},
     "output_type": "execute_result"
    }
   ],
   "source": [
    "# clf_rfc.best_params_"
   ]
  },
  {
   "cell_type": "code",
   "execution_count": 72,
   "id": "OlOxqFAPnHAT",
   "metadata": {
    "colab": {
     "base_uri": "https://localhost:8080/"
    },
    "id": "OlOxqFAPnHAT",
    "outputId": "46467163-7d7f-4565-e550-b39e30fb31d6"
   },
   "outputs": [
    {
     "name": "stdout",
     "output_type": "stream",
     "text": [
      "Train Accuracy: 55.49%\n",
      "Test Accuracy: 55.02%\n",
      "\n",
      "Random Forest Classifier report: \n",
      "\n",
      "               precision    recall  f1-score   support\n",
      "\n",
      "           0       0.54      0.25      0.34      1645\n",
      "           1       0.55      0.91      0.69      3287\n",
      "           2       0.47      0.01      0.01      1298\n",
      "\n",
      "    accuracy                           0.55      6230\n",
      "   macro avg       0.52      0.39      0.35      6230\n",
      "weighted avg       0.53      0.55      0.46      6230\n",
      "\n"
     ]
    }
   ],
   "source": [
    "rfc1 = RandomForestClassifier(max_depth=5, max_features=5, min_samples_leaf=1, n_estimators=100)\n",
    "rfc1.fit(x_train, y_train)\n",
    "\n",
    "print('Train Accuracy: {}%'.format(round(rfc1.score(x_train, y_train)*100,2)))\n",
    "print(\"Test Accuracy: {}%\".format(round(rfc1.score(x_test, y_test)*100,2)))\n",
    "print()\n",
    "\n",
    "y_pred_rfc1 = rfc1.predict(x_test)\n",
    "print(\"Random Forest Classifier report: \\n\\n\", classification_report(y_test, y_pred_rfc1))"
   ]
  },
  {
   "cell_type": "markdown",
   "id": "9u9PxQhIxLu8",
   "metadata": {
    "id": "9u9PxQhIxLu8"
   },
   "source": [
    "### Gradient Boost Classifier hyperparameter tuning"
   ]
  },
  {
   "cell_type": "code",
   "execution_count": 83,
   "id": "zJIU6XvuxRbD",
   "metadata": {
    "id": "zJIU6XvuxRbD"
   },
   "outputs": [],
   "source": [
    "param_grid = {'n_estimators': [50, 100, 200],\n",
    "              'learning_rate': [0.01, 0.1, 1.0],\n",
    "              'max_depth': [3, 5, 7],\n",
    "              'min_samples_split': [2, 5, 10]}"
   ]
  },
  {
   "cell_type": "code",
   "execution_count": 84,
   "id": "B48MiVHexRQm",
   "metadata": {
    "id": "B48MiVHexRQm"
   },
   "outputs": [],
   "source": [
    "clf_gbc = GridSearchCV(gbc, param_grid, cv=5)"
   ]
  },
  {
   "cell_type": "code",
   "execution_count": 91,
   "id": "XsttLXU7xRGa",
   "metadata": {
    "colab": {
     "base_uri": "https://localhost:8080/",
     "height": 117
    },
    "id": "XsttLXU7xRGa",
    "outputId": "3e087351-c94e-4354-ebb0-6b764bd0d028"
   },
   "outputs": [
    {
     "data": {
      "text/html": [
       "<style>#sk-container-id-4 {color: black;background-color: white;}#sk-container-id-4 pre{padding: 0;}#sk-container-id-4 div.sk-toggleable {background-color: white;}#sk-container-id-4 label.sk-toggleable__label {cursor: pointer;display: block;width: 100%;margin-bottom: 0;padding: 0.3em;box-sizing: border-box;text-align: center;}#sk-container-id-4 label.sk-toggleable__label-arrow:before {content: \"▸\";float: left;margin-right: 0.25em;color: #696969;}#sk-container-id-4 label.sk-toggleable__label-arrow:hover:before {color: black;}#sk-container-id-4 div.sk-estimator:hover label.sk-toggleable__label-arrow:before {color: black;}#sk-container-id-4 div.sk-toggleable__content {max-height: 0;max-width: 0;overflow: hidden;text-align: left;background-color: #f0f8ff;}#sk-container-id-4 div.sk-toggleable__content pre {margin: 0.2em;color: black;border-radius: 0.25em;background-color: #f0f8ff;}#sk-container-id-4 input.sk-toggleable__control:checked~div.sk-toggleable__content {max-height: 200px;max-width: 100%;overflow: auto;}#sk-container-id-4 input.sk-toggleable__control:checked~label.sk-toggleable__label-arrow:before {content: \"▾\";}#sk-container-id-4 div.sk-estimator input.sk-toggleable__control:checked~label.sk-toggleable__label {background-color: #d4ebff;}#sk-container-id-4 div.sk-label input.sk-toggleable__control:checked~label.sk-toggleable__label {background-color: #d4ebff;}#sk-container-id-4 input.sk-hidden--visually {border: 0;clip: rect(1px 1px 1px 1px);clip: rect(1px, 1px, 1px, 1px);height: 1px;margin: -1px;overflow: hidden;padding: 0;position: absolute;width: 1px;}#sk-container-id-4 div.sk-estimator {font-family: monospace;background-color: #f0f8ff;border: 1px dotted black;border-radius: 0.25em;box-sizing: border-box;margin-bottom: 0.5em;}#sk-container-id-4 div.sk-estimator:hover {background-color: #d4ebff;}#sk-container-id-4 div.sk-parallel-item::after {content: \"\";width: 100%;border-bottom: 1px solid gray;flex-grow: 1;}#sk-container-id-4 div.sk-label:hover label.sk-toggleable__label {background-color: #d4ebff;}#sk-container-id-4 div.sk-serial::before {content: \"\";position: absolute;border-left: 1px solid gray;box-sizing: border-box;top: 0;bottom: 0;left: 50%;z-index: 0;}#sk-container-id-4 div.sk-serial {display: flex;flex-direction: column;align-items: center;background-color: white;padding-right: 0.2em;padding-left: 0.2em;position: relative;}#sk-container-id-4 div.sk-item {position: relative;z-index: 1;}#sk-container-id-4 div.sk-parallel {display: flex;align-items: stretch;justify-content: center;background-color: white;position: relative;}#sk-container-id-4 div.sk-item::before, #sk-container-id-4 div.sk-parallel-item::before {content: \"\";position: absolute;border-left: 1px solid gray;box-sizing: border-box;top: 0;bottom: 0;left: 50%;z-index: -1;}#sk-container-id-4 div.sk-parallel-item {display: flex;flex-direction: column;z-index: 1;position: relative;background-color: white;}#sk-container-id-4 div.sk-parallel-item:first-child::after {align-self: flex-end;width: 50%;}#sk-container-id-4 div.sk-parallel-item:last-child::after {align-self: flex-start;width: 50%;}#sk-container-id-4 div.sk-parallel-item:only-child::after {width: 0;}#sk-container-id-4 div.sk-dashed-wrapped {border: 1px dashed gray;margin: 0 0.4em 0.5em 0.4em;box-sizing: border-box;padding-bottom: 0.4em;background-color: white;}#sk-container-id-4 div.sk-label label {font-family: monospace;font-weight: bold;display: inline-block;line-height: 1.2em;}#sk-container-id-4 div.sk-label-container {text-align: center;}#sk-container-id-4 div.sk-container {/* jupyter's `normalize.less` sets `[hidden] { display: none; }` but bootstrap.min.css set `[hidden] { display: none !important; }` so we also need the `!important` here to be able to override the default hidden behavior on the sphinx rendered scikit-learn.org. See: https://github.com/scikit-learn/scikit-learn/issues/21755 */display: inline-block !important;position: relative;}#sk-container-id-4 div.sk-text-repr-fallback {display: none;}</style><div id=\"sk-container-id-4\" class=\"sk-top-container\"><div class=\"sk-text-repr-fallback\"><pre>GridSearchCV(cv=5, estimator=GradientBoostingClassifier(),\n",
       "             param_grid={&#x27;learning_rate&#x27;: [0.01, 0.1, 1.0],\n",
       "                         &#x27;max_depth&#x27;: [3, 5, 7],\n",
       "                         &#x27;min_samples_split&#x27;: [2, 5, 10],\n",
       "                         &#x27;n_estimators&#x27;: [50, 100, 200]})</pre><b>In a Jupyter environment, please rerun this cell to show the HTML representation or trust the notebook. <br />On GitHub, the HTML representation is unable to render, please try loading this page with nbviewer.org.</b></div><div class=\"sk-container\" hidden><div class=\"sk-item sk-dashed-wrapped\"><div class=\"sk-label-container\"><div class=\"sk-label sk-toggleable\"><input class=\"sk-toggleable__control sk-hidden--visually\" id=\"sk-estimator-id-10\" type=\"checkbox\" ><label for=\"sk-estimator-id-10\" class=\"sk-toggleable__label sk-toggleable__label-arrow\">GridSearchCV</label><div class=\"sk-toggleable__content\"><pre>GridSearchCV(cv=5, estimator=GradientBoostingClassifier(),\n",
       "             param_grid={&#x27;learning_rate&#x27;: [0.01, 0.1, 1.0],\n",
       "                         &#x27;max_depth&#x27;: [3, 5, 7],\n",
       "                         &#x27;min_samples_split&#x27;: [2, 5, 10],\n",
       "                         &#x27;n_estimators&#x27;: [50, 100, 200]})</pre></div></div></div><div class=\"sk-parallel\"><div class=\"sk-parallel-item\"><div class=\"sk-item\"><div class=\"sk-label-container\"><div class=\"sk-label sk-toggleable\"><input class=\"sk-toggleable__control sk-hidden--visually\" id=\"sk-estimator-id-11\" type=\"checkbox\" ><label for=\"sk-estimator-id-11\" class=\"sk-toggleable__label sk-toggleable__label-arrow\">estimator: GradientBoostingClassifier</label><div class=\"sk-toggleable__content\"><pre>GradientBoostingClassifier()</pre></div></div></div><div class=\"sk-serial\"><div class=\"sk-item\"><div class=\"sk-estimator sk-toggleable\"><input class=\"sk-toggleable__control sk-hidden--visually\" id=\"sk-estimator-id-12\" type=\"checkbox\" ><label for=\"sk-estimator-id-12\" class=\"sk-toggleable__label sk-toggleable__label-arrow\">GradientBoostingClassifier</label><div class=\"sk-toggleable__content\"><pre>GradientBoostingClassifier()</pre></div></div></div></div></div></div></div></div></div></div>"
      ],
      "text/plain": [
       "GridSearchCV(cv=5, estimator=GradientBoostingClassifier(),\n",
       "             param_grid={'learning_rate': [0.01, 0.1, 1.0],\n",
       "                         'max_depth': [3, 5, 7],\n",
       "                         'min_samples_split': [2, 5, 10],\n",
       "                         'n_estimators': [50, 100, 200]})"
      ]
     },
     "execution_count": 91,
     "metadata": {},
     "output_type": "execute_result"
    }
   ],
   "source": [
    "# clf_gbc.fit(x_train,y_train)"
   ]
  },
  {
   "cell_type": "code",
   "execution_count": 92,
   "id": "S2yxZpBOxQyd",
   "metadata": {
    "colab": {
     "base_uri": "https://localhost:8080/"
    },
    "id": "S2yxZpBOxQyd",
    "outputId": "86703457-75de-4853-8f68-6a51dcf3e117"
   },
   "outputs": [
    {
     "data": {
      "text/plain": [
       "{'learning_rate': 0.01,\n",
       " 'max_depth': 5,\n",
       " 'min_samples_split': 2,\n",
       " 'n_estimators': 200}"
      ]
     },
     "execution_count": 92,
     "metadata": {},
     "output_type": "execute_result"
    }
   ],
   "source": [
    "# clf_gbc.best_params_"
   ]
  },
  {
   "cell_type": "code",
   "execution_count": 73,
   "id": "4qKyZ5DHxgO3",
   "metadata": {
    "colab": {
     "base_uri": "https://localhost:8080/"
    },
    "id": "4qKyZ5DHxgO3",
    "outputId": "8f69f158-d228-4f8a-816e-f60571252fab"
   },
   "outputs": [
    {
     "name": "stdout",
     "output_type": "stream",
     "text": [
      "Train Accuracy: 55.55%\n",
      "Test Accuracy: 54.86%\n",
      "\n",
      "AdaBoost Classifier report: \n",
      "\n",
      "               precision    recall  f1-score   support\n",
      "\n",
      "           0       0.54      0.22      0.32      1645\n",
      "           1       0.55      0.93      0.69      3287\n",
      "           2       0.46      0.00      0.01      1298\n",
      "\n",
      "    accuracy                           0.55      6230\n",
      "   macro avg       0.52      0.38      0.34      6230\n",
      "weighted avg       0.53      0.55      0.45      6230\n",
      "\n"
     ]
    }
   ],
   "source": [
    "gbc1 = GradientBoostingClassifier(learning_rate=0.01, max_depth=5, min_samples_split=2, n_estimators=200)\n",
    "gbc1.fit(x_train, y_train)\n",
    "\n",
    "print('Train Accuracy: {}%'.format(round(gbc1.score(x_train, y_train)*100,2)))\n",
    "print(\"Test Accuracy: {}%\".format(round(gbc1.score(x_test, y_test)*100,2)))\n",
    "print()\n",
    "\n",
    "y_pred_gbc1 = gbc1.predict(x_test)\n",
    "print(\"AdaBoost Classifier report: \\n\\n\", classification_report(y_test, y_pred_gbc1))"
   ]
  },
  {
   "cell_type": "code",
   "execution_count": null,
   "id": "poPpgBj0xgEJ",
   "metadata": {
    "id": "poPpgBj0xgEJ"
   },
   "outputs": [],
   "source": []
  },
  {
   "cell_type": "markdown",
   "id": "308eba18",
   "metadata": {
    "id": "308eba18"
   },
   "source": [
    "### After hyperparameter tuning\n",
    "Accuracy\n",
    "- **Logistic Regression**               :      53.6 %\n",
    "- **Random Forest Classifier**          :      55.02 %\n",
    "- **Gradient Boost Classifier**         :      54.86 %\n",
    "\n",
    "From the above confusion matrices it is clear that recall is important i.e. we need to reduce False-Positive value.\n",
    "Why Recall? Because Even though it says the insurance claim is denied, it is predicting it as approved or settled, this is not good for business.\n",
    "\n",
    "\n",
    "Recall\n",
    "- **Logistic Regression**               :      0.97\n",
    "- **Random Forest Classifier**          :      0.91\n",
    "- **Gradient Boost Classifier**         :      0.93\n",
    "\n",
    "After hyperparameter tuning of the above models, **Gradient Boosting Classifier** model has the best overall metrics.\n"
   ]
  },
  {
   "cell_type": "code",
   "execution_count": 74,
   "id": "aa0b1d33",
   "metadata": {
    "colab": {
     "base_uri": "https://localhost:8080/"
    },
    "id": "aa0b1d33",
    "outputId": "9c4436da-3609-47bb-e7b5-b634a73bc4f7"
   },
   "outputs": [
    {
     "data": {
      "text/plain": [
       "array([0, 1, 1, ..., 0, 1, 1])"
      ]
     },
     "execution_count": 74,
     "metadata": {},
     "output_type": "execute_result"
    }
   ],
   "source": [
    "# prediction using the unseen test data\n",
    "predictions = gbc1.predict(test)\n",
    "predictions"
   ]
  },
  {
   "cell_type": "code",
   "execution_count": 75,
   "id": "f152ce62",
   "metadata": {
    "id": "f152ce62"
   },
   "outputs": [],
   "source": [
    "final_predictions = test.copy()\n",
    "final_predictions['Predictions'] = predictions"
   ]
  },
  {
   "cell_type": "code",
   "execution_count": 76,
   "id": "d2028f54",
   "metadata": {
    "colab": {
     "base_uri": "https://localhost:8080/",
     "height": 423
    },
    "id": "d2028f54",
    "outputId": "42f31d13-a410-4140-ed5b-d7bd28f72f04"
   },
   "outputs": [
    {
     "data": {
      "text/html": [
       "<div>\n",
       "<style scoped>\n",
       "    .dataframe tbody tr th:only-of-type {\n",
       "        vertical-align: middle;\n",
       "    }\n",
       "\n",
       "    .dataframe tbody tr th {\n",
       "        vertical-align: top;\n",
       "    }\n",
       "\n",
       "    .dataframe thead th {\n",
       "        text-align: right;\n",
       "    }\n",
       "</style>\n",
       "<table border=\"1\" class=\"dataframe\">\n",
       "  <thead>\n",
       "    <tr style=\"text-align: right;\">\n",
       "      <th></th>\n",
       "      <th>City</th>\n",
       "      <th>Enterprise Type</th>\n",
       "      <th>Claim Type</th>\n",
       "      <th>Claim Site</th>\n",
       "      <th>Product Insured</th>\n",
       "      <th>Reporting Delay</th>\n",
       "      <th>Predictions</th>\n",
       "    </tr>\n",
       "  </thead>\n",
       "  <tbody>\n",
       "    <tr>\n",
       "      <th>0</th>\n",
       "      <td>18</td>\n",
       "      <td>5</td>\n",
       "      <td>1</td>\n",
       "      <td>0</td>\n",
       "      <td>4</td>\n",
       "      <td>96</td>\n",
       "      <td>0</td>\n",
       "    </tr>\n",
       "    <tr>\n",
       "      <th>1</th>\n",
       "      <td>18</td>\n",
       "      <td>3</td>\n",
       "      <td>1</td>\n",
       "      <td>0</td>\n",
       "      <td>1</td>\n",
       "      <td>291</td>\n",
       "      <td>1</td>\n",
       "    </tr>\n",
       "    <tr>\n",
       "      <th>5</th>\n",
       "      <td>12</td>\n",
       "      <td>7</td>\n",
       "      <td>0</td>\n",
       "      <td>0</td>\n",
       "      <td>8</td>\n",
       "      <td>72</td>\n",
       "      <td>1</td>\n",
       "    </tr>\n",
       "    <tr>\n",
       "      <th>7</th>\n",
       "      <td>11</td>\n",
       "      <td>1</td>\n",
       "      <td>1</td>\n",
       "      <td>0</td>\n",
       "      <td>8</td>\n",
       "      <td>36</td>\n",
       "      <td>1</td>\n",
       "    </tr>\n",
       "    <tr>\n",
       "      <th>8</th>\n",
       "      <td>14</td>\n",
       "      <td>11</td>\n",
       "      <td>1</td>\n",
       "      <td>0</td>\n",
       "      <td>8</td>\n",
       "      <td>187</td>\n",
       "      <td>1</td>\n",
       "    </tr>\n",
       "    <tr>\n",
       "      <th>...</th>\n",
       "      <td>...</td>\n",
       "      <td>...</td>\n",
       "      <td>...</td>\n",
       "      <td>...</td>\n",
       "      <td>...</td>\n",
       "      <td>...</td>\n",
       "      <td>...</td>\n",
       "    </tr>\n",
       "    <tr>\n",
       "      <th>3783</th>\n",
       "      <td>19</td>\n",
       "      <td>4</td>\n",
       "      <td>1</td>\n",
       "      <td>0</td>\n",
       "      <td>8</td>\n",
       "      <td>16</td>\n",
       "      <td>1</td>\n",
       "    </tr>\n",
       "    <tr>\n",
       "      <th>3784</th>\n",
       "      <td>10</td>\n",
       "      <td>9</td>\n",
       "      <td>1</td>\n",
       "      <td>0</td>\n",
       "      <td>8</td>\n",
       "      <td>25</td>\n",
       "      <td>1</td>\n",
       "    </tr>\n",
       "    <tr>\n",
       "      <th>3785</th>\n",
       "      <td>4</td>\n",
       "      <td>11</td>\n",
       "      <td>1</td>\n",
       "      <td>0</td>\n",
       "      <td>4</td>\n",
       "      <td>56</td>\n",
       "      <td>0</td>\n",
       "    </tr>\n",
       "    <tr>\n",
       "      <th>3786</th>\n",
       "      <td>12</td>\n",
       "      <td>7</td>\n",
       "      <td>1</td>\n",
       "      <td>2</td>\n",
       "      <td>0</td>\n",
       "      <td>22</td>\n",
       "      <td>1</td>\n",
       "    </tr>\n",
       "    <tr>\n",
       "      <th>3787</th>\n",
       "      <td>15</td>\n",
       "      <td>12</td>\n",
       "      <td>1</td>\n",
       "      <td>0</td>\n",
       "      <td>11</td>\n",
       "      <td>19</td>\n",
       "      <td>1</td>\n",
       "    </tr>\n",
       "  </tbody>\n",
       "</table>\n",
       "<p>2719 rows × 7 columns</p>\n",
       "</div>"
      ],
      "text/plain": [
       "      City  Enterprise Type  Claim Type  Claim Site  Product Insured  \\\n",
       "0       18                5           1           0                4   \n",
       "1       18                3           1           0                1   \n",
       "5       12                7           0           0                8   \n",
       "7       11                1           1           0                8   \n",
       "8       14               11           1           0                8   \n",
       "...    ...              ...         ...         ...              ...   \n",
       "3783    19                4           1           0                8   \n",
       "3784    10                9           1           0                8   \n",
       "3785     4               11           1           0                4   \n",
       "3786    12                7           1           2                0   \n",
       "3787    15               12           1           0               11   \n",
       "\n",
       "      Reporting Delay  Predictions  \n",
       "0                  96            0  \n",
       "1                 291            1  \n",
       "5                  72            1  \n",
       "7                  36            1  \n",
       "8                 187            1  \n",
       "...               ...          ...  \n",
       "3783               16            1  \n",
       "3784               25            1  \n",
       "3785               56            0  \n",
       "3786               22            1  \n",
       "3787               19            1  \n",
       "\n",
       "[2719 rows x 7 columns]"
      ]
     },
     "execution_count": 76,
     "metadata": {},
     "output_type": "execute_result"
    }
   ],
   "source": [
    "final_predictions"
   ]
  },
  {
   "cell_type": "markdown",
   "id": "78de784e",
   "metadata": {
    "id": "78de784e"
   },
   "source": [
    "- 0: Approved\n",
    "- 1: Deny\n",
    "- 2: Settle"
   ]
  },
  {
   "cell_type": "code",
   "execution_count": 77,
   "id": "00c960fc",
   "metadata": {
    "id": "00c960fc"
   },
   "outputs": [],
   "source": [
    "pred = []\n",
    "for i in predictions:\n",
    "    if i==0:\n",
    "        pred.append('Approved in Full')\n",
    "    elif i==1:\n",
    "        pred.append('Deny')\n",
    "    else:\n",
    "        pred.append('Settle')"
   ]
  },
  {
   "cell_type": "code",
   "execution_count": 78,
   "id": "302ec849",
   "metadata": {
    "colab": {
     "base_uri": "https://localhost:8080/"
    },
    "id": "302ec849",
    "outputId": "adf92f2a-82c1-4520-ce70-5ea80f89cf0d"
   },
   "outputs": [
    {
     "data": {
      "text/plain": [
       "['Approved in Full', 'Deny', 'Deny', 'Deny', 'Deny']"
      ]
     },
     "execution_count": 78,
     "metadata": {},
     "output_type": "execute_result"
    }
   ],
   "source": [
    "pred[:5]"
   ]
  },
  {
   "cell_type": "code",
   "execution_count": 79,
   "id": "f5062c3b",
   "metadata": {
    "id": "f5062c3b"
   },
   "outputs": [],
   "source": [
    "test1 = pd.read_csv('test_data.csv')"
   ]
  },
  {
   "cell_type": "code",
   "execution_count": 80,
   "id": "56a88be3",
   "metadata": {
    "id": "56a88be3"
   },
   "outputs": [],
   "source": [
    "test1['Incident Date'] = pd.to_datetime(test1['Incident Date'])\n",
    "test1['Date Received'] = pd.to_datetime(test1['Date Received'])\n",
    "test1 = test1[(test1['Incident Date'] >= '2002-01-01') & (test1['Incident Date'] <= '2009-12-31')]\n",
    "test1 = test1[(test1['Date Received'] >= '2002-01-01') & (test1['Date Received'] <= '2009-12-31')]\n",
    "test1 = test1[test1['Incident Date'] <= test1['Date Received']]\n",
    "test1['Reporting Delay'] = (test1['Date Received'] - test1['Incident Date']).dt.days"
   ]
  },
  {
   "cell_type": "code",
   "execution_count": 81,
   "id": "f87afd50",
   "metadata": {
    "colab": {
     "base_uri": "https://localhost:8080/",
     "height": 658
    },
    "id": "f87afd50",
    "outputId": "322a168a-c5ab-4927-e55f-8abeadd8b40f"
   },
   "outputs": [
    {
     "data": {
      "text/html": [
       "<div>\n",
       "<style scoped>\n",
       "    .dataframe tbody tr th:only-of-type {\n",
       "        vertical-align: middle;\n",
       "    }\n",
       "\n",
       "    .dataframe tbody tr th {\n",
       "        vertical-align: top;\n",
       "    }\n",
       "\n",
       "    .dataframe thead th {\n",
       "        text-align: right;\n",
       "    }\n",
       "</style>\n",
       "<table border=\"1\" class=\"dataframe\">\n",
       "  <thead>\n",
       "    <tr style=\"text-align: right;\">\n",
       "      <th></th>\n",
       "      <th>Claim Number</th>\n",
       "      <th>Incident Date</th>\n",
       "      <th>Date Received</th>\n",
       "      <th>City Code</th>\n",
       "      <th>City</th>\n",
       "      <th>Enterprise Type</th>\n",
       "      <th>Claim Type</th>\n",
       "      <th>Claim Site</th>\n",
       "      <th>Product Insured</th>\n",
       "      <th>Reporting Delay</th>\n",
       "    </tr>\n",
       "  </thead>\n",
       "  <tbody>\n",
       "    <tr>\n",
       "      <th>0</th>\n",
       "      <td>6EYB31JGFR</td>\n",
       "      <td>2006-09-21</td>\n",
       "      <td>2006-12-26</td>\n",
       "      <td>PNQ</td>\n",
       "      <td>Pune</td>\n",
       "      <td>One Person Company</td>\n",
       "      <td>Property Loss</td>\n",
       "      <td>In Transit</td>\n",
       "      <td>Inventory - Finished Goods</td>\n",
       "      <td>96</td>\n",
       "    </tr>\n",
       "    <tr>\n",
       "      <th>1</th>\n",
       "      <td>HJLRXONE3R</td>\n",
       "      <td>2009-01-15</td>\n",
       "      <td>2009-11-02</td>\n",
       "      <td>PNQ</td>\n",
       "      <td>Pune</td>\n",
       "      <td>Limited Liability Parterneship (LLP)</td>\n",
       "      <td>Property Loss</td>\n",
       "      <td>In Transit</td>\n",
       "      <td>Fixtures</td>\n",
       "      <td>291</td>\n",
       "    </tr>\n",
       "    <tr>\n",
       "      <th>5</th>\n",
       "      <td>20UXJ7Z5HQ</td>\n",
       "      <td>2003-11-09</td>\n",
       "      <td>2004-01-20</td>\n",
       "      <td>CCU</td>\n",
       "      <td>Kolkata</td>\n",
       "      <td>Private Limited Company</td>\n",
       "      <td>Property Damage</td>\n",
       "      <td>In Transit</td>\n",
       "      <td>Misc. Engineering Tools</td>\n",
       "      <td>72</td>\n",
       "    </tr>\n",
       "    <tr>\n",
       "      <th>7</th>\n",
       "      <td>Y43BP6HD3O</td>\n",
       "      <td>2005-03-14</td>\n",
       "      <td>2005-04-19</td>\n",
       "      <td>KNU</td>\n",
       "      <td>Kanpur</td>\n",
       "      <td>Foreign Subsidary</td>\n",
       "      <td>Property Loss</td>\n",
       "      <td>In Transit</td>\n",
       "      <td>Misc. Engineering Tools</td>\n",
       "      <td>36</td>\n",
       "    </tr>\n",
       "    <tr>\n",
       "      <th>8</th>\n",
       "      <td>OL4T3DPBEN</td>\n",
       "      <td>2008-12-26</td>\n",
       "      <td>2009-07-01</td>\n",
       "      <td>BOM</td>\n",
       "      <td>Mumbai</td>\n",
       "      <td>Public Limited Company</td>\n",
       "      <td>Property Loss</td>\n",
       "      <td>In Transit</td>\n",
       "      <td>Misc. Engineering Tools</td>\n",
       "      <td>187</td>\n",
       "    </tr>\n",
       "    <tr>\n",
       "      <th>...</th>\n",
       "      <td>...</td>\n",
       "      <td>...</td>\n",
       "      <td>...</td>\n",
       "      <td>...</td>\n",
       "      <td>...</td>\n",
       "      <td>...</td>\n",
       "      <td>...</td>\n",
       "      <td>...</td>\n",
       "      <td>...</td>\n",
       "      <td>...</td>\n",
       "    </tr>\n",
       "    <tr>\n",
       "      <th>3783</th>\n",
       "      <td>V4BF1PX1YQ</td>\n",
       "      <td>2005-06-05</td>\n",
       "      <td>2005-06-21</td>\n",
       "      <td>STV</td>\n",
       "      <td>Surat</td>\n",
       "      <td>Non-Profit Organization (NPO)</td>\n",
       "      <td>Property Loss</td>\n",
       "      <td>In Transit</td>\n",
       "      <td>Misc. Engineering Tools</td>\n",
       "      <td>16</td>\n",
       "    </tr>\n",
       "    <tr>\n",
       "      <th>3784</th>\n",
       "      <td>BOY8E14NRB</td>\n",
       "      <td>2005-09-26</td>\n",
       "      <td>2005-10-21</td>\n",
       "      <td>JAI</td>\n",
       "      <td>Jaipur</td>\n",
       "      <td>Private Ltd. MSME - Micro</td>\n",
       "      <td>Property Loss</td>\n",
       "      <td>In Transit</td>\n",
       "      <td>Misc. Engineering Tools</td>\n",
       "      <td>25</td>\n",
       "    </tr>\n",
       "    <tr>\n",
       "      <th>3785</th>\n",
       "      <td>DIWWILJPSI</td>\n",
       "      <td>2009-06-23</td>\n",
       "      <td>2009-08-18</td>\n",
       "      <td>BHO</td>\n",
       "      <td>Bhopal</td>\n",
       "      <td>Public Limited Company</td>\n",
       "      <td>Property Loss</td>\n",
       "      <td>In Transit</td>\n",
       "      <td>Inventory - Finished Goods</td>\n",
       "      <td>56</td>\n",
       "    </tr>\n",
       "    <tr>\n",
       "      <th>3786</th>\n",
       "      <td>IMQYY73AOP</td>\n",
       "      <td>2007-07-30</td>\n",
       "      <td>2007-08-21</td>\n",
       "      <td>CCU</td>\n",
       "      <td>Kolkata</td>\n",
       "      <td>Private Limited Company</td>\n",
       "      <td>Property Loss</td>\n",
       "      <td>Warehouse</td>\n",
       "      <td>Cameras and other Misc. Security Equipment</td>\n",
       "      <td>22</td>\n",
       "    </tr>\n",
       "    <tr>\n",
       "      <th>3787</th>\n",
       "      <td>2AR1OGIMH4</td>\n",
       "      <td>2004-08-21</td>\n",
       "      <td>2004-09-09</td>\n",
       "      <td>NGP</td>\n",
       "      <td>Nagpur</td>\n",
       "      <td>Sole Proprietorship</td>\n",
       "      <td>Property Loss</td>\n",
       "      <td>In Transit</td>\n",
       "      <td>Property, Plant, and Equipment (PPE) Parts</td>\n",
       "      <td>19</td>\n",
       "    </tr>\n",
       "  </tbody>\n",
       "</table>\n",
       "<p>2719 rows × 10 columns</p>\n",
       "</div>"
      ],
      "text/plain": [
       "     Claim Number Incident Date Date Received City Code     City  \\\n",
       "0      6EYB31JGFR    2006-09-21    2006-12-26       PNQ     Pune   \n",
       "1      HJLRXONE3R    2009-01-15    2009-11-02       PNQ     Pune   \n",
       "5      20UXJ7Z5HQ    2003-11-09    2004-01-20       CCU  Kolkata   \n",
       "7      Y43BP6HD3O    2005-03-14    2005-04-19       KNU   Kanpur   \n",
       "8      OL4T3DPBEN    2008-12-26    2009-07-01       BOM   Mumbai   \n",
       "...           ...           ...           ...       ...      ...   \n",
       "3783   V4BF1PX1YQ    2005-06-05    2005-06-21       STV    Surat   \n",
       "3784   BOY8E14NRB    2005-09-26    2005-10-21       JAI   Jaipur   \n",
       "3785   DIWWILJPSI    2009-06-23    2009-08-18       BHO   Bhopal   \n",
       "3786   IMQYY73AOP    2007-07-30    2007-08-21       CCU  Kolkata   \n",
       "3787   2AR1OGIMH4    2004-08-21    2004-09-09       NGP   Nagpur   \n",
       "\n",
       "                           Enterprise Type       Claim Type  Claim Site  \\\n",
       "0                       One Person Company    Property Loss  In Transit   \n",
       "1     Limited Liability Parterneship (LLP)    Property Loss  In Transit   \n",
       "5                  Private Limited Company  Property Damage  In Transit   \n",
       "7                        Foreign Subsidary    Property Loss  In Transit   \n",
       "8                   Public Limited Company    Property Loss  In Transit   \n",
       "...                                    ...              ...         ...   \n",
       "3783         Non-Profit Organization (NPO)    Property Loss  In Transit   \n",
       "3784             Private Ltd. MSME - Micro    Property Loss  In Transit   \n",
       "3785                Public Limited Company    Property Loss  In Transit   \n",
       "3786               Private Limited Company    Property Loss   Warehouse   \n",
       "3787                   Sole Proprietorship    Property Loss  In Transit   \n",
       "\n",
       "                                 Product Insured  Reporting Delay  \n",
       "0                     Inventory - Finished Goods               96  \n",
       "1                                       Fixtures              291  \n",
       "5                        Misc. Engineering Tools               72  \n",
       "7                        Misc. Engineering Tools               36  \n",
       "8                        Misc. Engineering Tools              187  \n",
       "...                                          ...              ...  \n",
       "3783                     Misc. Engineering Tools               16  \n",
       "3784                     Misc. Engineering Tools               25  \n",
       "3785                  Inventory - Finished Goods               56  \n",
       "3786  Cameras and other Misc. Security Equipment               22  \n",
       "3787  Property, Plant, and Equipment (PPE) Parts               19  \n",
       "\n",
       "[2719 rows x 10 columns]"
      ]
     },
     "execution_count": 81,
     "metadata": {},
     "output_type": "execute_result"
    }
   ],
   "source": [
    "test1"
   ]
  },
  {
   "cell_type": "code",
   "execution_count": 82,
   "id": "25b73552",
   "metadata": {
    "id": "25b73552"
   },
   "outputs": [],
   "source": [
    "test1['Predictions'] = pred"
   ]
  },
  {
   "cell_type": "code",
   "execution_count": 83,
   "id": "3cff8c39",
   "metadata": {
    "colab": {
     "base_uri": "https://localhost:8080/",
     "height": 693
    },
    "id": "3cff8c39",
    "outputId": "b7b3e278-b396-4914-ce2d-0c60fa75e150"
   },
   "outputs": [
    {
     "data": {
      "text/html": [
       "<div>\n",
       "<style scoped>\n",
       "    .dataframe tbody tr th:only-of-type {\n",
       "        vertical-align: middle;\n",
       "    }\n",
       "\n",
       "    .dataframe tbody tr th {\n",
       "        vertical-align: top;\n",
       "    }\n",
       "\n",
       "    .dataframe thead th {\n",
       "        text-align: right;\n",
       "    }\n",
       "</style>\n",
       "<table border=\"1\" class=\"dataframe\">\n",
       "  <thead>\n",
       "    <tr style=\"text-align: right;\">\n",
       "      <th></th>\n",
       "      <th>Claim Number</th>\n",
       "      <th>Incident Date</th>\n",
       "      <th>Date Received</th>\n",
       "      <th>City Code</th>\n",
       "      <th>City</th>\n",
       "      <th>Enterprise Type</th>\n",
       "      <th>Claim Type</th>\n",
       "      <th>Claim Site</th>\n",
       "      <th>Product Insured</th>\n",
       "      <th>Reporting Delay</th>\n",
       "      <th>Predictions</th>\n",
       "    </tr>\n",
       "  </thead>\n",
       "  <tbody>\n",
       "    <tr>\n",
       "      <th>0</th>\n",
       "      <td>6EYB31JGFR</td>\n",
       "      <td>2006-09-21</td>\n",
       "      <td>2006-12-26</td>\n",
       "      <td>PNQ</td>\n",
       "      <td>Pune</td>\n",
       "      <td>One Person Company</td>\n",
       "      <td>Property Loss</td>\n",
       "      <td>In Transit</td>\n",
       "      <td>Inventory - Finished Goods</td>\n",
       "      <td>96</td>\n",
       "      <td>Approved in Full</td>\n",
       "    </tr>\n",
       "    <tr>\n",
       "      <th>1</th>\n",
       "      <td>HJLRXONE3R</td>\n",
       "      <td>2009-01-15</td>\n",
       "      <td>2009-11-02</td>\n",
       "      <td>PNQ</td>\n",
       "      <td>Pune</td>\n",
       "      <td>Limited Liability Parterneship (LLP)</td>\n",
       "      <td>Property Loss</td>\n",
       "      <td>In Transit</td>\n",
       "      <td>Fixtures</td>\n",
       "      <td>291</td>\n",
       "      <td>Deny</td>\n",
       "    </tr>\n",
       "    <tr>\n",
       "      <th>5</th>\n",
       "      <td>20UXJ7Z5HQ</td>\n",
       "      <td>2003-11-09</td>\n",
       "      <td>2004-01-20</td>\n",
       "      <td>CCU</td>\n",
       "      <td>Kolkata</td>\n",
       "      <td>Private Limited Company</td>\n",
       "      <td>Property Damage</td>\n",
       "      <td>In Transit</td>\n",
       "      <td>Misc. Engineering Tools</td>\n",
       "      <td>72</td>\n",
       "      <td>Deny</td>\n",
       "    </tr>\n",
       "    <tr>\n",
       "      <th>7</th>\n",
       "      <td>Y43BP6HD3O</td>\n",
       "      <td>2005-03-14</td>\n",
       "      <td>2005-04-19</td>\n",
       "      <td>KNU</td>\n",
       "      <td>Kanpur</td>\n",
       "      <td>Foreign Subsidary</td>\n",
       "      <td>Property Loss</td>\n",
       "      <td>In Transit</td>\n",
       "      <td>Misc. Engineering Tools</td>\n",
       "      <td>36</td>\n",
       "      <td>Deny</td>\n",
       "    </tr>\n",
       "    <tr>\n",
       "      <th>8</th>\n",
       "      <td>OL4T3DPBEN</td>\n",
       "      <td>2008-12-26</td>\n",
       "      <td>2009-07-01</td>\n",
       "      <td>BOM</td>\n",
       "      <td>Mumbai</td>\n",
       "      <td>Public Limited Company</td>\n",
       "      <td>Property Loss</td>\n",
       "      <td>In Transit</td>\n",
       "      <td>Misc. Engineering Tools</td>\n",
       "      <td>187</td>\n",
       "      <td>Deny</td>\n",
       "    </tr>\n",
       "    <tr>\n",
       "      <th>...</th>\n",
       "      <td>...</td>\n",
       "      <td>...</td>\n",
       "      <td>...</td>\n",
       "      <td>...</td>\n",
       "      <td>...</td>\n",
       "      <td>...</td>\n",
       "      <td>...</td>\n",
       "      <td>...</td>\n",
       "      <td>...</td>\n",
       "      <td>...</td>\n",
       "      <td>...</td>\n",
       "    </tr>\n",
       "    <tr>\n",
       "      <th>3783</th>\n",
       "      <td>V4BF1PX1YQ</td>\n",
       "      <td>2005-06-05</td>\n",
       "      <td>2005-06-21</td>\n",
       "      <td>STV</td>\n",
       "      <td>Surat</td>\n",
       "      <td>Non-Profit Organization (NPO)</td>\n",
       "      <td>Property Loss</td>\n",
       "      <td>In Transit</td>\n",
       "      <td>Misc. Engineering Tools</td>\n",
       "      <td>16</td>\n",
       "      <td>Deny</td>\n",
       "    </tr>\n",
       "    <tr>\n",
       "      <th>3784</th>\n",
       "      <td>BOY8E14NRB</td>\n",
       "      <td>2005-09-26</td>\n",
       "      <td>2005-10-21</td>\n",
       "      <td>JAI</td>\n",
       "      <td>Jaipur</td>\n",
       "      <td>Private Ltd. MSME - Micro</td>\n",
       "      <td>Property Loss</td>\n",
       "      <td>In Transit</td>\n",
       "      <td>Misc. Engineering Tools</td>\n",
       "      <td>25</td>\n",
       "      <td>Deny</td>\n",
       "    </tr>\n",
       "    <tr>\n",
       "      <th>3785</th>\n",
       "      <td>DIWWILJPSI</td>\n",
       "      <td>2009-06-23</td>\n",
       "      <td>2009-08-18</td>\n",
       "      <td>BHO</td>\n",
       "      <td>Bhopal</td>\n",
       "      <td>Public Limited Company</td>\n",
       "      <td>Property Loss</td>\n",
       "      <td>In Transit</td>\n",
       "      <td>Inventory - Finished Goods</td>\n",
       "      <td>56</td>\n",
       "      <td>Approved in Full</td>\n",
       "    </tr>\n",
       "    <tr>\n",
       "      <th>3786</th>\n",
       "      <td>IMQYY73AOP</td>\n",
       "      <td>2007-07-30</td>\n",
       "      <td>2007-08-21</td>\n",
       "      <td>CCU</td>\n",
       "      <td>Kolkata</td>\n",
       "      <td>Private Limited Company</td>\n",
       "      <td>Property Loss</td>\n",
       "      <td>Warehouse</td>\n",
       "      <td>Cameras and other Misc. Security Equipment</td>\n",
       "      <td>22</td>\n",
       "      <td>Deny</td>\n",
       "    </tr>\n",
       "    <tr>\n",
       "      <th>3787</th>\n",
       "      <td>2AR1OGIMH4</td>\n",
       "      <td>2004-08-21</td>\n",
       "      <td>2004-09-09</td>\n",
       "      <td>NGP</td>\n",
       "      <td>Nagpur</td>\n",
       "      <td>Sole Proprietorship</td>\n",
       "      <td>Property Loss</td>\n",
       "      <td>In Transit</td>\n",
       "      <td>Property, Plant, and Equipment (PPE) Parts</td>\n",
       "      <td>19</td>\n",
       "      <td>Deny</td>\n",
       "    </tr>\n",
       "  </tbody>\n",
       "</table>\n",
       "<p>2719 rows × 11 columns</p>\n",
       "</div>"
      ],
      "text/plain": [
       "     Claim Number Incident Date Date Received City Code     City  \\\n",
       "0      6EYB31JGFR    2006-09-21    2006-12-26       PNQ     Pune   \n",
       "1      HJLRXONE3R    2009-01-15    2009-11-02       PNQ     Pune   \n",
       "5      20UXJ7Z5HQ    2003-11-09    2004-01-20       CCU  Kolkata   \n",
       "7      Y43BP6HD3O    2005-03-14    2005-04-19       KNU   Kanpur   \n",
       "8      OL4T3DPBEN    2008-12-26    2009-07-01       BOM   Mumbai   \n",
       "...           ...           ...           ...       ...      ...   \n",
       "3783   V4BF1PX1YQ    2005-06-05    2005-06-21       STV    Surat   \n",
       "3784   BOY8E14NRB    2005-09-26    2005-10-21       JAI   Jaipur   \n",
       "3785   DIWWILJPSI    2009-06-23    2009-08-18       BHO   Bhopal   \n",
       "3786   IMQYY73AOP    2007-07-30    2007-08-21       CCU  Kolkata   \n",
       "3787   2AR1OGIMH4    2004-08-21    2004-09-09       NGP   Nagpur   \n",
       "\n",
       "                           Enterprise Type       Claim Type  Claim Site  \\\n",
       "0                       One Person Company    Property Loss  In Transit   \n",
       "1     Limited Liability Parterneship (LLP)    Property Loss  In Transit   \n",
       "5                  Private Limited Company  Property Damage  In Transit   \n",
       "7                        Foreign Subsidary    Property Loss  In Transit   \n",
       "8                   Public Limited Company    Property Loss  In Transit   \n",
       "...                                    ...              ...         ...   \n",
       "3783         Non-Profit Organization (NPO)    Property Loss  In Transit   \n",
       "3784             Private Ltd. MSME - Micro    Property Loss  In Transit   \n",
       "3785                Public Limited Company    Property Loss  In Transit   \n",
       "3786               Private Limited Company    Property Loss   Warehouse   \n",
       "3787                   Sole Proprietorship    Property Loss  In Transit   \n",
       "\n",
       "                                 Product Insured  Reporting Delay  \\\n",
       "0                     Inventory - Finished Goods               96   \n",
       "1                                       Fixtures              291   \n",
       "5                        Misc. Engineering Tools               72   \n",
       "7                        Misc. Engineering Tools               36   \n",
       "8                        Misc. Engineering Tools              187   \n",
       "...                                          ...              ...   \n",
       "3783                     Misc. Engineering Tools               16   \n",
       "3784                     Misc. Engineering Tools               25   \n",
       "3785                  Inventory - Finished Goods               56   \n",
       "3786  Cameras and other Misc. Security Equipment               22   \n",
       "3787  Property, Plant, and Equipment (PPE) Parts               19   \n",
       "\n",
       "           Predictions  \n",
       "0     Approved in Full  \n",
       "1                 Deny  \n",
       "5                 Deny  \n",
       "7                 Deny  \n",
       "8                 Deny  \n",
       "...                ...  \n",
       "3783              Deny  \n",
       "3784              Deny  \n",
       "3785  Approved in Full  \n",
       "3786              Deny  \n",
       "3787              Deny  \n",
       "\n",
       "[2719 rows x 11 columns]"
      ]
     },
     "execution_count": 83,
     "metadata": {},
     "output_type": "execute_result"
    }
   ],
   "source": [
    "test1"
   ]
  },
  {
   "cell_type": "code",
   "execution_count": 84,
   "id": "1ed8222b",
   "metadata": {},
   "outputs": [
    {
     "data": {
      "text/plain": [
       "Deny                88.230967\n",
       "Approved in Full    11.658698\n",
       "Settle               0.110335\n",
       "Name: Predictions, dtype: float64"
      ]
     },
     "execution_count": 84,
     "metadata": {},
     "output_type": "execute_result"
    }
   ],
   "source": [
    "test1['Predictions'].value_counts(normalize=True) *100"
   ]
  },
  {
   "cell_type": "markdown",
   "id": "6fed7c69",
   "metadata": {},
   "source": [
    "> In overall predictions for unseen data, \n",
    ">> **Deny** was the most predicted value with **88.23%** <br>\n",
    ">> **Approved in Full 11.65%** <br>\n",
    ">> **Settle 0.11%**"
   ]
  },
  {
   "cell_type": "code",
   "execution_count": 85,
   "id": "71a83200",
   "metadata": {
    "id": "71a83200"
   },
   "outputs": [],
   "source": [
    "test1.to_csv('Final_Predictions.csv', index=False)"
   ]
  },
  {
   "cell_type": "code",
   "execution_count": null,
   "id": "a566124b",
   "metadata": {
    "id": "a566124b"
   },
   "outputs": [],
   "source": []
  }
 ],
 "metadata": {
  "accelerator": "GPU",
  "colab": {
   "provenance": []
  },
  "gpuClass": "standard",
  "kernelspec": {
   "display_name": "Python 3 (ipykernel)",
   "language": "python",
   "name": "python3"
  },
  "language_info": {
   "codemirror_mode": {
    "name": "ipython",
    "version": 3
   },
   "file_extension": ".py",
   "mimetype": "text/x-python",
   "name": "python",
   "nbconvert_exporter": "python",
   "pygments_lexer": "ipython3",
   "version": "3.9.12"
  }
 },
 "nbformat": 4,
 "nbformat_minor": 5
}
